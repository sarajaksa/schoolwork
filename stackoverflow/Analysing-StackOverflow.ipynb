{
 "cells": [
  {
   "cell_type": "markdown",
   "metadata": {},
   "source": [
    "# Analysing StackOverflow Data"
   ]
  },
  {
   "cell_type": "markdown",
   "metadata": {},
   "source": [
    "Created by: Sarah El Hindy and Sara Jakša"
   ]
  },
  {
   "cell_type": "markdown",
   "metadata": {},
   "source": [
    "For this project, we are going to be analysing the data of answers and questions from the programming site StackOverflow."
   ]
  },
  {
   "cell_type": "markdown",
   "metadata": {},
   "source": [
    "The data was found on Kaggle: https://www.kaggle.com/stackoverflow/stacksample"
   ]
  },
  {
   "cell_type": "code",
   "execution_count": 2,
   "metadata": {},
   "outputs": [],
   "source": [
    "from sklearn.model_selection import train_test_split\n",
    "import matplotlib.pyplot as plt\n",
    "from sklearn.linear_model import LinearRegression\n",
    "from sklearn.metrics import confusion_matrix\n",
    "from scipy.stats import chi2_contingency\n",
    "from collections import defaultdict\n",
    "import statsmodels.formula.api as smf\n",
    "from bs4 import BeautifulSoup\n",
    "import pandas as pd\n",
    "import numpy as np\n",
    "import math\n",
    "import csv\n",
    "%matplotlib inline"
   ]
  },
  {
   "cell_type": "markdown",
   "metadata": {},
   "source": [
    "We are going to be researching only 7 languages, because these are the langauges that we are the most interested in. There are simply here because we will need them later on."
   ]
  },
  {
   "cell_type": "code",
   "execution_count": 2,
   "metadata": {
    "collapsed": true
   },
   "outputs": [],
   "source": [
    "languages = [\"c++\", \"c\", \"c#\", \"java\", \"python\", \"r\", \"lisp\"]"
   ]
  },
  {
   "cell_type": "markdown",
   "metadata": {},
   "source": [
    "## Average nb of answers to different Programming Language questions"
   ]
  },
  {
   "cell_type": "markdown",
   "metadata": {},
   "source": [
    "Before analyzing the relation between the chosen programming languages and the MBTI personality type of the programmers, we are going to examine which programming language questions on Stack Overflow receive the most number of answers on average."
   ]
  },
  {
   "cell_type": "code",
   "execution_count": 4,
   "metadata": {},
   "outputs": [
    {
     "data": {
      "text/plain": [
       "3750995"
      ]
     },
     "execution_count": 4,
     "metadata": {},
     "output_type": "execute_result"
    }
   ],
   "source": [
    "with open(\"Tags.csv\", \"r\") as read:\n",
    "    lines = read.readlines()\n",
    "len(lines)"
   ]
  },
  {
   "cell_type": "code",
   "execution_count": 5,
   "metadata": {},
   "outputs": [
    {
     "data": {
      "text/plain": [
       "['Id,Tag\\n', '80,flex\\n', '80,actionscript-3\\n', '80,air\\n', '90,svn\\n']"
      ]
     },
     "execution_count": 5,
     "metadata": {},
     "output_type": "execute_result"
    }
   ],
   "source": [
    "lines[:5]"
   ]
  },
  {
   "cell_type": "code",
   "execution_count": 6,
   "metadata": {},
   "outputs": [
    {
     "data": {
      "text/plain": [
       "37036"
      ]
     },
     "execution_count": 6,
     "metadata": {},
     "output_type": "execute_result"
    }
   ],
   "source": [
    "questions_with_tags = defaultdict(set)\n",
    "\n",
    "for line in lines[1:]:\n",
    "    question, tag = line.strip().split(\",\")\n",
    "    questions_with_tags[tag].add(question)\n",
    "    \n",
    "len(questions_with_tags)"
   ]
  },
  {
   "cell_type": "code",
   "execution_count": 7,
   "metadata": {},
   "outputs": [
    {
     "name": "stdout",
     "output_type": "stream",
     "text": [
      "['fody-costura', 'server-configuration', 'authentication', 'uac', 'pywhois', 'winscp-net', 'progress-indicator', 'openstack-python-api', 'bearer-token', 'w2ui', 'dcm4che', 'firefox-webextensions', 'classcastexception', 'c++', 'hosts-file', 'xna-3.0', 'dynamics-nav-2013', 'httpsession', 'dasblog', 'solidcolorbrush']\n"
     ]
    }
   ],
   "source": [
    "print(list(questions_with_tags.keys())[:20])"
   ]
  },
  {
   "cell_type": "markdown",
   "metadata": {},
   "source": [
    "### Java Questions:"
   ]
  },
  {
   "cell_type": "code",
   "execution_count": 9,
   "metadata": {
    "collapsed": true
   },
   "outputs": [],
   "source": [
    "java_questions = defaultdict(list)"
   ]
  },
  {
   "cell_type": "code",
   "execution_count": 10,
   "metadata": {},
   "outputs": [
    {
     "name": "stdout",
     "output_type": "stream",
     "text": [
      "['4080', '235', '2008-08-06T22:45:27Z', '2012-05-05T13:39:59Z', '92', 'What code analysis tools do you use for your Java projects?', \"<p>What code analysis tools do you use on your Java projects?</p>\\n\\n<p>I am interested in all kinds</p>\\n\\n<ul>\\n<li>static code analysis tools (FindBugs, PMD, and any others)</li>\\n<li>code coverage tools (Cobertura, Emma, and any others)</li>\\n<li>any other instrumentation-based tools </li>\\n<li>anything else, if I'm missing something</li>\\n</ul>\\n\\n<p>If applicable, also state what build tools you use and how well these tools integrate with both your IDEs and build tools. </p>\\n\\n<p>If a tool is only available a specific way (as an IDE plugin, or, say, a build tool plugin) that information is also worth noting.</p>\\n\"]\n"
     ]
    }
   ],
   "source": [
    "with open(\"Java-Questions.csv\", \"r\", -1, \"latin-1\") as read:\n",
    "    reader = csv.reader(read, delimiter=',', quotechar='\"')\n",
    "    for line in reader:\n",
    "        print(line)\n",
    "        break"
   ]
  },
  {
   "cell_type": "code",
   "execution_count": 11,
   "metadata": {
    "collapsed": true
   },
   "outputs": [],
   "source": [
    "with open(\"Java-Questions.csv\", \"r\", -1, \"latin-1\") as read:\n",
    "    reader = csv.reader(read, delimiter=',', quotechar='\"')\n",
    "    for line in reader:\n",
    "        if line[0] in questions_with_tags[\"java\"]:\n",
    "            java_questions[line[0]].append(line[2])\n",
    "            java_questions[line[0]].append(0)\n",
    "            java_questions[line[0]].append(line[6])"
   ]
  },
  {
   "cell_type": "code",
   "execution_count": 12,
   "metadata": {
    "collapsed": true
   },
   "outputs": [],
   "source": [
    "with open(\"Java-Answers.csv\", \"r\", -1, \"latin-1\") as read:\n",
    "    reader = csv.reader(read, delimiter=',', quotechar='\"')\n",
    "    for line in reader:\n",
    "        if line[3] in java_questions:\n",
    "            java_questions[line[3]][1] += 1"
   ]
  },
  {
   "cell_type": "code",
   "execution_count": 13,
   "metadata": {
    "collapsed": true
   },
   "outputs": [],
   "source": [
    "java_data = [(value[1], value[2]) for value in java_questions.values() if len(value) == 3]\n",
    "#where value1 is id, and value 2 contains date,nb of answers and question\n",
    "number_of_java_answers = [d[0] for d in java_data]\n",
    "java_data = [d[1] for d in java_data]"
   ]
  },
  {
   "cell_type": "markdown",
   "metadata": {},
   "source": [
    "number of answers for sample java question:"
   ]
  },
  {
   "cell_type": "code",
   "execution_count": 15,
   "metadata": {},
   "outputs": [
    {
     "data": {
      "text/plain": [
       "1"
      ]
     },
     "execution_count": 15,
     "metadata": {},
     "output_type": "execute_result"
    }
   ],
   "source": [
    "number_of_java_answers[10]"
   ]
  },
  {
   "cell_type": "markdown",
   "metadata": {},
   "source": [
    "how long the answers for the java questions are (in chars):"
   ]
  },
  {
   "cell_type": "code",
   "execution_count": 16,
   "metadata": {
    "collapsed": true
   },
   "outputs": [],
   "source": [
    "length_java = [len(d) for d in java_data]"
   ]
  },
  {
   "cell_type": "markdown",
   "metadata": {},
   "source": [
    "Average number of answers per java question:"
   ]
  },
  {
   "cell_type": "code",
   "execution_count": 17,
   "metadata": {},
   "outputs": [
    {
     "name": "stdout",
     "output_type": "stream",
     "text": [
      "1.7435076207339513\n"
     ]
    }
   ],
   "source": [
    "total = 0\n",
    "for value in number_of_java_answers:\n",
    "    total += value\n",
    "\n",
    "average_java = total/len(number_of_java_answers)\n",
    "print(average_java)"
   ]
  },
  {
   "cell_type": "markdown",
   "metadata": {},
   "source": [
    "### C Questions:"
   ]
  },
  {
   "cell_type": "code",
   "execution_count": 18,
   "metadata": {
    "collapsed": true
   },
   "outputs": [],
   "source": [
    "c_questions = defaultdict(list)"
   ]
  },
  {
   "cell_type": "code",
   "execution_count": 19,
   "metadata": {
    "collapsed": true
   },
   "outputs": [],
   "source": [
    "with open(\"C-Questions2.csv\", \"r\", -1, \"latin-1\") as read:\n",
    "    reader = csv.reader(read, delimiter=',', quotechar='\"')\n",
    "    for line in reader:\n",
    "        if line[0] in questions_with_tags[\"c\"]:\n",
    "            c_questions[line[0]].append(line[2])\n",
    "            c_questions[line[0]].append(0)\n",
    "            c_questions[line[0]].append(line[6])"
   ]
  },
  {
   "cell_type": "code",
   "execution_count": 20,
   "metadata": {
    "collapsed": true
   },
   "outputs": [],
   "source": [
    "with open(\"C-Answers2.csv\", \"r\", -1, \"latin-1\") as read:\n",
    "    reader = csv.reader(read, delimiter=',', quotechar='\"')\n",
    "    for line in reader:\n",
    "        if line[3] in c_questions:\n",
    "            c_questions[line[3]][1] += 1"
   ]
  },
  {
   "cell_type": "code",
   "execution_count": 23,
   "metadata": {
    "collapsed": true
   },
   "outputs": [],
   "source": [
    "c_data = [(value[1], value[2]) for value in c_questions.values() if len(value) == 3]\n",
    "number_of_c_answers = [d[0] for d in c_data]"
   ]
  },
  {
   "cell_type": "markdown",
   "metadata": {},
   "source": [
    "Average number of answers per C question:"
   ]
  },
  {
   "cell_type": "code",
   "execution_count": 24,
   "metadata": {},
   "outputs": [
    {
     "name": "stdout",
     "output_type": "stream",
     "text": [
      "2.1524657887942165\n"
     ]
    }
   ],
   "source": [
    "total = 0\n",
    "for value in number_of_c_answers:\n",
    "    total += value\n",
    "\n",
    "average_c = total/len(number_of_c_answers)\n",
    "print(average_c)"
   ]
  },
  {
   "cell_type": "markdown",
   "metadata": {},
   "source": [
    "### C++ Questions:"
   ]
  },
  {
   "cell_type": "code",
   "execution_count": 25,
   "metadata": {
    "collapsed": true
   },
   "outputs": [],
   "source": [
    "c_plusplus_questions = defaultdict(list)"
   ]
  },
  {
   "cell_type": "code",
   "execution_count": 26,
   "metadata": {
    "collapsed": true
   },
   "outputs": [],
   "source": [
    "with open(\"C-Questions1.csv\", \"r\", -1, \"latin-1\") as read:\n",
    "    reader = csv.reader(read, delimiter=',', quotechar='\"')\n",
    "    for line in reader:\n",
    "        if line[0] in questions_with_tags[\"c++\"]:\n",
    "            c_plusplus_questions[line[0]].append(line[2])\n",
    "            c_plusplus_questions[line[0]].append(0)\n",
    "            c_plusplus_questions[line[0]].append(line[6])"
   ]
  },
  {
   "cell_type": "code",
   "execution_count": 27,
   "metadata": {
    "collapsed": true
   },
   "outputs": [],
   "source": [
    "with open(\"C-Answers1.csv\", \"r\", -1, \"latin-1\") as read:\n",
    "    reader = csv.reader(read, delimiter=',', quotechar='\"')\n",
    "    for line in reader:\n",
    "        if line[3] in c_plusplus_questions:\n",
    "            c_plusplus_questions[line[3]][1] += 1"
   ]
  },
  {
   "cell_type": "code",
   "execution_count": 28,
   "metadata": {
    "collapsed": true
   },
   "outputs": [],
   "source": [
    "c_plusplus_data = [(value[1], value[2]) for value in c_plusplus_questions.values() if len(value) == 3]\n",
    "number_of_c_plusplus_answers = [d[0] for d in c_plusplus_data]"
   ]
  },
  {
   "cell_type": "markdown",
   "metadata": {},
   "source": [
    "Average number of answers per C++ question:"
   ]
  },
  {
   "cell_type": "code",
   "execution_count": 29,
   "metadata": {},
   "outputs": [
    {
     "name": "stdout",
     "output_type": "stream",
     "text": [
      "1.938643861234267\n"
     ]
    }
   ],
   "source": [
    "total = 0\n",
    "for value in number_of_c_plusplus_answers:\n",
    "    total += value\n",
    "\n",
    "average_c_plusplus = total/len(number_of_c_plusplus_answers)\n",
    "print(average_c_plusplus)"
   ]
  },
  {
   "cell_type": "markdown",
   "metadata": {},
   "source": [
    "### C# Questions:"
   ]
  },
  {
   "cell_type": "code",
   "execution_count": 30,
   "metadata": {
    "collapsed": true
   },
   "outputs": [],
   "source": [
    "c_sharp_questions = defaultdict(list)"
   ]
  },
  {
   "cell_type": "code",
   "execution_count": 31,
   "metadata": {
    "collapsed": true
   },
   "outputs": [],
   "source": [
    "with open(\"C-Questions.csv\", \"r\", -1, \"latin-1\") as read:\n",
    "    reader = csv.reader(read, delimiter=',', quotechar='\"')\n",
    "    for line in reader:\n",
    "        if line[0] in questions_with_tags[\"c#\"]:\n",
    "            c_sharp_questions[line[0]].append(line[2])\n",
    "            c_sharp_questions[line[0]].append(0)\n",
    "            c_sharp_questions[line[0]].append(line[6])"
   ]
  },
  {
   "cell_type": "code",
   "execution_count": 32,
   "metadata": {
    "collapsed": true
   },
   "outputs": [],
   "source": [
    "with open(\"C-Answers.csv\", \"r\", -1, \"latin-1\") as read:\n",
    "    reader = csv.reader(read, delimiter=',', quotechar='\"')\n",
    "    for line in reader:\n",
    "        if line[3] in c_sharp_questions:\n",
    "            c_sharp_questions[line[3]][1] += 1"
   ]
  },
  {
   "cell_type": "code",
   "execution_count": 33,
   "metadata": {
    "collapsed": true
   },
   "outputs": [],
   "source": [
    "c_sharp_data = [(value[1], value[2]) for value in c_sharp_questions.values() if len(value) == 3]\n",
    "number_of_c_sharp_answers = [d[0] for d in c_sharp_data]"
   ]
  },
  {
   "cell_type": "markdown",
   "metadata": {},
   "source": [
    "Average number of answers per C# question:"
   ]
  },
  {
   "cell_type": "code",
   "execution_count": 34,
   "metadata": {},
   "outputs": [
    {
     "name": "stdout",
     "output_type": "stream",
     "text": [
      "1.7812938548811101\n"
     ]
    }
   ],
   "source": [
    "total = 0\n",
    "for value in number_of_c_sharp_answers:\n",
    "    total += value\n",
    "\n",
    "average_c_sharp = total/len(number_of_c_sharp_answers)\n",
    "print(average_c_sharp)"
   ]
  },
  {
   "cell_type": "markdown",
   "metadata": {},
   "source": [
    "### Python Questions:"
   ]
  },
  {
   "cell_type": "code",
   "execution_count": 35,
   "metadata": {
    "collapsed": true
   },
   "outputs": [],
   "source": [
    "python_questions = defaultdict(list)"
   ]
  },
  {
   "cell_type": "code",
   "execution_count": 36,
   "metadata": {
    "collapsed": true
   },
   "outputs": [],
   "source": [
    "with open(\"Python-Questions.csv\", \"r\", -1, \"latin-1\") as read:\n",
    "    reader = csv.reader(read, delimiter=',', quotechar='\"')\n",
    "    for line in reader:\n",
    "        if line[0] in questions_with_tags[\"python\"]:\n",
    "            python_questions[line[0]].append(line[2])\n",
    "            python_questions[line[0]].append(0)\n",
    "            python_questions[line[0]].append(line[6])"
   ]
  },
  {
   "cell_type": "code",
   "execution_count": 37,
   "metadata": {
    "collapsed": true
   },
   "outputs": [],
   "source": [
    "with open(\"Python-Answers.csv\", \"r\", -1, \"latin-1\") as read:\n",
    "    reader = csv.reader(read, delimiter=',', quotechar='\"')\n",
    "    for line in reader:\n",
    "        if line[3] in python_questions:\n",
    "            python_questions[line[3]][1] += 1"
   ]
  },
  {
   "cell_type": "code",
   "execution_count": 38,
   "metadata": {
    "collapsed": true
   },
   "outputs": [],
   "source": [
    "python_data = [(value[1], value[2]) for value in python_questions.values() if len(value) == 3]\n",
    "number_of_python_answers = [d[0] for d in python_data]"
   ]
  },
  {
   "cell_type": "markdown",
   "metadata": {},
   "source": [
    "Average number of answers per Python question:"
   ]
  },
  {
   "cell_type": "code",
   "execution_count": 39,
   "metadata": {},
   "outputs": [
    {
     "name": "stdout",
     "output_type": "stream",
     "text": [
      "1.6285661212674727\n"
     ]
    }
   ],
   "source": [
    "total = 0\n",
    "for value in number_of_python_answers:\n",
    "    total += value\n",
    "\n",
    "average_python = total/len(number_of_python_answers)\n",
    "print(average_python)"
   ]
  },
  {
   "cell_type": "markdown",
   "metadata": {},
   "source": [
    "### R Questions:"
   ]
  },
  {
   "cell_type": "code",
   "execution_count": 40,
   "metadata": {
    "collapsed": true
   },
   "outputs": [],
   "source": [
    "r_questions = defaultdict(list)"
   ]
  },
  {
   "cell_type": "code",
   "execution_count": 41,
   "metadata": {
    "collapsed": true
   },
   "outputs": [],
   "source": [
    "with open(\"R-Questions.csv\", \"r\", -1, \"latin-1\") as read:\n",
    "    reader = csv.reader(read, delimiter=',', quotechar='\"')\n",
    "    for line in reader:\n",
    "        if line[0] in questions_with_tags[\"r\"]:\n",
    "            r_questions[line[0]].append(line[2])\n",
    "            r_questions[line[0]].append(0)\n",
    "            r_questions[line[0]].append(line[6])"
   ]
  },
  {
   "cell_type": "code",
   "execution_count": 42,
   "metadata": {
    "collapsed": true
   },
   "outputs": [],
   "source": [
    "with open(\"R-Answers.csv\", \"r\", -1, \"latin-1\") as read:\n",
    "    reader = csv.reader(read, delimiter=',', quotechar='\"')\n",
    "    for line in reader:\n",
    "        if line[3] in r_questions:\n",
    "            r_questions[line[3]][1] += 1"
   ]
  },
  {
   "cell_type": "code",
   "execution_count": 43,
   "metadata": {
    "collapsed": true
   },
   "outputs": [],
   "source": [
    "r_data = [(value[1], value[2]) for value in r_questions.values() if len(value) == 3]\n",
    "number_of_r_answers = [d[0] for d in r_data]"
   ]
  },
  {
   "cell_type": "markdown",
   "metadata": {},
   "source": [
    "Average number of answers per R question:"
   ]
  },
  {
   "cell_type": "code",
   "execution_count": 45,
   "metadata": {},
   "outputs": [
    {
     "name": "stdout",
     "output_type": "stream",
     "text": [
      "1.3371759760524808\n"
     ]
    }
   ],
   "source": [
    "total = 0\n",
    "for value in number_of_r_answers:\n",
    "    total += value\n",
    "\n",
    "average_r = total/len(number_of_r_answers)\n",
    "print(average_r)"
   ]
  },
  {
   "cell_type": "markdown",
   "metadata": {},
   "source": [
    "### Lisp Questions:"
   ]
  },
  {
   "cell_type": "code",
   "execution_count": 47,
   "metadata": {
    "collapsed": true
   },
   "outputs": [],
   "source": [
    "lisp_questions = defaultdict(list)"
   ]
  },
  {
   "cell_type": "code",
   "execution_count": 48,
   "metadata": {
    "collapsed": true
   },
   "outputs": [],
   "source": [
    "with open(\"Lisp-Questions.csv\", \"r\", -1, \"latin-1\") as read:\n",
    "    reader = csv.reader(read, delimiter=',', quotechar='\"')\n",
    "    for line in reader:\n",
    "        if line[0] in questions_with_tags[\"lisp\"]:\n",
    "            lisp_questions[line[0]].append(line[2])\n",
    "            lisp_questions[line[0]].append(0)\n",
    "            lisp_questions[line[0]].append(line[6])"
   ]
  },
  {
   "cell_type": "code",
   "execution_count": 49,
   "metadata": {
    "collapsed": true
   },
   "outputs": [],
   "source": [
    "with open(\"Lisp-Answers.csv\", \"r\", -1, \"latin-1\") as read:\n",
    "    reader = csv.reader(read, delimiter=',', quotechar='\"')\n",
    "    for line in reader:\n",
    "        if line[3] in lisp_questions:\n",
    "            lisp_questions[line[3]][1] += 1"
   ]
  },
  {
   "cell_type": "code",
   "execution_count": 50,
   "metadata": {
    "collapsed": true
   },
   "outputs": [],
   "source": [
    "lisp_data = [(value[1], value[2]) for value in lisp_questions.values() if len(value) == 3]\n",
    "number_of_lisp_answers = [d[0] for d in lisp_data]"
   ]
  },
  {
   "cell_type": "markdown",
   "metadata": {},
   "source": [
    "Average number of answers per Lisp question:"
   ]
  },
  {
   "cell_type": "code",
   "execution_count": 51,
   "metadata": {},
   "outputs": [
    {
     "name": "stdout",
     "output_type": "stream",
     "text": [
      "2.264830508474576\n"
     ]
    }
   ],
   "source": [
    "total = 0\n",
    "for value in number_of_lisp_answers:\n",
    "    total += value\n",
    "\n",
    "average_lisp = total/len(number_of_lisp_answers)\n",
    "print(average_lisp)"
   ]
  },
  {
   "cell_type": "markdown",
   "metadata": {},
   "source": [
    "### Plotting Average Number of Answers per Programming Language"
   ]
  },
  {
   "cell_type": "code",
   "execution_count": 55,
   "metadata": {
    "collapsed": true
   },
   "outputs": [],
   "source": [
    "objects = ('Java', 'C', 'C++', 'C#', 'Python', 'R', 'Lisp')\n",
    "performance = [average_java, average_c, average_c_plusplus, average_c_sharp, average_python, average_r, average_lisp]"
   ]
  },
  {
   "cell_type": "code",
   "execution_count": 56,
   "metadata": {},
   "outputs": [],
   "source": [
    "data = pd.DataFrame(\n",
    "    {'Languages': objects,\n",
    "     'Avg Answers': performance,\n",
    "    })"
   ]
  },
  {
   "cell_type": "code",
   "execution_count": 57,
   "metadata": {
    "collapsed": true
   },
   "outputs": [],
   "source": [
    "data = data.set_index(\"Languages\")\n",
    "data = data.sort_values(by=\"Avg Answers\", ascending=False)"
   ]
  },
  {
   "cell_type": "code",
   "execution_count": 59,
   "metadata": {},
   "outputs": [
    {
     "data": {
      "text/plain": [
       "<matplotlib.text.Text at 0x7fea036001d0>"
      ]
     },
     "execution_count": 59,
     "metadata": {},
     "output_type": "execute_result"
    },
    {
     "data": {
      "image/png": "[encoded data removed]",
      "text/plain": [
       "<matplotlib.figure.Figure at 0x7fea033a2c50>"
      ]
     },
     "metadata": {},
     "output_type": "display_data"
    }
   ],
   "source": [
    "number_of_answers_plot = data.plot(kind=\"bar\", title='Answers to different Programming language questions', figsize=(16,8))\n",
    "number_of_answers_plot.set_ylabel(\"Average Number of Answers\")"
   ]
  },
  {
   "cell_type": "markdown",
   "metadata": {},
   "source": [
    "## Distribution of MBTI Types in Programming"
   ]
  },
  {
   "cell_type": "markdown",
   "metadata": {},
   "source": [
    "In this part, we are going to analyze how different MBTI types are expressed in the StackOverflow site. \n",
    "\n",
    "For short description of the MBTI types you can go to: http://understandmyersbriggs.blogspot.co.at/p/description-of-8-letters.html or http://www.myersbriggs.org/my-mbti-personality-type/mbti-basics/the-16-mbti-types.htm\n",
    "\n",
    "If you want to test yourself, I prefer test on Dario Nardi's site: http://www.keys2cognition.com/explore.htm , but there is a short quiz http://www.blogthings.com/howrareisyourpersonalityquiz/"
   ]
  },
  {
   "cell_type": "markdown",
   "metadata": {},
   "source": [
    "Next, to look into the MBTI types, we generated the csv data, where the first colum was the ID od the questions on the stackoverflow, the second one was the MBTI type and the third one was programming language that we got from tags used with the question."
   ]
  },
  {
   "cell_type": "code",
   "execution_count": 3,
   "metadata": {
    "collapsed": true
   },
   "outputs": [],
   "source": [
    "with open(\"StackOverflow/MBTI-Questions.csv\", \"r\") as read:\n",
    "    questions_data = pd.read_csv(read, sep=\",\", header=None, names=[\"ID\", \"Type\", \"Language\"])"
   ]
  },
  {
   "cell_type": "code",
   "execution_count": 4,
   "metadata": {},
   "outputs": [
    {
     "data": {
      "text/html": [
       "<div>\n",
       "<table border=\"1\" class=\"dataframe\">\n",
       "  <thead>\n",
       "    <tr style=\"text-align: right;\">\n",
       "      <th></th>\n",
       "      <th>ID</th>\n",
       "      <th>Type</th>\n",
       "      <th>Language</th>\n",
       "    </tr>\n",
       "  </thead>\n",
       "  <tbody>\n",
       "    <tr>\n",
       "      <th>0</th>\n",
       "      <td>467110</td>\n",
       "      <td>INTJ</td>\n",
       "      <td>r</td>\n",
       "    </tr>\n",
       "    <tr>\n",
       "      <th>1</th>\n",
       "      <td>520810</td>\n",
       "      <td>ESFJ</td>\n",
       "      <td>r</td>\n",
       "    </tr>\n",
       "    <tr>\n",
       "      <th>2</th>\n",
       "      <td>657440</td>\n",
       "      <td>ENTJ</td>\n",
       "      <td>r</td>\n",
       "    </tr>\n",
       "    <tr>\n",
       "      <th>3</th>\n",
       "      <td>1098210</td>\n",
       "      <td>ISTJ</td>\n",
       "      <td>r</td>\n",
       "    </tr>\n",
       "    <tr>\n",
       "      <th>4</th>\n",
       "      <td>1163640</td>\n",
       "      <td>INTJ</td>\n",
       "      <td>r</td>\n",
       "    </tr>\n",
       "  </tbody>\n",
       "</table>\n",
       "</div>"
      ],
      "text/plain": [
       "        ID  Type Language\n",
       "0   467110  INTJ        r\n",
       "1   520810  ESFJ        r\n",
       "2   657440  ENTJ        r\n",
       "3  1098210  ISTJ        r\n",
       "4  1163640  INTJ        r"
      ]
     },
     "execution_count": 4,
     "metadata": {},
     "output_type": "execute_result"
    }
   ],
   "source": [
    "questions_data.head()"
   ]
  },
  {
   "cell_type": "markdown",
   "metadata": {},
   "source": [
    "Now we are going to group this data based on their MBTI types. This way we will be able to see which types post more often on the Stackoverflow. \n",
    "\n",
    "If we assume that the distribution of the programmers is the same as the distribution of the people posting on Stackoverflow, we can also get which types more frequently decide to take programming. This is the assumption that we are going to be using in the following analysis."
   ]
  },
  {
   "cell_type": "code",
   "execution_count": 5,
   "metadata": {
    "collapsed": true
   },
   "outputs": [],
   "source": [
    "types_all_questions = questions_data[\"Type\"].value_counts()"
   ]
  },
  {
   "cell_type": "markdown",
   "metadata": {},
   "source": [
    "As we can see from the graph below, types like ISTJ, ESFJ, INTJ and INTP are much more likely to program than other types. While ENFP and ENTP are less likely to program. \n",
    "\n",
    "This almost agree with the general notion in the MBTI community, where ISTJ, ISTP, INTJ and INTP are considered the types most likely to program. Not sure what the ESFJ is doing there, though. "
   ]
  },
  {
   "cell_type": "code",
   "execution_count": 6,
   "metadata": {},
   "outputs": [
    {
     "data": {
      "text/plain": [
       "<matplotlib.axes._subplots.AxesSubplot at 0x7f63c6a14f60>"
      ]
     },
     "execution_count": 6,
     "metadata": {},
     "output_type": "execute_result"
    },
    {
     "data": {
      "image/png": "[encoded data removed]",
      "text/plain": [
       "<matplotlib.figure.Figure at 0x7f63f808d828>"
      ]
     },
     "metadata": {},
     "output_type": "display_data"
    }
   ],
   "source": [
    "types_all_questions.plot(kind=\"bar\")"
   ]
  },
  {
   "cell_type": "markdown",
   "metadata": {},
   "source": [
    "## Distribution of Programming Langauges by Types"
   ]
  },
  {
   "cell_type": "markdown",
   "metadata": {},
   "source": [
    "Next we are going to group data by the langauge use and create frequency table (programming langauge x MBTI type). \n",
    "\n",
    "For this we are going to first groups the data and collected all the data by specific language in the list. "
   ]
  },
  {
   "cell_type": "code",
   "execution_count": 7,
   "metadata": {
    "collapsed": true
   },
   "outputs": [],
   "source": [
    "questions_grouped_by_language = questions_data.groupby(\"Language\")"
   ]
  },
  {
   "cell_type": "code",
   "execution_count": 8,
   "metadata": {
    "collapsed": true
   },
   "outputs": [],
   "source": [
    "all_grouped_languages = []"
   ]
  },
  {
   "cell_type": "code",
   "execution_count": 9,
   "metadata": {
    "collapsed": true
   },
   "outputs": [],
   "source": [
    "for language in languages:\n",
    "    group = questions_grouped_by_language.get_group(language)\n",
    "    all_grouped_languages.append(group[\"Type\"].value_counts())"
   ]
  },
  {
   "cell_type": "markdown",
   "metadata": {},
   "source": [
    "Now we are going to put all these seperate data in one pandas data frame. "
   ]
  },
  {
   "cell_type": "code",
   "execution_count": 10,
   "metadata": {},
   "outputs": [
    {
     "data": {
      "text/html": [
       "<div>\n",
       "<table border=\"1\" class=\"dataframe\">\n",
       "  <thead>\n",
       "    <tr style=\"text-align: right;\">\n",
       "      <th></th>\n",
       "      <th>c++</th>\n",
       "      <th>c</th>\n",
       "      <th>c#</th>\n",
       "      <th>java</th>\n",
       "      <th>python</th>\n",
       "      <th>r</th>\n",
       "      <th>lisp</th>\n",
       "    </tr>\n",
       "  </thead>\n",
       "  <tbody>\n",
       "    <tr>\n",
       "      <th>ENFJ</th>\n",
       "      <td>9.0</td>\n",
       "      <td>9</td>\n",
       "      <td>10.0</td>\n",
       "      <td>7.0</td>\n",
       "      <td>16</td>\n",
       "      <td>8.0</td>\n",
       "      <td>7</td>\n",
       "    </tr>\n",
       "    <tr>\n",
       "      <th>ENFP</th>\n",
       "      <td>NaN</td>\n",
       "      <td>1</td>\n",
       "      <td>NaN</td>\n",
       "      <td>NaN</td>\n",
       "      <td>3</td>\n",
       "      <td>NaN</td>\n",
       "      <td>2</td>\n",
       "    </tr>\n",
       "    <tr>\n",
       "      <th>ENTJ</th>\n",
       "      <td>26.0</td>\n",
       "      <td>22</td>\n",
       "      <td>29.0</td>\n",
       "      <td>30.0</td>\n",
       "      <td>24</td>\n",
       "      <td>29.0</td>\n",
       "      <td>21</td>\n",
       "    </tr>\n",
       "    <tr>\n",
       "      <th>ENTP</th>\n",
       "      <td>3.0</td>\n",
       "      <td>4</td>\n",
       "      <td>1.0</td>\n",
       "      <td>NaN</td>\n",
       "      <td>1</td>\n",
       "      <td>2.0</td>\n",
       "      <td>5</td>\n",
       "    </tr>\n",
       "    <tr>\n",
       "      <th>ESFJ</th>\n",
       "      <td>96.0</td>\n",
       "      <td>80</td>\n",
       "      <td>87.0</td>\n",
       "      <td>92.0</td>\n",
       "      <td>108</td>\n",
       "      <td>96.0</td>\n",
       "      <td>108</td>\n",
       "    </tr>\n",
       "    <tr>\n",
       "      <th>ESFP</th>\n",
       "      <td>15.0</td>\n",
       "      <td>18</td>\n",
       "      <td>23.0</td>\n",
       "      <td>23.0</td>\n",
       "      <td>13</td>\n",
       "      <td>25.0</td>\n",
       "      <td>19</td>\n",
       "    </tr>\n",
       "    <tr>\n",
       "      <th>ESTJ</th>\n",
       "      <td>41.0</td>\n",
       "      <td>28</td>\n",
       "      <td>40.0</td>\n",
       "      <td>53.0</td>\n",
       "      <td>24</td>\n",
       "      <td>28.0</td>\n",
       "      <td>25</td>\n",
       "    </tr>\n",
       "    <tr>\n",
       "      <th>ESTP</th>\n",
       "      <td>19.0</td>\n",
       "      <td>19</td>\n",
       "      <td>12.0</td>\n",
       "      <td>3.0</td>\n",
       "      <td>13</td>\n",
       "      <td>36.0</td>\n",
       "      <td>45</td>\n",
       "    </tr>\n",
       "    <tr>\n",
       "      <th>INFJ</th>\n",
       "      <td>4.0</td>\n",
       "      <td>3</td>\n",
       "      <td>7.0</td>\n",
       "      <td>11.0</td>\n",
       "      <td>9</td>\n",
       "      <td>2.0</td>\n",
       "      <td>9</td>\n",
       "    </tr>\n",
       "    <tr>\n",
       "      <th>INFP</th>\n",
       "      <td>11.0</td>\n",
       "      <td>10</td>\n",
       "      <td>10.0</td>\n",
       "      <td>16.0</td>\n",
       "      <td>6</td>\n",
       "      <td>15.0</td>\n",
       "      <td>13</td>\n",
       "    </tr>\n",
       "    <tr>\n",
       "      <th>INTJ</th>\n",
       "      <td>69.0</td>\n",
       "      <td>83</td>\n",
       "      <td>81.0</td>\n",
       "      <td>82.0</td>\n",
       "      <td>76</td>\n",
       "      <td>108.0</td>\n",
       "      <td>70</td>\n",
       "    </tr>\n",
       "    <tr>\n",
       "      <th>INTP</th>\n",
       "      <td>71.0</td>\n",
       "      <td>75</td>\n",
       "      <td>54.0</td>\n",
       "      <td>42.0</td>\n",
       "      <td>73</td>\n",
       "      <td>55.0</td>\n",
       "      <td>62</td>\n",
       "    </tr>\n",
       "    <tr>\n",
       "      <th>ISFJ</th>\n",
       "      <td>6.0</td>\n",
       "      <td>17</td>\n",
       "      <td>5.0</td>\n",
       "      <td>6.0</td>\n",
       "      <td>6</td>\n",
       "      <td>5.0</td>\n",
       "      <td>6</td>\n",
       "    </tr>\n",
       "    <tr>\n",
       "      <th>ISFP</th>\n",
       "      <td>3.0</td>\n",
       "      <td>3</td>\n",
       "      <td>8.0</td>\n",
       "      <td>4.0</td>\n",
       "      <td>5</td>\n",
       "      <td>5.0</td>\n",
       "      <td>3</td>\n",
       "    </tr>\n",
       "    <tr>\n",
       "      <th>ISTJ</th>\n",
       "      <td>116.0</td>\n",
       "      <td>114</td>\n",
       "      <td>124.0</td>\n",
       "      <td>114.0</td>\n",
       "      <td>116</td>\n",
       "      <td>76.0</td>\n",
       "      <td>98</td>\n",
       "    </tr>\n",
       "    <tr>\n",
       "      <th>ISTP</th>\n",
       "      <td>12.0</td>\n",
       "      <td>15</td>\n",
       "      <td>10.0</td>\n",
       "      <td>18.0</td>\n",
       "      <td>8</td>\n",
       "      <td>11.0</td>\n",
       "      <td>8</td>\n",
       "    </tr>\n",
       "  </tbody>\n",
       "</table>\n",
       "</div>"
      ],
      "text/plain": [
       "        c++    c     c#   java  python      r  lisp\n",
       "ENFJ    9.0    9   10.0    7.0      16    8.0     7\n",
       "ENFP    NaN    1    NaN    NaN       3    NaN     2\n",
       "ENTJ   26.0   22   29.0   30.0      24   29.0    21\n",
       "ENTP    3.0    4    1.0    NaN       1    2.0     5\n",
       "ESFJ   96.0   80   87.0   92.0     108   96.0   108\n",
       "ESFP   15.0   18   23.0   23.0      13   25.0    19\n",
       "ESTJ   41.0   28   40.0   53.0      24   28.0    25\n",
       "ESTP   19.0   19   12.0    3.0      13   36.0    45\n",
       "INFJ    4.0    3    7.0   11.0       9    2.0     9\n",
       "INFP   11.0   10   10.0   16.0       6   15.0    13\n",
       "INTJ   69.0   83   81.0   82.0      76  108.0    70\n",
       "INTP   71.0   75   54.0   42.0      73   55.0    62\n",
       "ISFJ    6.0   17    5.0    6.0       6    5.0     6\n",
       "ISFP    3.0    3    8.0    4.0       5    5.0     3\n",
       "ISTJ  116.0  114  124.0  114.0     116   76.0    98\n",
       "ISTP   12.0   15   10.0   18.0       8   11.0     8"
      ]
     },
     "execution_count": 10,
     "metadata": {},
     "output_type": "execute_result"
    }
   ],
   "source": [
    "type_languages_comparison = pd.concat(all_grouped_languages, axis=1)\n",
    "type_languages_comparison.columns = languages\n",
    "type_languages_comparison"
   ]
  },
  {
   "cell_type": "markdown",
   "metadata": {},
   "source": [
    "As you can see above, we now have the data in the data frame. But there are some NaNs, where we had no data and the data is expressed in floats, even though they are count data and with that integers. So we are going to change NaNs to 0 and all the numbers to int type."
   ]
  },
  {
   "cell_type": "code",
   "execution_count": 11,
   "metadata": {},
   "outputs": [
    {
     "data": {
      "text/html": [
       "<div>\n",
       "<table border=\"1\" class=\"dataframe\">\n",
       "  <thead>\n",
       "    <tr style=\"text-align: right;\">\n",
       "      <th></th>\n",
       "      <th>c++</th>\n",
       "      <th>c</th>\n",
       "      <th>c#</th>\n",
       "      <th>java</th>\n",
       "      <th>python</th>\n",
       "      <th>r</th>\n",
       "      <th>lisp</th>\n",
       "    </tr>\n",
       "  </thead>\n",
       "  <tbody>\n",
       "    <tr>\n",
       "      <th>ENFJ</th>\n",
       "      <td>9</td>\n",
       "      <td>9</td>\n",
       "      <td>10</td>\n",
       "      <td>7</td>\n",
       "      <td>16</td>\n",
       "      <td>8</td>\n",
       "      <td>7</td>\n",
       "    </tr>\n",
       "    <tr>\n",
       "      <th>ENFP</th>\n",
       "      <td>0</td>\n",
       "      <td>1</td>\n",
       "      <td>0</td>\n",
       "      <td>0</td>\n",
       "      <td>3</td>\n",
       "      <td>0</td>\n",
       "      <td>2</td>\n",
       "    </tr>\n",
       "    <tr>\n",
       "      <th>ENTJ</th>\n",
       "      <td>26</td>\n",
       "      <td>22</td>\n",
       "      <td>29</td>\n",
       "      <td>30</td>\n",
       "      <td>24</td>\n",
       "      <td>29</td>\n",
       "      <td>21</td>\n",
       "    </tr>\n",
       "    <tr>\n",
       "      <th>ENTP</th>\n",
       "      <td>3</td>\n",
       "      <td>4</td>\n",
       "      <td>1</td>\n",
       "      <td>0</td>\n",
       "      <td>1</td>\n",
       "      <td>2</td>\n",
       "      <td>5</td>\n",
       "    </tr>\n",
       "    <tr>\n",
       "      <th>ESFJ</th>\n",
       "      <td>96</td>\n",
       "      <td>80</td>\n",
       "      <td>87</td>\n",
       "      <td>92</td>\n",
       "      <td>108</td>\n",
       "      <td>96</td>\n",
       "      <td>108</td>\n",
       "    </tr>\n",
       "    <tr>\n",
       "      <th>ESFP</th>\n",
       "      <td>15</td>\n",
       "      <td>18</td>\n",
       "      <td>23</td>\n",
       "      <td>23</td>\n",
       "      <td>13</td>\n",
       "      <td>25</td>\n",
       "      <td>19</td>\n",
       "    </tr>\n",
       "    <tr>\n",
       "      <th>ESTJ</th>\n",
       "      <td>41</td>\n",
       "      <td>28</td>\n",
       "      <td>40</td>\n",
       "      <td>53</td>\n",
       "      <td>24</td>\n",
       "      <td>28</td>\n",
       "      <td>25</td>\n",
       "    </tr>\n",
       "    <tr>\n",
       "      <th>ESTP</th>\n",
       "      <td>19</td>\n",
       "      <td>19</td>\n",
       "      <td>12</td>\n",
       "      <td>3</td>\n",
       "      <td>13</td>\n",
       "      <td>36</td>\n",
       "      <td>45</td>\n",
       "    </tr>\n",
       "    <tr>\n",
       "      <th>INFJ</th>\n",
       "      <td>4</td>\n",
       "      <td>3</td>\n",
       "      <td>7</td>\n",
       "      <td>11</td>\n",
       "      <td>9</td>\n",
       "      <td>2</td>\n",
       "      <td>9</td>\n",
       "    </tr>\n",
       "    <tr>\n",
       "      <th>INFP</th>\n",
       "      <td>11</td>\n",
       "      <td>10</td>\n",
       "      <td>10</td>\n",
       "      <td>16</td>\n",
       "      <td>6</td>\n",
       "      <td>15</td>\n",
       "      <td>13</td>\n",
       "    </tr>\n",
       "    <tr>\n",
       "      <th>INTJ</th>\n",
       "      <td>69</td>\n",
       "      <td>83</td>\n",
       "      <td>81</td>\n",
       "      <td>82</td>\n",
       "      <td>76</td>\n",
       "      <td>108</td>\n",
       "      <td>70</td>\n",
       "    </tr>\n",
       "    <tr>\n",
       "      <th>INTP</th>\n",
       "      <td>71</td>\n",
       "      <td>75</td>\n",
       "      <td>54</td>\n",
       "      <td>42</td>\n",
       "      <td>73</td>\n",
       "      <td>55</td>\n",
       "      <td>62</td>\n",
       "    </tr>\n",
       "    <tr>\n",
       "      <th>ISFJ</th>\n",
       "      <td>6</td>\n",
       "      <td>17</td>\n",
       "      <td>5</td>\n",
       "      <td>6</td>\n",
       "      <td>6</td>\n",
       "      <td>5</td>\n",
       "      <td>6</td>\n",
       "    </tr>\n",
       "    <tr>\n",
       "      <th>ISFP</th>\n",
       "      <td>3</td>\n",
       "      <td>3</td>\n",
       "      <td>8</td>\n",
       "      <td>4</td>\n",
       "      <td>5</td>\n",
       "      <td>5</td>\n",
       "      <td>3</td>\n",
       "    </tr>\n",
       "    <tr>\n",
       "      <th>ISTJ</th>\n",
       "      <td>116</td>\n",
       "      <td>114</td>\n",
       "      <td>124</td>\n",
       "      <td>114</td>\n",
       "      <td>116</td>\n",
       "      <td>76</td>\n",
       "      <td>98</td>\n",
       "    </tr>\n",
       "    <tr>\n",
       "      <th>ISTP</th>\n",
       "      <td>12</td>\n",
       "      <td>15</td>\n",
       "      <td>10</td>\n",
       "      <td>18</td>\n",
       "      <td>8</td>\n",
       "      <td>11</td>\n",
       "      <td>8</td>\n",
       "    </tr>\n",
       "  </tbody>\n",
       "</table>\n",
       "</div>"
      ],
      "text/plain": [
       "      c++    c   c#  java  python    r  lisp\n",
       "ENFJ    9    9   10     7      16    8     7\n",
       "ENFP    0    1    0     0       3    0     2\n",
       "ENTJ   26   22   29    30      24   29    21\n",
       "ENTP    3    4    1     0       1    2     5\n",
       "ESFJ   96   80   87    92     108   96   108\n",
       "ESFP   15   18   23    23      13   25    19\n",
       "ESTJ   41   28   40    53      24   28    25\n",
       "ESTP   19   19   12     3      13   36    45\n",
       "INFJ    4    3    7    11       9    2     9\n",
       "INFP   11   10   10    16       6   15    13\n",
       "INTJ   69   83   81    82      76  108    70\n",
       "INTP   71   75   54    42      73   55    62\n",
       "ISFJ    6   17    5     6       6    5     6\n",
       "ISFP    3    3    8     4       5    5     3\n",
       "ISTJ  116  114  124   114     116   76    98\n",
       "ISTP   12   15   10    18       8   11     8"
      ]
     },
     "execution_count": 11,
     "metadata": {},
     "output_type": "execute_result"
    }
   ],
   "source": [
    "type_languages_comparison = type_languages_comparison.fillna(0)\n",
    "type_languages_comparison = type_languages_comparison.astype(int)\n",
    "type_languages_comparison"
   ]
  },
  {
   "cell_type": "markdown",
   "metadata": {},
   "source": [
    "Now that we have the data in the right form, we can plot it to see if there are any differences. We can see for example, that INTJ types are more likely to use R, while ISTJ types are less likely to use it. Java is quite popular with ESTJs and ISTPs, but not with ESTPs, and so on. "
   ]
  },
  {
   "cell_type": "code",
   "execution_count": 12,
   "metadata": {},
   "outputs": [
    {
     "data": {
      "text/plain": [
       "<matplotlib.axes._subplots.AxesSubplot at 0x7f63c68d38d0>"
      ]
     },
     "execution_count": 12,
     "metadata": {},
     "output_type": "execute_result"
    },
    {
     "data": {
      "image/png": "[encoded data removed]",
      "text/plain": [
       "<matplotlib.figure.Figure at 0x7f63c693c1d0>"
      ]
     },
     "metadata": {},
     "output_type": "display_data"
    }
   ],
   "source": [
    "type_languages_comparison.plot(kind=\"bar\", figsize=(16,4))"
   ]
  },
  {
   "cell_type": "markdown",
   "metadata": {},
   "source": [
    "In order to see if there are also statistical differences in these langauges, we are going to be using chi-square method. \n",
    "\n",
    "The chi-square method from scipy outputs the chi2, p, degrees of freedom and expected frequencies."
   ]
  },
  {
   "cell_type": "code",
   "execution_count": 13,
   "metadata": {},
   "outputs": [
    {
     "data": {
      "text/plain": [
       "(207.54972462959995, 2.8128161561126385e-11)"
      ]
     },
     "execution_count": 13,
     "metadata": {},
     "output_type": "execute_result"
    }
   ],
   "source": [
    "chi2_questions, p_questions, dof_questions, res_questions = chi2_contingency(type_languages_comparison, correction=True)\n",
    "chi2_questions, p_questions"
   ]
  },
  {
   "cell_type": "markdown",
   "metadata": {},
   "source": [
    "Considering the p is very low, we can conclude that they people's types influence the programing language that they are using."
   ]
  },
  {
   "cell_type": "markdown",
   "metadata": {},
   "source": [
    "Now we are going to make the expected frequency table more pretier, because we are going to be using it to calculate residuals."
   ]
  },
  {
   "cell_type": "code",
   "execution_count": 14,
   "metadata": {
    "collapsed": true
   },
   "outputs": [],
   "source": [
    "res_questions = pd.DataFrame(res_questions).astype(float)\n",
    "res_questions.columns = languages\n",
    "res_questions.index = [\"ENFJ\", \"ENFP\", \"ENTJ\", \"ENTP\", \"ESFJ\", \"ESFP\", \"ESTJ\", \"ESTP\", \"INFJ\", \"INFP\", \n",
    "                       \"INTJ\", \"INTP\", \"ISFJ\", \"ISFP\", \"ISTJ\", \"ISTP\"]"
   ]
  },
  {
   "cell_type": "markdown",
   "metadata": {},
   "source": [
    "Based on the Donald Sharpe's 2015 paper titled: Your Chi-Square Test is Statistically Significant: Now What? ( http://pareonline.net/getvn.asp?v=20&n=8 ), we calculated the standard residuals based on the following formula:\n",
    "\n",
    "$residual = (observed - expected) \\sqrt{expected}$\n"
   ]
  },
  {
   "cell_type": "code",
   "execution_count": 15,
   "metadata": {
    "collapsed": true
   },
   "outputs": [],
   "source": [
    "comparison_questions = (res_questions - type_languages_comparison.astype(float))/np.sqrt(type_languages_comparison.astype(float))"
   ]
  },
  {
   "cell_type": "markdown",
   "metadata": {},
   "source": [
    "Here, we are defining the function, that will make it easier to locate the values that are actually different than the norm. Infinite value means we devided with 0, and that happened when we had no data, so this is yellow. Green combinations are the ones that are more likely, and red combinations are the ones that are less likely. \n",
    "\n",
    "2 is just an arbitraty number. 1 produced too many colred values, so I used 2. "
   ]
  },
  {
   "cell_type": "code",
   "execution_count": 16,
   "metadata": {
    "collapsed": true
   },
   "outputs": [],
   "source": [
    "def color_negative_red(number):\n",
    "    if number == math.inf:\n",
    "        color = \"yellow\"\n",
    "    elif number < -2:\n",
    "        color = \"green\"\n",
    "    elif number > 2:\n",
    "        color = \"red\"\n",
    "    else:\n",
    "        color = \"white\"\n",
    "    return 'background-color: %s' % color"
   ]
  },
  {
   "cell_type": "code",
   "execution_count": 17,
   "metadata": {},
   "outputs": [
    {
     "data": {
      "text/html": [
       "\n",
       "        <style  type=\"text/css\" >\n",
       "        \n",
       "        \n",
       "            #T_72f8c168_310a_11e7_b70c_f8a963538a81row0_col0 {\n",
       "            \n",
       "                background-color:  white;\n",
       "            \n",
       "            }\n",
       "        \n",
       "            #T_72f8c168_310a_11e7_b70c_f8a963538a81row0_col1 {\n",
       "            \n",
       "                background-color:  white;\n",
       "            \n",
       "            }\n",
       "        \n",
       "            #T_72f8c168_310a_11e7_b70c_f8a963538a81row0_col2 {\n",
       "            \n",
       "                background-color:  white;\n",
       "            \n",
       "            }\n",
       "        \n",
       "            #T_72f8c168_310a_11e7_b70c_f8a963538a81row0_col3 {\n",
       "            \n",
       "                background-color:  white;\n",
       "            \n",
       "            }\n",
       "        \n",
       "            #T_72f8c168_310a_11e7_b70c_f8a963538a81row0_col4 {\n",
       "            \n",
       "                background-color:  white;\n",
       "            \n",
       "            }\n",
       "        \n",
       "            #T_72f8c168_310a_11e7_b70c_f8a963538a81row0_col5 {\n",
       "            \n",
       "                background-color:  white;\n",
       "            \n",
       "            }\n",
       "        \n",
       "            #T_72f8c168_310a_11e7_b70c_f8a963538a81row0_col6 {\n",
       "            \n",
       "                background-color:  white;\n",
       "            \n",
       "            }\n",
       "        \n",
       "            #T_72f8c168_310a_11e7_b70c_f8a963538a81row1_col0 {\n",
       "            \n",
       "                background-color:  yellow;\n",
       "            \n",
       "            }\n",
       "        \n",
       "            #T_72f8c168_310a_11e7_b70c_f8a963538a81row1_col1 {\n",
       "            \n",
       "                background-color:  white;\n",
       "            \n",
       "            }\n",
       "        \n",
       "            #T_72f8c168_310a_11e7_b70c_f8a963538a81row1_col2 {\n",
       "            \n",
       "                background-color:  yellow;\n",
       "            \n",
       "            }\n",
       "        \n",
       "            #T_72f8c168_310a_11e7_b70c_f8a963538a81row1_col3 {\n",
       "            \n",
       "                background-color:  yellow;\n",
       "            \n",
       "            }\n",
       "        \n",
       "            #T_72f8c168_310a_11e7_b70c_f8a963538a81row1_col4 {\n",
       "            \n",
       "                background-color:  white;\n",
       "            \n",
       "            }\n",
       "        \n",
       "            #T_72f8c168_310a_11e7_b70c_f8a963538a81row1_col5 {\n",
       "            \n",
       "                background-color:  yellow;\n",
       "            \n",
       "            }\n",
       "        \n",
       "            #T_72f8c168_310a_11e7_b70c_f8a963538a81row1_col6 {\n",
       "            \n",
       "                background-color:  white;\n",
       "            \n",
       "            }\n",
       "        \n",
       "            #T_72f8c168_310a_11e7_b70c_f8a963538a81row2_col0 {\n",
       "            \n",
       "                background-color:  white;\n",
       "            \n",
       "            }\n",
       "        \n",
       "            #T_72f8c168_310a_11e7_b70c_f8a963538a81row2_col1 {\n",
       "            \n",
       "                background-color:  white;\n",
       "            \n",
       "            }\n",
       "        \n",
       "            #T_72f8c168_310a_11e7_b70c_f8a963538a81row2_col2 {\n",
       "            \n",
       "                background-color:  white;\n",
       "            \n",
       "            }\n",
       "        \n",
       "            #T_72f8c168_310a_11e7_b70c_f8a963538a81row2_col3 {\n",
       "            \n",
       "                background-color:  white;\n",
       "            \n",
       "            }\n",
       "        \n",
       "            #T_72f8c168_310a_11e7_b70c_f8a963538a81row2_col4 {\n",
       "            \n",
       "                background-color:  white;\n",
       "            \n",
       "            }\n",
       "        \n",
       "            #T_72f8c168_310a_11e7_b70c_f8a963538a81row2_col5 {\n",
       "            \n",
       "                background-color:  white;\n",
       "            \n",
       "            }\n",
       "        \n",
       "            #T_72f8c168_310a_11e7_b70c_f8a963538a81row2_col6 {\n",
       "            \n",
       "                background-color:  white;\n",
       "            \n",
       "            }\n",
       "        \n",
       "            #T_72f8c168_310a_11e7_b70c_f8a963538a81row3_col0 {\n",
       "            \n",
       "                background-color:  white;\n",
       "            \n",
       "            }\n",
       "        \n",
       "            #T_72f8c168_310a_11e7_b70c_f8a963538a81row3_col1 {\n",
       "            \n",
       "                background-color:  white;\n",
       "            \n",
       "            }\n",
       "        \n",
       "            #T_72f8c168_310a_11e7_b70c_f8a963538a81row3_col2 {\n",
       "            \n",
       "                background-color:  white;\n",
       "            \n",
       "            }\n",
       "        \n",
       "            #T_72f8c168_310a_11e7_b70c_f8a963538a81row3_col3 {\n",
       "            \n",
       "                background-color:  yellow;\n",
       "            \n",
       "            }\n",
       "        \n",
       "            #T_72f8c168_310a_11e7_b70c_f8a963538a81row3_col4 {\n",
       "            \n",
       "                background-color:  white;\n",
       "            \n",
       "            }\n",
       "        \n",
       "            #T_72f8c168_310a_11e7_b70c_f8a963538a81row3_col5 {\n",
       "            \n",
       "                background-color:  white;\n",
       "            \n",
       "            }\n",
       "        \n",
       "            #T_72f8c168_310a_11e7_b70c_f8a963538a81row3_col6 {\n",
       "            \n",
       "                background-color:  white;\n",
       "            \n",
       "            }\n",
       "        \n",
       "            #T_72f8c168_310a_11e7_b70c_f8a963538a81row4_col0 {\n",
       "            \n",
       "                background-color:  white;\n",
       "            \n",
       "            }\n",
       "        \n",
       "            #T_72f8c168_310a_11e7_b70c_f8a963538a81row4_col1 {\n",
       "            \n",
       "                background-color:  white;\n",
       "            \n",
       "            }\n",
       "        \n",
       "            #T_72f8c168_310a_11e7_b70c_f8a963538a81row4_col2 {\n",
       "            \n",
       "                background-color:  white;\n",
       "            \n",
       "            }\n",
       "        \n",
       "            #T_72f8c168_310a_11e7_b70c_f8a963538a81row4_col3 {\n",
       "            \n",
       "                background-color:  white;\n",
       "            \n",
       "            }\n",
       "        \n",
       "            #T_72f8c168_310a_11e7_b70c_f8a963538a81row4_col4 {\n",
       "            \n",
       "                background-color:  white;\n",
       "            \n",
       "            }\n",
       "        \n",
       "            #T_72f8c168_310a_11e7_b70c_f8a963538a81row4_col5 {\n",
       "            \n",
       "                background-color:  white;\n",
       "            \n",
       "            }\n",
       "        \n",
       "            #T_72f8c168_310a_11e7_b70c_f8a963538a81row4_col6 {\n",
       "            \n",
       "                background-color:  white;\n",
       "            \n",
       "            }\n",
       "        \n",
       "            #T_72f8c168_310a_11e7_b70c_f8a963538a81row5_col0 {\n",
       "            \n",
       "                background-color:  white;\n",
       "            \n",
       "            }\n",
       "        \n",
       "            #T_72f8c168_310a_11e7_b70c_f8a963538a81row5_col1 {\n",
       "            \n",
       "                background-color:  white;\n",
       "            \n",
       "            }\n",
       "        \n",
       "            #T_72f8c168_310a_11e7_b70c_f8a963538a81row5_col2 {\n",
       "            \n",
       "                background-color:  white;\n",
       "            \n",
       "            }\n",
       "        \n",
       "            #T_72f8c168_310a_11e7_b70c_f8a963538a81row5_col3 {\n",
       "            \n",
       "                background-color:  white;\n",
       "            \n",
       "            }\n",
       "        \n",
       "            #T_72f8c168_310a_11e7_b70c_f8a963538a81row5_col4 {\n",
       "            \n",
       "                background-color:  white;\n",
       "            \n",
       "            }\n",
       "        \n",
       "            #T_72f8c168_310a_11e7_b70c_f8a963538a81row5_col5 {\n",
       "            \n",
       "                background-color:  white;\n",
       "            \n",
       "            }\n",
       "        \n",
       "            #T_72f8c168_310a_11e7_b70c_f8a963538a81row5_col6 {\n",
       "            \n",
       "                background-color:  white;\n",
       "            \n",
       "            }\n",
       "        \n",
       "            #T_72f8c168_310a_11e7_b70c_f8a963538a81row6_col0 {\n",
       "            \n",
       "                background-color:  white;\n",
       "            \n",
       "            }\n",
       "        \n",
       "            #T_72f8c168_310a_11e7_b70c_f8a963538a81row6_col1 {\n",
       "            \n",
       "                background-color:  white;\n",
       "            \n",
       "            }\n",
       "        \n",
       "            #T_72f8c168_310a_11e7_b70c_f8a963538a81row6_col2 {\n",
       "            \n",
       "                background-color:  white;\n",
       "            \n",
       "            }\n",
       "        \n",
       "            #T_72f8c168_310a_11e7_b70c_f8a963538a81row6_col3 {\n",
       "            \n",
       "                background-color:  green;\n",
       "            \n",
       "            }\n",
       "        \n",
       "            #T_72f8c168_310a_11e7_b70c_f8a963538a81row6_col4 {\n",
       "            \n",
       "                background-color:  red;\n",
       "            \n",
       "            }\n",
       "        \n",
       "            #T_72f8c168_310a_11e7_b70c_f8a963538a81row6_col5 {\n",
       "            \n",
       "                background-color:  white;\n",
       "            \n",
       "            }\n",
       "        \n",
       "            #T_72f8c168_310a_11e7_b70c_f8a963538a81row6_col6 {\n",
       "            \n",
       "                background-color:  white;\n",
       "            \n",
       "            }\n",
       "        \n",
       "            #T_72f8c168_310a_11e7_b70c_f8a963538a81row7_col0 {\n",
       "            \n",
       "                background-color:  white;\n",
       "            \n",
       "            }\n",
       "        \n",
       "            #T_72f8c168_310a_11e7_b70c_f8a963538a81row7_col1 {\n",
       "            \n",
       "                background-color:  white;\n",
       "            \n",
       "            }\n",
       "        \n",
       "            #T_72f8c168_310a_11e7_b70c_f8a963538a81row7_col2 {\n",
       "            \n",
       "                background-color:  red;\n",
       "            \n",
       "            }\n",
       "        \n",
       "            #T_72f8c168_310a_11e7_b70c_f8a963538a81row7_col3 {\n",
       "            \n",
       "                background-color:  red;\n",
       "            \n",
       "            }\n",
       "        \n",
       "            #T_72f8c168_310a_11e7_b70c_f8a963538a81row7_col4 {\n",
       "            \n",
       "                background-color:  red;\n",
       "            \n",
       "            }\n",
       "        \n",
       "            #T_72f8c168_310a_11e7_b70c_f8a963538a81row7_col5 {\n",
       "            \n",
       "                background-color:  green;\n",
       "            \n",
       "            }\n",
       "        \n",
       "            #T_72f8c168_310a_11e7_b70c_f8a963538a81row7_col6 {\n",
       "            \n",
       "                background-color:  green;\n",
       "            \n",
       "            }\n",
       "        \n",
       "            #T_72f8c168_310a_11e7_b70c_f8a963538a81row8_col0 {\n",
       "            \n",
       "                background-color:  white;\n",
       "            \n",
       "            }\n",
       "        \n",
       "            #T_72f8c168_310a_11e7_b70c_f8a963538a81row8_col1 {\n",
       "            \n",
       "                background-color:  white;\n",
       "            \n",
       "            }\n",
       "        \n",
       "            #T_72f8c168_310a_11e7_b70c_f8a963538a81row8_col2 {\n",
       "            \n",
       "                background-color:  white;\n",
       "            \n",
       "            }\n",
       "        \n",
       "            #T_72f8c168_310a_11e7_b70c_f8a963538a81row8_col3 {\n",
       "            \n",
       "                background-color:  white;\n",
       "            \n",
       "            }\n",
       "        \n",
       "            #T_72f8c168_310a_11e7_b70c_f8a963538a81row8_col4 {\n",
       "            \n",
       "                background-color:  white;\n",
       "            \n",
       "            }\n",
       "        \n",
       "            #T_72f8c168_310a_11e7_b70c_f8a963538a81row8_col5 {\n",
       "            \n",
       "                background-color:  red;\n",
       "            \n",
       "            }\n",
       "        \n",
       "            #T_72f8c168_310a_11e7_b70c_f8a963538a81row8_col6 {\n",
       "            \n",
       "                background-color:  white;\n",
       "            \n",
       "            }\n",
       "        \n",
       "            #T_72f8c168_310a_11e7_b70c_f8a963538a81row9_col0 {\n",
       "            \n",
       "                background-color:  white;\n",
       "            \n",
       "            }\n",
       "        \n",
       "            #T_72f8c168_310a_11e7_b70c_f8a963538a81row9_col1 {\n",
       "            \n",
       "                background-color:  white;\n",
       "            \n",
       "            }\n",
       "        \n",
       "            #T_72f8c168_310a_11e7_b70c_f8a963538a81row9_col2 {\n",
       "            \n",
       "                background-color:  white;\n",
       "            \n",
       "            }\n",
       "        \n",
       "            #T_72f8c168_310a_11e7_b70c_f8a963538a81row9_col3 {\n",
       "            \n",
       "                background-color:  white;\n",
       "            \n",
       "            }\n",
       "        \n",
       "            #T_72f8c168_310a_11e7_b70c_f8a963538a81row9_col4 {\n",
       "            \n",
       "                background-color:  red;\n",
       "            \n",
       "            }\n",
       "        \n",
       "            #T_72f8c168_310a_11e7_b70c_f8a963538a81row9_col5 {\n",
       "            \n",
       "                background-color:  white;\n",
       "            \n",
       "            }\n",
       "        \n",
       "            #T_72f8c168_310a_11e7_b70c_f8a963538a81row9_col6 {\n",
       "            \n",
       "                background-color:  white;\n",
       "            \n",
       "            }\n",
       "        \n",
       "            #T_72f8c168_310a_11e7_b70c_f8a963538a81row10_col0 {\n",
       "            \n",
       "                background-color:  white;\n",
       "            \n",
       "            }\n",
       "        \n",
       "            #T_72f8c168_310a_11e7_b70c_f8a963538a81row10_col1 {\n",
       "            \n",
       "                background-color:  white;\n",
       "            \n",
       "            }\n",
       "        \n",
       "            #T_72f8c168_310a_11e7_b70c_f8a963538a81row10_col2 {\n",
       "            \n",
       "                background-color:  white;\n",
       "            \n",
       "            }\n",
       "        \n",
       "            #T_72f8c168_310a_11e7_b70c_f8a963538a81row10_col3 {\n",
       "            \n",
       "                background-color:  white;\n",
       "            \n",
       "            }\n",
       "        \n",
       "            #T_72f8c168_310a_11e7_b70c_f8a963538a81row10_col4 {\n",
       "            \n",
       "                background-color:  white;\n",
       "            \n",
       "            }\n",
       "        \n",
       "            #T_72f8c168_310a_11e7_b70c_f8a963538a81row10_col5 {\n",
       "            \n",
       "                background-color:  green;\n",
       "            \n",
       "            }\n",
       "        \n",
       "            #T_72f8c168_310a_11e7_b70c_f8a963538a81row10_col6 {\n",
       "            \n",
       "                background-color:  white;\n",
       "            \n",
       "            }\n",
       "        \n",
       "            #T_72f8c168_310a_11e7_b70c_f8a963538a81row11_col0 {\n",
       "            \n",
       "                background-color:  white;\n",
       "            \n",
       "            }\n",
       "        \n",
       "            #T_72f8c168_310a_11e7_b70c_f8a963538a81row11_col1 {\n",
       "            \n",
       "                background-color:  white;\n",
       "            \n",
       "            }\n",
       "        \n",
       "            #T_72f8c168_310a_11e7_b70c_f8a963538a81row11_col2 {\n",
       "            \n",
       "                background-color:  white;\n",
       "            \n",
       "            }\n",
       "        \n",
       "            #T_72f8c168_310a_11e7_b70c_f8a963538a81row11_col3 {\n",
       "            \n",
       "                background-color:  red;\n",
       "            \n",
       "            }\n",
       "        \n",
       "            #T_72f8c168_310a_11e7_b70c_f8a963538a81row11_col4 {\n",
       "            \n",
       "                background-color:  white;\n",
       "            \n",
       "            }\n",
       "        \n",
       "            #T_72f8c168_310a_11e7_b70c_f8a963538a81row11_col5 {\n",
       "            \n",
       "                background-color:  white;\n",
       "            \n",
       "            }\n",
       "        \n",
       "            #T_72f8c168_310a_11e7_b70c_f8a963538a81row11_col6 {\n",
       "            \n",
       "                background-color:  white;\n",
       "            \n",
       "            }\n",
       "        \n",
       "            #T_72f8c168_310a_11e7_b70c_f8a963538a81row12_col0 {\n",
       "            \n",
       "                background-color:  white;\n",
       "            \n",
       "            }\n",
       "        \n",
       "            #T_72f8c168_310a_11e7_b70c_f8a963538a81row12_col1 {\n",
       "            \n",
       "                background-color:  green;\n",
       "            \n",
       "            }\n",
       "        \n",
       "            #T_72f8c168_310a_11e7_b70c_f8a963538a81row12_col2 {\n",
       "            \n",
       "                background-color:  white;\n",
       "            \n",
       "            }\n",
       "        \n",
       "            #T_72f8c168_310a_11e7_b70c_f8a963538a81row12_col3 {\n",
       "            \n",
       "                background-color:  white;\n",
       "            \n",
       "            }\n",
       "        \n",
       "            #T_72f8c168_310a_11e7_b70c_f8a963538a81row12_col4 {\n",
       "            \n",
       "                background-color:  white;\n",
       "            \n",
       "            }\n",
       "        \n",
       "            #T_72f8c168_310a_11e7_b70c_f8a963538a81row12_col5 {\n",
       "            \n",
       "                background-color:  white;\n",
       "            \n",
       "            }\n",
       "        \n",
       "            #T_72f8c168_310a_11e7_b70c_f8a963538a81row12_col6 {\n",
       "            \n",
       "                background-color:  white;\n",
       "            \n",
       "            }\n",
       "        \n",
       "            #T_72f8c168_310a_11e7_b70c_f8a963538a81row13_col0 {\n",
       "            \n",
       "                background-color:  white;\n",
       "            \n",
       "            }\n",
       "        \n",
       "            #T_72f8c168_310a_11e7_b70c_f8a963538a81row13_col1 {\n",
       "            \n",
       "                background-color:  white;\n",
       "            \n",
       "            }\n",
       "        \n",
       "            #T_72f8c168_310a_11e7_b70c_f8a963538a81row13_col2 {\n",
       "            \n",
       "                background-color:  white;\n",
       "            \n",
       "            }\n",
       "        \n",
       "            #T_72f8c168_310a_11e7_b70c_f8a963538a81row13_col3 {\n",
       "            \n",
       "                background-color:  white;\n",
       "            \n",
       "            }\n",
       "        \n",
       "            #T_72f8c168_310a_11e7_b70c_f8a963538a81row13_col4 {\n",
       "            \n",
       "                background-color:  white;\n",
       "            \n",
       "            }\n",
       "        \n",
       "            #T_72f8c168_310a_11e7_b70c_f8a963538a81row13_col5 {\n",
       "            \n",
       "                background-color:  white;\n",
       "            \n",
       "            }\n",
       "        \n",
       "            #T_72f8c168_310a_11e7_b70c_f8a963538a81row13_col6 {\n",
       "            \n",
       "                background-color:  white;\n",
       "            \n",
       "            }\n",
       "        \n",
       "            #T_72f8c168_310a_11e7_b70c_f8a963538a81row14_col0 {\n",
       "            \n",
       "                background-color:  white;\n",
       "            \n",
       "            }\n",
       "        \n",
       "            #T_72f8c168_310a_11e7_b70c_f8a963538a81row14_col1 {\n",
       "            \n",
       "                background-color:  white;\n",
       "            \n",
       "            }\n",
       "        \n",
       "            #T_72f8c168_310a_11e7_b70c_f8a963538a81row14_col2 {\n",
       "            \n",
       "                background-color:  white;\n",
       "            \n",
       "            }\n",
       "        \n",
       "            #T_72f8c168_310a_11e7_b70c_f8a963538a81row14_col3 {\n",
       "            \n",
       "                background-color:  white;\n",
       "            \n",
       "            }\n",
       "        \n",
       "            #T_72f8c168_310a_11e7_b70c_f8a963538a81row14_col4 {\n",
       "            \n",
       "                background-color:  white;\n",
       "            \n",
       "            }\n",
       "        \n",
       "            #T_72f8c168_310a_11e7_b70c_f8a963538a81row14_col5 {\n",
       "            \n",
       "                background-color:  red;\n",
       "            \n",
       "            }\n",
       "        \n",
       "            #T_72f8c168_310a_11e7_b70c_f8a963538a81row14_col6 {\n",
       "            \n",
       "                background-color:  white;\n",
       "            \n",
       "            }\n",
       "        \n",
       "            #T_72f8c168_310a_11e7_b70c_f8a963538a81row15_col0 {\n",
       "            \n",
       "                background-color:  white;\n",
       "            \n",
       "            }\n",
       "        \n",
       "            #T_72f8c168_310a_11e7_b70c_f8a963538a81row15_col1 {\n",
       "            \n",
       "                background-color:  white;\n",
       "            \n",
       "            }\n",
       "        \n",
       "            #T_72f8c168_310a_11e7_b70c_f8a963538a81row15_col2 {\n",
       "            \n",
       "                background-color:  white;\n",
       "            \n",
       "            }\n",
       "        \n",
       "            #T_72f8c168_310a_11e7_b70c_f8a963538a81row15_col3 {\n",
       "            \n",
       "                background-color:  white;\n",
       "            \n",
       "            }\n",
       "        \n",
       "            #T_72f8c168_310a_11e7_b70c_f8a963538a81row15_col4 {\n",
       "            \n",
       "                background-color:  white;\n",
       "            \n",
       "            }\n",
       "        \n",
       "            #T_72f8c168_310a_11e7_b70c_f8a963538a81row15_col5 {\n",
       "            \n",
       "                background-color:  white;\n",
       "            \n",
       "            }\n",
       "        \n",
       "            #T_72f8c168_310a_11e7_b70c_f8a963538a81row15_col6 {\n",
       "            \n",
       "                background-color:  white;\n",
       "            \n",
       "            }\n",
       "        \n",
       "        </style>\n",
       "\n",
       "        <table id=\"T_72f8c168_310a_11e7_b70c_f8a963538a81\" None>\n",
       "        \n",
       "\n",
       "        <thead>\n",
       "            \n",
       "            <tr>\n",
       "                \n",
       "                \n",
       "                <th class=\"blank level0\" >\n",
       "                  \n",
       "                \n",
       "                \n",
       "                \n",
       "                <th class=\"col_heading level0 col0\" colspan=1>\n",
       "                  c++\n",
       "                \n",
       "                \n",
       "                \n",
       "                <th class=\"col_heading level0 col1\" colspan=1>\n",
       "                  c\n",
       "                \n",
       "                \n",
       "                \n",
       "                <th class=\"col_heading level0 col2\" colspan=1>\n",
       "                  c#\n",
       "                \n",
       "                \n",
       "                \n",
       "                <th class=\"col_heading level0 col3\" colspan=1>\n",
       "                  java\n",
       "                \n",
       "                \n",
       "                \n",
       "                <th class=\"col_heading level0 col4\" colspan=1>\n",
       "                  python\n",
       "                \n",
       "                \n",
       "                \n",
       "                <th class=\"col_heading level0 col5\" colspan=1>\n",
       "                  r\n",
       "                \n",
       "                \n",
       "                \n",
       "                <th class=\"col_heading level0 col6\" colspan=1>\n",
       "                  lisp\n",
       "                \n",
       "                \n",
       "            </tr>\n",
       "            \n",
       "        </thead>\n",
       "        <tbody>\n",
       "            \n",
       "            <tr>\n",
       "                \n",
       "                \n",
       "                <th id=\"T_72f8c168_310a_11e7_b70c_f8a963538a81\"\n",
       "                 class=\"row_heading level0 row0\" rowspan=1>\n",
       "                    ENFJ\n",
       "                \n",
       "                \n",
       "                \n",
       "                <td id=\"T_72f8c168_310a_11e7_b70c_f8a963538a81row0_col0\"\n",
       "                 class=\"data row0 col0\" >\n",
       "                    0.142857\n",
       "                \n",
       "                \n",
       "                \n",
       "                <td id=\"T_72f8c168_310a_11e7_b70c_f8a963538a81row0_col1\"\n",
       "                 class=\"data row0 col1\" >\n",
       "                    0.142857\n",
       "                \n",
       "                \n",
       "                \n",
       "                <td id=\"T_72f8c168_310a_11e7_b70c_f8a963538a81row0_col2\"\n",
       "                 class=\"data row0 col2\" >\n",
       "                    -0.180702\n",
       "                \n",
       "                \n",
       "                \n",
       "                <td id=\"T_72f8c168_310a_11e7_b70c_f8a963538a81row0_col3\"\n",
       "                 class=\"data row0 col3\" >\n",
       "                    0.917914\n",
       "                \n",
       "                \n",
       "                \n",
       "                <td id=\"T_72f8c168_310a_11e7_b70c_f8a963538a81row0_col4\"\n",
       "                 class=\"data row0 col4\" >\n",
       "                    -1.64286\n",
       "                \n",
       "                \n",
       "                \n",
       "                <td id=\"T_72f8c168_310a_11e7_b70c_f8a963538a81row0_col5\"\n",
       "                 class=\"data row0 col5\" >\n",
       "                    0.505076\n",
       "                \n",
       "                \n",
       "                \n",
       "                <td id=\"T_72f8c168_310a_11e7_b70c_f8a963538a81row0_col6\"\n",
       "                 class=\"data row0 col6\" >\n",
       "                    0.917914\n",
       "                \n",
       "                \n",
       "            </tr>\n",
       "            \n",
       "            <tr>\n",
       "                \n",
       "                \n",
       "                <th id=\"T_72f8c168_310a_11e7_b70c_f8a963538a81\"\n",
       "                 class=\"row_heading level0 row1\" rowspan=1>\n",
       "                    ENFP\n",
       "                \n",
       "                \n",
       "                \n",
       "                <td id=\"T_72f8c168_310a_11e7_b70c_f8a963538a81row1_col0\"\n",
       "                 class=\"data row1 col0\" >\n",
       "                    inf\n",
       "                \n",
       "                \n",
       "                \n",
       "                <td id=\"T_72f8c168_310a_11e7_b70c_f8a963538a81row1_col1\"\n",
       "                 class=\"data row1 col1\" >\n",
       "                    -0.142857\n",
       "                \n",
       "                \n",
       "                \n",
       "                <td id=\"T_72f8c168_310a_11e7_b70c_f8a963538a81row1_col2\"\n",
       "                 class=\"data row1 col2\" >\n",
       "                    inf\n",
       "                \n",
       "                \n",
       "                \n",
       "                <td id=\"T_72f8c168_310a_11e7_b70c_f8a963538a81row1_col3\"\n",
       "                 class=\"data row1 col3\" >\n",
       "                    inf\n",
       "                \n",
       "                \n",
       "                \n",
       "                <td id=\"T_72f8c168_310a_11e7_b70c_f8a963538a81row1_col4\"\n",
       "                 class=\"data row1 col4\" >\n",
       "                    -1.23718\n",
       "                \n",
       "                \n",
       "                \n",
       "                <td id=\"T_72f8c168_310a_11e7_b70c_f8a963538a81row1_col5\"\n",
       "                 class=\"data row1 col5\" >\n",
       "                    inf\n",
       "                \n",
       "                \n",
       "                \n",
       "                <td id=\"T_72f8c168_310a_11e7_b70c_f8a963538a81row1_col6\"\n",
       "                 class=\"data row1 col6\" >\n",
       "                    -0.808122\n",
       "                \n",
       "                \n",
       "            </tr>\n",
       "            \n",
       "            <tr>\n",
       "                \n",
       "                \n",
       "                <th id=\"T_72f8c168_310a_11e7_b70c_f8a963538a81\"\n",
       "                 class=\"row_heading level0 row2\" rowspan=1>\n",
       "                    ENTJ\n",
       "                \n",
       "                \n",
       "                \n",
       "                <td id=\"T_72f8c168_310a_11e7_b70c_f8a963538a81row2_col0\"\n",
       "                 class=\"data row2 col0\" >\n",
       "                    -0.0280166\n",
       "                \n",
       "                \n",
       "                \n",
       "                <td id=\"T_72f8c168_310a_11e7_b70c_f8a963538a81row2_col1\"\n",
       "                 class=\"data row2 col1\" >\n",
       "                    0.822346\n",
       "                \n",
       "                \n",
       "                \n",
       "                <td id=\"T_72f8c168_310a_11e7_b70c_f8a963538a81row2_col2\"\n",
       "                 class=\"data row2 col2\" >\n",
       "                    -0.583614\n",
       "                \n",
       "                \n",
       "                \n",
       "                <td id=\"T_72f8c168_310a_11e7_b70c_f8a963538a81row2_col3\"\n",
       "                 class=\"data row2 col3\" >\n",
       "                    -0.756379\n",
       "                \n",
       "                \n",
       "                \n",
       "                <td id=\"T_72f8c168_310a_11e7_b70c_f8a963538a81row2_col4\"\n",
       "                 class=\"data row2 col4\" >\n",
       "                    0.379088\n",
       "                \n",
       "                \n",
       "                \n",
       "                <td id=\"T_72f8c168_310a_11e7_b70c_f8a963538a81row2_col5\"\n",
       "                 class=\"data row2 col5\" >\n",
       "                    -0.583614\n",
       "                \n",
       "                \n",
       "                \n",
       "                <td id=\"T_72f8c168_310a_11e7_b70c_f8a963538a81row2_col6\"\n",
       "                 class=\"data row2 col6\" >\n",
       "                    1.05992\n",
       "                \n",
       "                \n",
       "            </tr>\n",
       "            \n",
       "            <tr>\n",
       "                \n",
       "                \n",
       "                <th id=\"T_72f8c168_310a_11e7_b70c_f8a963538a81\"\n",
       "                 class=\"row_heading level0 row3\" rowspan=1>\n",
       "                    ENTP\n",
       "                \n",
       "                \n",
       "                \n",
       "                <td id=\"T_72f8c168_310a_11e7_b70c_f8a963538a81row3_col0\"\n",
       "                 class=\"data row3 col0\" >\n",
       "                    -0.412393\n",
       "                \n",
       "                \n",
       "                \n",
       "                <td id=\"T_72f8c168_310a_11e7_b70c_f8a963538a81row3_col1\"\n",
       "                 class=\"data row3 col1\" >\n",
       "                    -0.857143\n",
       "                \n",
       "                \n",
       "                \n",
       "                <td id=\"T_72f8c168_310a_11e7_b70c_f8a963538a81row3_col2\"\n",
       "                 class=\"data row3 col2\" >\n",
       "                    1.28571\n",
       "                \n",
       "                \n",
       "                \n",
       "                <td id=\"T_72f8c168_310a_11e7_b70c_f8a963538a81row3_col3\"\n",
       "                 class=\"data row3 col3\" >\n",
       "                    inf\n",
       "                \n",
       "                \n",
       "                \n",
       "                <td id=\"T_72f8c168_310a_11e7_b70c_f8a963538a81row3_col4\"\n",
       "                 class=\"data row3 col4\" >\n",
       "                    1.28571\n",
       "                \n",
       "                \n",
       "                \n",
       "                <td id=\"T_72f8c168_310a_11e7_b70c_f8a963538a81row3_col5\"\n",
       "                 class=\"data row3 col5\" >\n",
       "                    0.202031\n",
       "                \n",
       "                \n",
       "                \n",
       "                <td id=\"T_72f8c168_310a_11e7_b70c_f8a963538a81row3_col6\"\n",
       "                 class=\"data row3 col6\" >\n",
       "                    -1.21387\n",
       "                \n",
       "                \n",
       "            </tr>\n",
       "            \n",
       "            <tr>\n",
       "                \n",
       "                \n",
       "                <th id=\"T_72f8c168_310a_11e7_b70c_f8a963538a81\"\n",
       "                 class=\"row_heading level0 row4\" rowspan=1>\n",
       "                    ESFJ\n",
       "                \n",
       "                \n",
       "                \n",
       "                <td id=\"T_72f8c168_310a_11e7_b70c_f8a963538a81row4_col0\"\n",
       "                 class=\"data row4 col0\" >\n",
       "                    -0.0729015\n",
       "                \n",
       "                \n",
       "                \n",
       "                <td id=\"T_72f8c168_310a_11e7_b70c_f8a963538a81row4_col1\"\n",
       "                 class=\"data row4 col1\" >\n",
       "                    1.70899\n",
       "                \n",
       "                \n",
       "                \n",
       "                <td id=\"T_72f8c168_310a_11e7_b70c_f8a963538a81row4_col2\"\n",
       "                 class=\"data row4 col2\" >\n",
       "                    0.888322\n",
       "                \n",
       "                \n",
       "                \n",
       "                <td id=\"T_72f8c168_310a_11e7_b70c_f8a963538a81row4_col3\"\n",
       "                 class=\"data row4 col3\" >\n",
       "                    0.342559\n",
       "                \n",
       "                \n",
       "                \n",
       "                <td id=\"T_72f8c168_310a_11e7_b70c_f8a963538a81row4_col4\"\n",
       "                 class=\"data row4 col4\" >\n",
       "                    -1.22343\n",
       "                \n",
       "                \n",
       "                \n",
       "                <td id=\"T_72f8c168_310a_11e7_b70c_f8a963538a81row4_col5\"\n",
       "                 class=\"data row4 col5\" >\n",
       "                    -0.0729015\n",
       "                \n",
       "                \n",
       "                \n",
       "                <td id=\"T_72f8c168_310a_11e7_b70c_f8a963538a81row4_col6\"\n",
       "                 class=\"data row4 col6\" >\n",
       "                    -1.22343\n",
       "                \n",
       "                \n",
       "            </tr>\n",
       "            \n",
       "            <tr>\n",
       "                \n",
       "                \n",
       "                <th id=\"T_72f8c168_310a_11e7_b70c_f8a963538a81\"\n",
       "                 class=\"row_heading level0 row5\" rowspan=1>\n",
       "                    ESFP\n",
       "                \n",
       "                \n",
       "                \n",
       "                <td id=\"T_72f8c168_310a_11e7_b70c_f8a963538a81row5_col0\"\n",
       "                 class=\"data row5 col0\" >\n",
       "                    1.14345\n",
       "                \n",
       "                \n",
       "                \n",
       "                <td id=\"T_72f8c168_310a_11e7_b70c_f8a963538a81row5_col1\"\n",
       "                 class=\"data row5 col1\" >\n",
       "                    0.336718\n",
       "                \n",
       "                \n",
       "                \n",
       "                <td id=\"T_72f8c168_310a_11e7_b70c_f8a963538a81row5_col2\"\n",
       "                 class=\"data row5 col2\" >\n",
       "                    -0.744694\n",
       "                \n",
       "                \n",
       "                \n",
       "                <td id=\"T_72f8c168_310a_11e7_b70c_f8a963538a81row5_col3\"\n",
       "                 class=\"data row5 col3\" >\n",
       "                    -0.744694\n",
       "                \n",
       "                \n",
       "                \n",
       "                <td id=\"T_72f8c168_310a_11e7_b70c_f8a963538a81row5_col4\"\n",
       "                 class=\"data row5 col4\" >\n",
       "                    1.78296\n",
       "                \n",
       "                \n",
       "                \n",
       "                <td id=\"T_72f8c168_310a_11e7_b70c_f8a963538a81row5_col5\"\n",
       "                 class=\"data row5 col5\" >\n",
       "                    -1.11429\n",
       "                \n",
       "                \n",
       "                \n",
       "                <td id=\"T_72f8c168_310a_11e7_b70c_f8a963538a81row5_col6\"\n",
       "                 class=\"data row5 col6\" >\n",
       "                    0.098321\n",
       "                \n",
       "                \n",
       "            </tr>\n",
       "            \n",
       "            <tr>\n",
       "                \n",
       "                \n",
       "                <th id=\"T_72f8c168_310a_11e7_b70c_f8a963538a81\"\n",
       "                 class=\"row_heading level0 row6\" rowspan=1>\n",
       "                    ESTJ\n",
       "                \n",
       "                \n",
       "                \n",
       "                <td id=\"T_72f8c168_310a_11e7_b70c_f8a963538a81row6_col0\"\n",
       "                 class=\"data row6 col0\" >\n",
       "                    -1.07091\n",
       "                \n",
       "                \n",
       "                \n",
       "                <td id=\"T_72f8c168_310a_11e7_b70c_f8a963538a81row6_col1\"\n",
       "                 class=\"data row6 col1\" >\n",
       "                    1.16089\n",
       "                \n",
       "                \n",
       "                \n",
       "                <td id=\"T_72f8c168_310a_11e7_b70c_f8a963538a81row6_col2\"\n",
       "                 class=\"data row6 col2\" >\n",
       "                    -0.926096\n",
       "                \n",
       "                \n",
       "                \n",
       "                <td id=\"T_72f8c168_310a_11e7_b70c_f8a963538a81row6_col3\"\n",
       "                 class=\"data row6 col3\" >\n",
       "                    -2.59023\n",
       "                \n",
       "                \n",
       "                \n",
       "                <td id=\"T_72f8c168_310a_11e7_b70c_f8a963538a81row6_col4\"\n",
       "                 class=\"data row6 col4\" >\n",
       "                    2.0704\n",
       "                \n",
       "                \n",
       "                \n",
       "                <td id=\"T_72f8c168_310a_11e7_b70c_f8a963538a81row6_col5\"\n",
       "                 class=\"data row6 col5\" >\n",
       "                    1.16089\n",
       "                \n",
       "                \n",
       "                \n",
       "                <td id=\"T_72f8c168_310a_11e7_b70c_f8a963538a81row6_col6\"\n",
       "                 class=\"data row6 col6\" >\n",
       "                    1.82857\n",
       "                \n",
       "                \n",
       "            </tr>\n",
       "            \n",
       "            <tr>\n",
       "                \n",
       "                \n",
       "                <th id=\"T_72f8c168_310a_11e7_b70c_f8a963538a81\"\n",
       "                 class=\"row_heading level0 row7\" rowspan=1>\n",
       "                    ESTP\n",
       "                \n",
       "                \n",
       "                \n",
       "                <td id=\"T_72f8c168_310a_11e7_b70c_f8a963538a81row7_col0\"\n",
       "                 class=\"data row7 col0\" >\n",
       "                    0.458831\n",
       "                \n",
       "                \n",
       "                \n",
       "                <td id=\"T_72f8c168_310a_11e7_b70c_f8a963538a81row7_col1\"\n",
       "                 class=\"data row7 col1\" >\n",
       "                    0.458831\n",
       "                \n",
       "                \n",
       "                \n",
       "                <td id=\"T_72f8c168_310a_11e7_b70c_f8a963538a81row7_col2\"\n",
       "                 class=\"data row7 col2\" >\n",
       "                    2.59808\n",
       "                \n",
       "                \n",
       "                \n",
       "                <td id=\"T_72f8c168_310a_11e7_b70c_f8a963538a81row7_col3\"\n",
       "                 class=\"data row7 col3\" >\n",
       "                    10.3923\n",
       "                \n",
       "                \n",
       "                \n",
       "                <td id=\"T_72f8c168_310a_11e7_b70c_f8a963538a81row7_col4\"\n",
       "                 class=\"data row7 col4\" >\n",
       "                    2.2188\n",
       "                \n",
       "                \n",
       "                \n",
       "                <td id=\"T_72f8c168_310a_11e7_b70c_f8a963538a81row7_col5\"\n",
       "                 class=\"data row7 col5\" >\n",
       "                    -2.5\n",
       "                \n",
       "                \n",
       "                \n",
       "                <td id=\"T_72f8c168_310a_11e7_b70c_f8a963538a81row7_col6\"\n",
       "                 class=\"data row7 col6\" >\n",
       "                    -3.57771\n",
       "                \n",
       "                \n",
       "            </tr>\n",
       "            \n",
       "            <tr>\n",
       "                \n",
       "                \n",
       "                <th id=\"T_72f8c168_310a_11e7_b70c_f8a963538a81\"\n",
       "                 class=\"row_heading level0 row8\" rowspan=1>\n",
       "                    INFJ\n",
       "                \n",
       "                \n",
       "                \n",
       "                <td id=\"T_72f8c168_310a_11e7_b70c_f8a963538a81row8_col0\"\n",
       "                 class=\"data row8 col0\" >\n",
       "                    1.21429\n",
       "                \n",
       "                \n",
       "                \n",
       "                <td id=\"T_72f8c168_310a_11e7_b70c_f8a963538a81row8_col1\"\n",
       "                 class=\"data row8 col1\" >\n",
       "                    1.97949\n",
       "                \n",
       "                \n",
       "                \n",
       "                <td id=\"T_72f8c168_310a_11e7_b70c_f8a963538a81row8_col2\"\n",
       "                 class=\"data row8 col2\" >\n",
       "                    -0.21598\n",
       "                \n",
       "                \n",
       "                \n",
       "                <td id=\"T_72f8c168_310a_11e7_b70c_f8a963538a81row8_col3\"\n",
       "                 class=\"data row8 col3\" >\n",
       "                    -1.37834\n",
       "                \n",
       "                \n",
       "                \n",
       "                <td id=\"T_72f8c168_310a_11e7_b70c_f8a963538a81row8_col4\"\n",
       "                 class=\"data row8 col4\" >\n",
       "                    -0.857143\n",
       "                \n",
       "                \n",
       "                \n",
       "                <td id=\"T_72f8c168_310a_11e7_b70c_f8a963538a81row8_col5\"\n",
       "                 class=\"data row8 col5\" >\n",
       "                    3.13147\n",
       "                \n",
       "                \n",
       "                \n",
       "                <td id=\"T_72f8c168_310a_11e7_b70c_f8a963538a81row8_col6\"\n",
       "                 class=\"data row8 col6\" >\n",
       "                    -0.857143\n",
       "                \n",
       "                \n",
       "            </tr>\n",
       "            \n",
       "            <tr>\n",
       "                \n",
       "                \n",
       "                <th id=\"T_72f8c168_310a_11e7_b70c_f8a963538a81\"\n",
       "                 class=\"row_heading level0 row9\" rowspan=1>\n",
       "                    INFP\n",
       "                \n",
       "                \n",
       "                \n",
       "                <td id=\"T_72f8c168_310a_11e7_b70c_f8a963538a81row9_col0\"\n",
       "                 class=\"data row9 col0\" >\n",
       "                    0.172292\n",
       "                \n",
       "                \n",
       "                \n",
       "                <td id=\"T_72f8c168_310a_11e7_b70c_f8a963538a81row9_col1\"\n",
       "                 class=\"data row9 col1\" >\n",
       "                    0.496929\n",
       "                \n",
       "                \n",
       "                \n",
       "                <td id=\"T_72f8c168_310a_11e7_b70c_f8a963538a81row9_col2\"\n",
       "                 class=\"data row9 col2\" >\n",
       "                    0.496929\n",
       "                \n",
       "                \n",
       "                \n",
       "                <td id=\"T_72f8c168_310a_11e7_b70c_f8a963538a81row9_col3\"\n",
       "                 class=\"data row9 col3\" >\n",
       "                    -1.10714\n",
       "                \n",
       "                \n",
       "                \n",
       "                <td id=\"T_72f8c168_310a_11e7_b70c_f8a963538a81row9_col4\"\n",
       "                 class=\"data row9 col4\" >\n",
       "                    2.27453\n",
       "                \n",
       "                \n",
       "                \n",
       "                <td id=\"T_72f8c168_310a_11e7_b70c_f8a963538a81row9_col5\"\n",
       "                 class=\"data row9 col5\" >\n",
       "                    -0.885253\n",
       "                \n",
       "                \n",
       "                \n",
       "                <td id=\"T_72f8c168_310a_11e7_b70c_f8a963538a81row9_col6\"\n",
       "                 class=\"data row9 col6\" >\n",
       "                    -0.396214\n",
       "                \n",
       "                \n",
       "            </tr>\n",
       "            \n",
       "            <tr>\n",
       "                \n",
       "                \n",
       "                <th id=\"T_72f8c168_310a_11e7_b70c_f8a963538a81\"\n",
       "                 class=\"row_heading level0 row10\" rowspan=1>\n",
       "                    INTJ\n",
       "                \n",
       "                \n",
       "                \n",
       "                <td id=\"T_72f8c168_310a_11e7_b70c_f8a963538a81row10_col0\"\n",
       "                 class=\"data row10 col0\" >\n",
       "                    1.47903\n",
       "                \n",
       "                \n",
       "                \n",
       "                <td id=\"T_72f8c168_310a_11e7_b70c_f8a963538a81row10_col1\"\n",
       "                 class=\"data row10 col1\" >\n",
       "                    -0.188167\n",
       "                \n",
       "                \n",
       "                \n",
       "                <td id=\"T_72f8c168_310a_11e7_b70c_f8a963538a81row10_col2\"\n",
       "                 class=\"data row10 col2\" >\n",
       "                    0.031746\n",
       "                \n",
       "                \n",
       "                \n",
       "                <td id=\"T_72f8c168_310a_11e7_b70c_f8a963538a81row10_col3\"\n",
       "                 class=\"data row10 col3\" >\n",
       "                    -0.0788797\n",
       "                \n",
       "                \n",
       "                \n",
       "                <td id=\"T_72f8c168_310a_11e7_b70c_f8a963538a81row10_col4\"\n",
       "                 class=\"data row10 col4\" >\n",
       "                    0.606313\n",
       "                \n",
       "                \n",
       "                \n",
       "                <td id=\"T_72f8c168_310a_11e7_b70c_f8a963538a81row10_col5\"\n",
       "                 class=\"data row10 col5\" >\n",
       "                    -2.57058\n",
       "                \n",
       "                \n",
       "                \n",
       "                <td id=\"T_72f8c168_310a_11e7_b70c_f8a963538a81row10_col6\"\n",
       "                 class=\"data row10 col6\" >\n",
       "                    1.3489\n",
       "                \n",
       "                \n",
       "            </tr>\n",
       "            \n",
       "            <tr>\n",
       "                \n",
       "                \n",
       "                <th id=\"T_72f8c168_310a_11e7_b70c_f8a963538a81\"\n",
       "                 class=\"row_heading level0 row11\" rowspan=1>\n",
       "                    INTP\n",
       "                \n",
       "                \n",
       "                \n",
       "                <td id=\"T_72f8c168_310a_11e7_b70c_f8a963538a81row11_col0\"\n",
       "                 class=\"data row11 col0\" >\n",
       "                    -1.10201\n",
       "                \n",
       "                \n",
       "                \n",
       "                <td id=\"T_72f8c168_310a_11e7_b70c_f8a963538a81row11_col1\"\n",
       "                 class=\"data row11 col1\" >\n",
       "                    -1.5341\n",
       "                \n",
       "                \n",
       "                \n",
       "                <td id=\"T_72f8c168_310a_11e7_b70c_f8a963538a81row11_col2\"\n",
       "                 class=\"data row11 col2\" >\n",
       "                    1.04978\n",
       "                \n",
       "                \n",
       "                \n",
       "                <td id=\"T_72f8c168_310a_11e7_b70c_f8a963538a81row11_col3\"\n",
       "                 class=\"data row11 col3\" >\n",
       "                    3.04198\n",
       "                \n",
       "                \n",
       "                \n",
       "                <td id=\"T_72f8c168_310a_11e7_b70c_f8a963538a81row11_col4\"\n",
       "                 class=\"data row11 col4\" >\n",
       "                    -1.32089\n",
       "                \n",
       "                \n",
       "                \n",
       "                <td id=\"T_72f8c168_310a_11e7_b70c_f8a963538a81row11_col5\"\n",
       "                 class=\"data row11 col5\" >\n",
       "                    0.905354\n",
       "                \n",
       "                \n",
       "                \n",
       "                <td id=\"T_72f8c168_310a_11e7_b70c_f8a963538a81row11_col6\"\n",
       "                 class=\"data row11 col6\" >\n",
       "                    -0.0362858\n",
       "                \n",
       "                \n",
       "            </tr>\n",
       "            \n",
       "            <tr>\n",
       "                \n",
       "                \n",
       "                <th id=\"T_72f8c168_310a_11e7_b70c_f8a963538a81\"\n",
       "                 class=\"row_heading level0 row12\" rowspan=1>\n",
       "                    ISFJ\n",
       "                \n",
       "                \n",
       "                \n",
       "                <td id=\"T_72f8c168_310a_11e7_b70c_f8a963538a81row12_col0\"\n",
       "                 class=\"data row12 col0\" >\n",
       "                    0.524891\n",
       "                \n",
       "                \n",
       "                \n",
       "                <td id=\"T_72f8c168_310a_11e7_b70c_f8a963538a81row12_col1\"\n",
       "                 class=\"data row12 col1\" >\n",
       "                    -2.35606\n",
       "                \n",
       "                \n",
       "                \n",
       "                <td id=\"T_72f8c168_310a_11e7_b70c_f8a963538a81row12_col2\"\n",
       "                 class=\"data row12 col2\" >\n",
       "                    1.0222\n",
       "                \n",
       "                \n",
       "                \n",
       "                <td id=\"T_72f8c168_310a_11e7_b70c_f8a963538a81row12_col3\"\n",
       "                 class=\"data row12 col3\" >\n",
       "                    0.524891\n",
       "                \n",
       "                \n",
       "                \n",
       "                <td id=\"T_72f8c168_310a_11e7_b70c_f8a963538a81row12_col4\"\n",
       "                 class=\"data row12 col4\" >\n",
       "                    0.524891\n",
       "                \n",
       "                \n",
       "                \n",
       "                <td id=\"T_72f8c168_310a_11e7_b70c_f8a963538a81row12_col5\"\n",
       "                 class=\"data row12 col5\" >\n",
       "                    1.0222\n",
       "                \n",
       "                \n",
       "                \n",
       "                <td id=\"T_72f8c168_310a_11e7_b70c_f8a963538a81row12_col6\"\n",
       "                 class=\"data row12 col6\" >\n",
       "                    0.524891\n",
       "                \n",
       "                \n",
       "            </tr>\n",
       "            \n",
       "            <tr>\n",
       "                \n",
       "                \n",
       "                <th id=\"T_72f8c168_310a_11e7_b70c_f8a963538a81\"\n",
       "                 class=\"row_heading level0 row13\" rowspan=1>\n",
       "                    ISFP\n",
       "                \n",
       "                \n",
       "                \n",
       "                <td id=\"T_72f8c168_310a_11e7_b70c_f8a963538a81row13_col0\"\n",
       "                 class=\"data row13 col0\" >\n",
       "                    0.824786\n",
       "                \n",
       "                \n",
       "                \n",
       "                <td id=\"T_72f8c168_310a_11e7_b70c_f8a963538a81row13_col1\"\n",
       "                 class=\"data row13 col1\" >\n",
       "                    0.824786\n",
       "                \n",
       "                \n",
       "                \n",
       "                <td id=\"T_72f8c168_310a_11e7_b70c_f8a963538a81row13_col2\"\n",
       "                 class=\"data row13 col2\" >\n",
       "                    -1.26269\n",
       "                \n",
       "                \n",
       "                \n",
       "                <td id=\"T_72f8c168_310a_11e7_b70c_f8a963538a81row13_col3\"\n",
       "                 class=\"data row13 col3\" >\n",
       "                    0.214286\n",
       "                \n",
       "                \n",
       "                \n",
       "                <td id=\"T_72f8c168_310a_11e7_b70c_f8a963538a81row13_col4\"\n",
       "                 class=\"data row13 col4\" >\n",
       "                    -0.255551\n",
       "                \n",
       "                \n",
       "                \n",
       "                <td id=\"T_72f8c168_310a_11e7_b70c_f8a963538a81row13_col5\"\n",
       "                 class=\"data row13 col5\" >\n",
       "                    -0.255551\n",
       "                \n",
       "                \n",
       "                \n",
       "                <td id=\"T_72f8c168_310a_11e7_b70c_f8a963538a81row13_col6\"\n",
       "                 class=\"data row13 col6\" >\n",
       "                    0.824786\n",
       "                \n",
       "                \n",
       "            </tr>\n",
       "            \n",
       "            <tr>\n",
       "                \n",
       "                \n",
       "                <th id=\"T_72f8c168_310a_11e7_b70c_f8a963538a81\"\n",
       "                 class=\"row_heading level0 row14\" rowspan=1>\n",
       "                    ISTJ\n",
       "                \n",
       "                \n",
       "                \n",
       "                <td id=\"T_72f8c168_310a_11e7_b70c_f8a963538a81row14_col0\"\n",
       "                 class=\"data row14 col0\" >\n",
       "                    -0.716253\n",
       "                \n",
       "                \n",
       "                \n",
       "                <td id=\"T_72f8c168_310a_11e7_b70c_f8a963538a81row14_col1\"\n",
       "                 class=\"data row14 col1\" >\n",
       "                    -0.535192\n",
       "                \n",
       "                \n",
       "                \n",
       "                <td id=\"T_72f8c168_310a_11e7_b70c_f8a963538a81row14_col2\"\n",
       "                 class=\"data row14 col2\" >\n",
       "                    -1.41118\n",
       "                \n",
       "                \n",
       "                \n",
       "                <td id=\"T_72f8c168_310a_11e7_b70c_f8a963538a81row14_col3\"\n",
       "                 class=\"data row14 col3\" >\n",
       "                    -0.535192\n",
       "                \n",
       "                \n",
       "                \n",
       "                <td id=\"T_72f8c168_310a_11e7_b70c_f8a963538a81row14_col4\"\n",
       "                 class=\"data row14 col4\" >\n",
       "                    -0.716253\n",
       "                \n",
       "                \n",
       "                \n",
       "                <td id=\"T_72f8c168_310a_11e7_b70c_f8a963538a81row14_col5\"\n",
       "                 class=\"data row14 col5\" >\n",
       "                    3.70343\n",
       "                \n",
       "                \n",
       "                \n",
       "                <td id=\"T_72f8c168_310a_11e7_b70c_f8a963538a81row14_col6\"\n",
       "                 class=\"data row14 col6\" >\n",
       "                    1.03901\n",
       "                \n",
       "                \n",
       "            </tr>\n",
       "            \n",
       "            <tr>\n",
       "                \n",
       "                \n",
       "                <th id=\"T_72f8c168_310a_11e7_b70c_f8a963538a81\"\n",
       "                 class=\"row_heading level0 row15\" rowspan=1>\n",
       "                    ISTP\n",
       "                \n",
       "                \n",
       "                \n",
       "                <td id=\"T_72f8c168_310a_11e7_b70c_f8a963538a81row15_col0\"\n",
       "                 class=\"data row15 col0\" >\n",
       "                    -0.0824786\n",
       "                \n",
       "                \n",
       "                \n",
       "                <td id=\"T_72f8c168_310a_11e7_b70c_f8a963538a81row15_col1\"\n",
       "                 class=\"data row15 col1\" >\n",
       "                    -0.848368\n",
       "                \n",
       "                \n",
       "                \n",
       "                <td id=\"T_72f8c168_310a_11e7_b70c_f8a963538a81row15_col2\"\n",
       "                 class=\"data row15 col2\" >\n",
       "                    0.542105\n",
       "                \n",
       "                \n",
       "                \n",
       "                <td id=\"T_72f8c168_310a_11e7_b70c_f8a963538a81row15_col3\"\n",
       "                 class=\"data row15 col3\" >\n",
       "                    -1.48156\n",
       "                \n",
       "                \n",
       "                \n",
       "                <td id=\"T_72f8c168_310a_11e7_b70c_f8a963538a81row15_col4\"\n",
       "                 class=\"data row15 col4\" >\n",
       "                    1.3132\n",
       "                \n",
       "                \n",
       "                \n",
       "                <td id=\"T_72f8c168_310a_11e7_b70c_f8a963538a81row15_col5\"\n",
       "                 class=\"data row15 col5\" >\n",
       "                    0.215365\n",
       "                \n",
       "                \n",
       "                \n",
       "                <td id=\"T_72f8c168_310a_11e7_b70c_f8a963538a81row15_col6\"\n",
       "                 class=\"data row15 col6\" >\n",
       "                    1.3132\n",
       "                \n",
       "                \n",
       "            </tr>\n",
       "            \n",
       "        </tbody>\n",
       "        </table>\n",
       "        "
      ],
      "text/plain": [
       "<pandas.formats.style.Styler at 0x7f63c673b748>"
      ]
     },
     "execution_count": 17,
     "metadata": {},
     "output_type": "execute_result"
    }
   ],
   "source": [
    "comparison_questions.style.applymap(color_negative_red)"
   ]
  },
  {
   "cell_type": "markdown",
   "metadata": {},
   "source": [
    "## Distribution of Types by Programming Langauges"
   ]
  },
  {
   "cell_type": "markdown",
   "metadata": {},
   "source": [
    "### Whole Types"
   ]
  },
  {
   "cell_type": "markdown",
   "metadata": {},
   "source": [
    "Next we are going to check, if there are any differences within the langauge. For this, we will first calculate the frequency of the language used by type. "
   ]
  },
  {
   "cell_type": "code",
   "execution_count": 18,
   "metadata": {
    "collapsed": true
   },
   "outputs": [],
   "source": [
    "type_languages_comparison[\"sum\"] = type_languages_comparison.sum(axis=1)\n",
    "for lang in languages:\n",
    "    type_languages_comparison[lang] = type_languages_comparison[lang]/type_languages_comparison[\"sum\"]\n",
    "del type_languages_comparison[\"sum\"]"
   ]
  },
  {
   "cell_type": "code",
   "execution_count": 19,
   "metadata": {
    "collapsed": true
   },
   "outputs": [],
   "source": [
    "type_languages_comparison = type_languages_comparison.T"
   ]
  },
  {
   "cell_type": "code",
   "execution_count": 20,
   "metadata": {},
   "outputs": [
    {
     "data": {
      "text/html": [
       "<div>\n",
       "<table border=\"1\" class=\"dataframe\">\n",
       "  <thead>\n",
       "    <tr style=\"text-align: right;\">\n",
       "      <th></th>\n",
       "      <th>ENFJ</th>\n",
       "      <th>ENFP</th>\n",
       "      <th>ENTJ</th>\n",
       "      <th>ENTP</th>\n",
       "      <th>ESFJ</th>\n",
       "      <th>ESFP</th>\n",
       "      <th>ESTJ</th>\n",
       "      <th>ESTP</th>\n",
       "      <th>INFJ</th>\n",
       "      <th>INFP</th>\n",
       "      <th>INTJ</th>\n",
       "      <th>INTP</th>\n",
       "      <th>ISFJ</th>\n",
       "      <th>ISFP</th>\n",
       "      <th>ISTJ</th>\n",
       "      <th>ISTP</th>\n",
       "    </tr>\n",
       "  </thead>\n",
       "  <tbody>\n",
       "    <tr>\n",
       "      <th>c++</th>\n",
       "      <td>0.136364</td>\n",
       "      <td>0.000000</td>\n",
       "      <td>0.143646</td>\n",
       "      <td>0.1875</td>\n",
       "      <td>0.143928</td>\n",
       "      <td>0.110294</td>\n",
       "      <td>0.171548</td>\n",
       "      <td>0.129252</td>\n",
       "      <td>0.088889</td>\n",
       "      <td>0.135802</td>\n",
       "      <td>0.121265</td>\n",
       "      <td>0.164352</td>\n",
       "      <td>0.117647</td>\n",
       "      <td>0.096774</td>\n",
       "      <td>0.153034</td>\n",
       "      <td>0.146341</td>\n",
       "    </tr>\n",
       "    <tr>\n",
       "      <th>c</th>\n",
       "      <td>0.136364</td>\n",
       "      <td>0.166667</td>\n",
       "      <td>0.121547</td>\n",
       "      <td>0.2500</td>\n",
       "      <td>0.119940</td>\n",
       "      <td>0.132353</td>\n",
       "      <td>0.117155</td>\n",
       "      <td>0.129252</td>\n",
       "      <td>0.066667</td>\n",
       "      <td>0.123457</td>\n",
       "      <td>0.145870</td>\n",
       "      <td>0.173611</td>\n",
       "      <td>0.333333</td>\n",
       "      <td>0.096774</td>\n",
       "      <td>0.150396</td>\n",
       "      <td>0.182927</td>\n",
       "    </tr>\n",
       "    <tr>\n",
       "      <th>c#</th>\n",
       "      <td>0.151515</td>\n",
       "      <td>0.000000</td>\n",
       "      <td>0.160221</td>\n",
       "      <td>0.0625</td>\n",
       "      <td>0.130435</td>\n",
       "      <td>0.169118</td>\n",
       "      <td>0.167364</td>\n",
       "      <td>0.081633</td>\n",
       "      <td>0.155556</td>\n",
       "      <td>0.123457</td>\n",
       "      <td>0.142355</td>\n",
       "      <td>0.125000</td>\n",
       "      <td>0.098039</td>\n",
       "      <td>0.258065</td>\n",
       "      <td>0.163588</td>\n",
       "      <td>0.121951</td>\n",
       "    </tr>\n",
       "    <tr>\n",
       "      <th>java</th>\n",
       "      <td>0.106061</td>\n",
       "      <td>0.000000</td>\n",
       "      <td>0.165746</td>\n",
       "      <td>0.0000</td>\n",
       "      <td>0.137931</td>\n",
       "      <td>0.169118</td>\n",
       "      <td>0.221757</td>\n",
       "      <td>0.020408</td>\n",
       "      <td>0.244444</td>\n",
       "      <td>0.197531</td>\n",
       "      <td>0.144112</td>\n",
       "      <td>0.097222</td>\n",
       "      <td>0.117647</td>\n",
       "      <td>0.129032</td>\n",
       "      <td>0.150396</td>\n",
       "      <td>0.219512</td>\n",
       "    </tr>\n",
       "    <tr>\n",
       "      <th>python</th>\n",
       "      <td>0.242424</td>\n",
       "      <td>0.500000</td>\n",
       "      <td>0.132597</td>\n",
       "      <td>0.0625</td>\n",
       "      <td>0.161919</td>\n",
       "      <td>0.095588</td>\n",
       "      <td>0.100418</td>\n",
       "      <td>0.088435</td>\n",
       "      <td>0.200000</td>\n",
       "      <td>0.074074</td>\n",
       "      <td>0.133568</td>\n",
       "      <td>0.168981</td>\n",
       "      <td>0.117647</td>\n",
       "      <td>0.161290</td>\n",
       "      <td>0.153034</td>\n",
       "      <td>0.097561</td>\n",
       "    </tr>\n",
       "    <tr>\n",
       "      <th>r</th>\n",
       "      <td>0.121212</td>\n",
       "      <td>0.000000</td>\n",
       "      <td>0.160221</td>\n",
       "      <td>0.1250</td>\n",
       "      <td>0.143928</td>\n",
       "      <td>0.183824</td>\n",
       "      <td>0.117155</td>\n",
       "      <td>0.244898</td>\n",
       "      <td>0.044444</td>\n",
       "      <td>0.185185</td>\n",
       "      <td>0.189807</td>\n",
       "      <td>0.127315</td>\n",
       "      <td>0.098039</td>\n",
       "      <td>0.161290</td>\n",
       "      <td>0.100264</td>\n",
       "      <td>0.134146</td>\n",
       "    </tr>\n",
       "    <tr>\n",
       "      <th>lisp</th>\n",
       "      <td>0.106061</td>\n",
       "      <td>0.333333</td>\n",
       "      <td>0.116022</td>\n",
       "      <td>0.3125</td>\n",
       "      <td>0.161919</td>\n",
       "      <td>0.139706</td>\n",
       "      <td>0.104603</td>\n",
       "      <td>0.306122</td>\n",
       "      <td>0.200000</td>\n",
       "      <td>0.160494</td>\n",
       "      <td>0.123023</td>\n",
       "      <td>0.143519</td>\n",
       "      <td>0.117647</td>\n",
       "      <td>0.096774</td>\n",
       "      <td>0.129288</td>\n",
       "      <td>0.097561</td>\n",
       "    </tr>\n",
       "  </tbody>\n",
       "</table>\n",
       "</div>"
      ],
      "text/plain": [
       "            ENFJ      ENFP      ENTJ    ENTP      ESFJ      ESFP      ESTJ  \\\n",
       "c++     0.136364  0.000000  0.143646  0.1875  0.143928  0.110294  0.171548   \n",
       "c       0.136364  0.166667  0.121547  0.2500  0.119940  0.132353  0.117155   \n",
       "c#      0.151515  0.000000  0.160221  0.0625  0.130435  0.169118  0.167364   \n",
       "java    0.106061  0.000000  0.165746  0.0000  0.137931  0.169118  0.221757   \n",
       "python  0.242424  0.500000  0.132597  0.0625  0.161919  0.095588  0.100418   \n",
       "r       0.121212  0.000000  0.160221  0.1250  0.143928  0.183824  0.117155   \n",
       "lisp    0.106061  0.333333  0.116022  0.3125  0.161919  0.139706  0.104603   \n",
       "\n",
       "            ESTP      INFJ      INFP      INTJ      INTP      ISFJ      ISFP  \\\n",
       "c++     0.129252  0.088889  0.135802  0.121265  0.164352  0.117647  0.096774   \n",
       "c       0.129252  0.066667  0.123457  0.145870  0.173611  0.333333  0.096774   \n",
       "c#      0.081633  0.155556  0.123457  0.142355  0.125000  0.098039  0.258065   \n",
       "java    0.020408  0.244444  0.197531  0.144112  0.097222  0.117647  0.129032   \n",
       "python  0.088435  0.200000  0.074074  0.133568  0.168981  0.117647  0.161290   \n",
       "r       0.244898  0.044444  0.185185  0.189807  0.127315  0.098039  0.161290   \n",
       "lisp    0.306122  0.200000  0.160494  0.123023  0.143519  0.117647  0.096774   \n",
       "\n",
       "            ISTJ      ISTP  \n",
       "c++     0.153034  0.146341  \n",
       "c       0.150396  0.182927  \n",
       "c#      0.163588  0.121951  \n",
       "java    0.150396  0.219512  \n",
       "python  0.153034  0.097561  \n",
       "r       0.100264  0.134146  \n",
       "lisp    0.129288  0.097561  "
      ]
     },
     "execution_count": 20,
     "metadata": {},
     "output_type": "execute_result"
    }
   ],
   "source": [
    "type_languages_comparison"
   ]
  },
  {
   "cell_type": "code",
   "execution_count": 21,
   "metadata": {},
   "outputs": [
    {
     "data": {
      "text/plain": [
       "<matplotlib.axes._subplots.AxesSubplot at 0x7f63c651dc18>"
      ]
     },
     "execution_count": 21,
     "metadata": {},
     "output_type": "execute_result"
    },
    {
     "data": {
      "image/png": "[encoded data removed]",
      "text/plain": [
       "<matplotlib.figure.Figure at 0x7f63c64ad6d8>"
      ]
     },
     "metadata": {},
     "output_type": "display_data"
    }
   ],
   "source": [
    "type_languages_comparison.plot(kind=\"bar\", figsize=(16,4))"
   ]
  },
  {
   "cell_type": "markdown",
   "metadata": {},
   "source": [
    "As you can see on the graph above, there are some things that stand out. For example, most of the ENFPs that program are programming in Python. But Python is not really popular with the ENTPs and INFPs. \n",
    "Java, I think, is also interesting, because it had multiple type, where there seems to be the lack of people using it. For example ENFPs, ENTPs and ESTPs. "
   ]
  },
  {
   "cell_type": "markdown",
   "metadata": {},
   "source": [
    "Since there are 16 type, so it is hard to take all this information in, we are going to be analyzing this data by the facets of the personality. "
   ]
  },
  {
   "cell_type": "markdown",
   "metadata": {},
   "source": [
    "### Extraversion vs. Introversion"
   ]
  },
  {
   "cell_type": "markdown",
   "metadata": {},
   "source": [
    "First is the Extraversion vs. Introversion facet. "
   ]
  },
  {
   "cell_type": "code",
   "execution_count": 22,
   "metadata": {
    "collapsed": true
   },
   "outputs": [],
   "source": [
    "type_languages_comparison_EI = pd.DataFrame()"
   ]
  },
  {
   "cell_type": "code",
   "execution_count": 23,
   "metadata": {
    "collapsed": true
   },
   "outputs": [],
   "source": [
    "type_languages_comparison_EI[\"I\"] = type_languages_comparison[\"ISTP\"] + \\\n",
    "                                 type_languages_comparison[\"ISTJ\"] + \\\n",
    "                                 type_languages_comparison[\"ISFP\"] + \\\n",
    "                                 type_languages_comparison[\"ISFJ\"] + \\\n",
    "                                 type_languages_comparison[\"INTP\"] + \\\n",
    "                                 type_languages_comparison[\"INTJ\"] + \\\n",
    "                                 type_languages_comparison[\"INFP\"] + \\\n",
    "                                 type_languages_comparison[\"INFJ\"]"
   ]
  },
  {
   "cell_type": "code",
   "execution_count": 24,
   "metadata": {
    "collapsed": true
   },
   "outputs": [],
   "source": [
    "type_languages_comparison_EI[\"E\"] = type_languages_comparison[\"ESTP\"] + \\\n",
    "                                 type_languages_comparison[\"ESTJ\"] + \\\n",
    "                                 type_languages_comparison[\"ESFP\"] + \\\n",
    "                                 type_languages_comparison[\"ESFJ\"] + \\\n",
    "                                 type_languages_comparison[\"ENTP\"] + \\\n",
    "                                 type_languages_comparison[\"ENTJ\"] + \\\n",
    "                                 type_languages_comparison[\"ENFP\"] + \\\n",
    "                                 type_languages_comparison[\"ENFJ\"]"
   ]
  },
  {
   "cell_type": "code",
   "execution_count": 25,
   "metadata": {
    "collapsed": true
   },
   "outputs": [],
   "source": [
    "type_languages_comparison_EI = type_languages_comparison_EI.T"
   ]
  },
  {
   "cell_type": "code",
   "execution_count": 26,
   "metadata": {
    "collapsed": true
   },
   "outputs": [],
   "source": [
    "type_languages_comparison_EI[\"sum\"] = type_languages_comparison_EI.sum(axis=1)\n",
    "for lang in languages:\n",
    "    type_languages_comparison_EI[lang] = type_languages_comparison_EI[lang]/type_languages_comparison_EI[\"sum\"]\n",
    "del type_languages_comparison_EI[\"sum\"]"
   ]
  },
  {
   "cell_type": "code",
   "execution_count": 27,
   "metadata": {},
   "outputs": [
    {
     "data": {
      "text/html": [
       "<div>\n",
       "<table border=\"1\" class=\"dataframe\">\n",
       "  <thead>\n",
       "    <tr style=\"text-align: right;\">\n",
       "      <th></th>\n",
       "      <th>c++</th>\n",
       "      <th>c</th>\n",
       "      <th>c#</th>\n",
       "      <th>java</th>\n",
       "      <th>python</th>\n",
       "      <th>r</th>\n",
       "      <th>lisp</th>\n",
       "    </tr>\n",
       "  </thead>\n",
       "  <tbody>\n",
       "    <tr>\n",
       "      <th>I</th>\n",
       "      <td>0.128013</td>\n",
       "      <td>0.159129</td>\n",
       "      <td>0.148501</td>\n",
       "      <td>0.162487</td>\n",
       "      <td>0.138269</td>\n",
       "      <td>0.130061</td>\n",
       "      <td>0.133538</td>\n",
       "    </tr>\n",
       "    <tr>\n",
       "      <th>E</th>\n",
       "      <td>0.127817</td>\n",
       "      <td>0.146660</td>\n",
       "      <td>0.115348</td>\n",
       "      <td>0.102628</td>\n",
       "      <td>0.172985</td>\n",
       "      <td>0.137030</td>\n",
       "      <td>0.197533</td>\n",
       "    </tr>\n",
       "  </tbody>\n",
       "</table>\n",
       "</div>"
      ],
      "text/plain": [
       "        c++         c        c#      java    python         r      lisp\n",
       "I  0.128013  0.159129  0.148501  0.162487  0.138269  0.130061  0.133538\n",
       "E  0.127817  0.146660  0.115348  0.102628  0.172985  0.137030  0.197533"
      ]
     },
     "execution_count": 27,
     "metadata": {},
     "output_type": "execute_result"
    }
   ],
   "source": [
    "type_languages_comparison_EI"
   ]
  },
  {
   "cell_type": "code",
   "execution_count": 28,
   "metadata": {
    "collapsed": true
   },
   "outputs": [],
   "source": [
    "type_languages_comparison_EI = type_languages_comparison_EI.T"
   ]
  },
  {
   "cell_type": "code",
   "execution_count": 29,
   "metadata": {},
   "outputs": [
    {
     "data": {
      "text/plain": [
       "<matplotlib.axes._subplots.AxesSubplot at 0x7f63c5edf7f0>"
      ]
     },
     "execution_count": 29,
     "metadata": {},
     "output_type": "execute_result"
    },
    {
     "data": {
      "image/png": "[encoded data removed]",
      "text/plain": [
       "<matplotlib.figure.Figure at 0x7f63c5f027b8>"
      ]
     },
     "metadata": {},
     "output_type": "display_data"
    }
   ],
   "source": [
    "type_languages_comparison_EI.plot(kind=\"bar\", figsize=(16,4))"
   ]
  },
  {
   "cell_type": "markdown",
   "metadata": {},
   "source": [
    "It seems that for this facet, the extroverts prefer the langauges like Lisp and Python. The introverts, on the other hand, prefer languages like Java and C#."
   ]
  },
  {
   "cell_type": "markdown",
   "metadata": {},
   "source": [
    "### Sensing vs. Intuition"
   ]
  },
  {
   "cell_type": "markdown",
   "metadata": {},
   "source": [
    "Next is the compariosn between Sensing and iNtuition."
   ]
  },
  {
   "cell_type": "code",
   "execution_count": 30,
   "metadata": {
    "collapsed": true
   },
   "outputs": [],
   "source": [
    "type_languages_comparison_SN = pd.DataFrame()"
   ]
  },
  {
   "cell_type": "code",
   "execution_count": 31,
   "metadata": {
    "collapsed": true
   },
   "outputs": [],
   "source": [
    "type_languages_comparison_SN[\"N\"] = type_languages_comparison[\"ENTP\"] + \\\n",
    "                                    type_languages_comparison[\"ENTJ\"] + \\\n",
    "                                    type_languages_comparison[\"ENFP\"] + \\\n",
    "                                    type_languages_comparison[\"ENFJ\"] + \\\n",
    "                                    type_languages_comparison[\"INTP\"] + \\\n",
    "                                    type_languages_comparison[\"INTJ\"] + \\\n",
    "                                    type_languages_comparison[\"INFP\"] + \\\n",
    "                                    type_languages_comparison[\"INFJ\"]"
   ]
  },
  {
   "cell_type": "code",
   "execution_count": 32,
   "metadata": {
    "collapsed": true
   },
   "outputs": [],
   "source": [
    "type_languages_comparison_SN[\"S\"] = type_languages_comparison[\"ESTP\"] + \\\n",
    "                                    type_languages_comparison[\"ESTJ\"] + \\\n",
    "                                    type_languages_comparison[\"ESFP\"] + \\\n",
    "                                    type_languages_comparison[\"ESFJ\"] + \\\n",
    "                                    type_languages_comparison[\"ISTP\"] + \\\n",
    "                                    type_languages_comparison[\"ISTJ\"] + \\\n",
    "                                    type_languages_comparison[\"ISFP\"] + \\\n",
    "                                    type_languages_comparison[\"ISFJ\"]"
   ]
  },
  {
   "cell_type": "code",
   "execution_count": 33,
   "metadata": {
    "collapsed": true
   },
   "outputs": [],
   "source": [
    "type_languages_comparison_SN = type_languages_comparison_SN.T\n",
    "type_languages_comparison_SN[\"sum\"] = type_languages_comparison_SN.sum(axis=1)\n",
    "for lang in languages:\n",
    "    type_languages_comparison_SN[lang] = type_languages_comparison_SN[lang]/type_languages_comparison_SN[\"sum\"]\n",
    "del type_languages_comparison_SN[\"sum\"]\n",
    "type_languages_comparison_SN = type_languages_comparison_SN.T"
   ]
  },
  {
   "cell_type": "code",
   "execution_count": 34,
   "metadata": {},
   "outputs": [
    {
     "data": {
      "text/plain": [
       "<matplotlib.axes._subplots.AxesSubplot at 0x7f63c68ddc88>"
      ]
     },
     "execution_count": 34,
     "metadata": {},
     "output_type": "execute_result"
    },
    {
     "data": {
      "image/png": "[encoded data removed]",
      "text/plain": [
       "<matplotlib.figure.Figure at 0x7f63c5b9f518>"
      ]
     },
     "metadata": {},
     "output_type": "display_data"
    }
   ],
   "source": [
    "type_languages_comparison_SN.plot(kind=\"bar\", figsize=(16,4))"
   ]
  },
  {
   "cell_type": "markdown",
   "metadata": {},
   "source": [
    "Here the trend is quite similar to the one above. The Python and Lisp are grouped together again, faovrited by intuitives, and so are C# and Java, favorited by sensers."
   ]
  },
  {
   "cell_type": "markdown",
   "metadata": {},
   "source": [
    "### Thinking vs. Feeling"
   ]
  },
  {
   "cell_type": "markdown",
   "metadata": {},
   "source": [
    "Next is the comparison between thinking and feeling. "
   ]
  },
  {
   "cell_type": "code",
   "execution_count": 35,
   "metadata": {
    "collapsed": true
   },
   "outputs": [],
   "source": [
    "type_languages_comparison_TF = pd.DataFrame()"
   ]
  },
  {
   "cell_type": "code",
   "execution_count": 36,
   "metadata": {
    "collapsed": true
   },
   "outputs": [],
   "source": [
    "type_languages_comparison_TF[\"F\"] = type_languages_comparison[\"ESFP\"] + \\\n",
    "                                    type_languages_comparison[\"ESFJ\"] + \\\n",
    "                                    type_languages_comparison[\"ENFP\"] + \\\n",
    "                                    type_languages_comparison[\"ENFJ\"] + \\\n",
    "                                    type_languages_comparison[\"ISFP\"] + \\\n",
    "                                    type_languages_comparison[\"ISFJ\"] + \\\n",
    "                                    type_languages_comparison[\"INFP\"] + \\\n",
    "                                    type_languages_comparison[\"INFJ\"]"
   ]
  },
  {
   "cell_type": "code",
   "execution_count": 37,
   "metadata": {
    "collapsed": true
   },
   "outputs": [],
   "source": [
    "type_languages_comparison_TF[\"T\"] = type_languages_comparison[\"ESTP\"] + \\\n",
    "                                    type_languages_comparison[\"ESTJ\"] + \\\n",
    "                                    type_languages_comparison[\"ENTP\"] + \\\n",
    "                                    type_languages_comparison[\"ENTJ\"] + \\\n",
    "                                    type_languages_comparison[\"ISTP\"] + \\\n",
    "                                    type_languages_comparison[\"ISTJ\"] + \\\n",
    "                                    type_languages_comparison[\"INTP\"] + \\\n",
    "                                    type_languages_comparison[\"INTJ\"]"
   ]
  },
  {
   "cell_type": "code",
   "execution_count": 38,
   "metadata": {
    "collapsed": true
   },
   "outputs": [],
   "source": [
    "type_languages_comparison_TF = type_languages_comparison_TF.T\n",
    "type_languages_comparison_TF[\"sum\"] = type_languages_comparison_TF.sum(axis=1)\n",
    "for lang in languages:\n",
    "    type_languages_comparison_TF[lang] = type_languages_comparison_TF[lang]/type_languages_comparison_TF[\"sum\"]\n",
    "del type_languages_comparison_TF[\"sum\"]\n",
    "type_languages_comparison_TF = type_languages_comparison_TF.T"
   ]
  },
  {
   "cell_type": "code",
   "execution_count": 39,
   "metadata": {},
   "outputs": [
    {
     "data": {
      "text/plain": [
       "<matplotlib.axes._subplots.AxesSubplot at 0x7f63c6481198>"
      ]
     },
     "execution_count": 39,
     "metadata": {},
     "output_type": "execute_result"
    },
    {
     "data": {
      "image/png": "[encoded data removed]",
      "text/plain": [
       "<matplotlib.figure.Figure at 0x7f63c5c58898>"
      ]
     },
     "metadata": {},
     "output_type": "display_data"
    }
   ],
   "source": [
    "type_languages_comparison_TF.plot(kind=\"bar\", figsize=(16,4))"
   ]
  },
  {
   "cell_type": "markdown",
   "metadata": {},
   "source": [
    "Here the grouping seems to work a bit differently. Feelers seems to prefer the Python, and thinkers seems tp prefer C++ and R."
   ]
  },
  {
   "cell_type": "markdown",
   "metadata": {},
   "source": [
    "### Judging vs. Perciving"
   ]
  },
  {
   "cell_type": "markdown",
   "metadata": {},
   "source": [
    "And the next analysis is Judging vs. Perciving."
   ]
  },
  {
   "cell_type": "code",
   "execution_count": 40,
   "metadata": {
    "collapsed": true
   },
   "outputs": [],
   "source": [
    "type_languages_comparison_JP = pd.DataFrame()"
   ]
  },
  {
   "cell_type": "code",
   "execution_count": 41,
   "metadata": {
    "collapsed": true
   },
   "outputs": [],
   "source": [
    "type_languages_comparison_JP[\"P\"] = type_languages_comparison[\"ESFP\"] + \\\n",
    "                                    type_languages_comparison[\"ESTP\"] + \\\n",
    "                                    type_languages_comparison[\"ENFP\"] + \\\n",
    "                                    type_languages_comparison[\"ENTP\"] + \\\n",
    "                                    type_languages_comparison[\"ISFP\"] + \\\n",
    "                                    type_languages_comparison[\"ISTP\"] + \\\n",
    "                                    type_languages_comparison[\"INFP\"] + \\\n",
    "                                    type_languages_comparison[\"INTP\"]"
   ]
  },
  {
   "cell_type": "code",
   "execution_count": 42,
   "metadata": {
    "collapsed": true
   },
   "outputs": [],
   "source": [
    "type_languages_comparison_JP[\"J\"] = type_languages_comparison[\"ESFJ\"] + \\\n",
    "                                    type_languages_comparison[\"ESTJ\"] + \\\n",
    "                                    type_languages_comparison[\"ENFJ\"] + \\\n",
    "                                    type_languages_comparison[\"ENTJ\"] + \\\n",
    "                                    type_languages_comparison[\"ISFJ\"] + \\\n",
    "                                    type_languages_comparison[\"ISTJ\"] + \\\n",
    "                                    type_languages_comparison[\"INFJ\"] + \\\n",
    "                                    type_languages_comparison[\"INTJ\"]"
   ]
  },
  {
   "cell_type": "code",
   "execution_count": 43,
   "metadata": {
    "collapsed": true
   },
   "outputs": [],
   "source": [
    "type_languages_comparison_JP = type_languages_comparison_JP.T\n",
    "type_languages_comparison_JP[\"sum\"] = type_languages_comparison_JP.sum(axis=1)\n",
    "for lang in languages:\n",
    "    type_languages_comparison_JP[lang] = type_languages_comparison_JP[lang]/type_languages_comparison_JP[\"sum\"]\n",
    "del type_languages_comparison_JP[\"sum\"]\n",
    "type_languages_comparison_JP = type_languages_comparison_JP.T"
   ]
  },
  {
   "cell_type": "code",
   "execution_count": 44,
   "metadata": {},
   "outputs": [
    {
     "data": {
      "text/plain": [
       "<matplotlib.axes._subplots.AxesSubplot at 0x7f63c591fc50>"
      ]
     },
     "execution_count": 44,
     "metadata": {},
     "output_type": "execute_result"
    },
    {
     "data": {
      "image/png": "[encoded data removed]",
      "text/plain": [
       "<matplotlib.figure.Figure at 0x7f63c59f9320>"
      ]
     },
     "metadata": {},
     "output_type": "display_data"
    }
   ],
   "source": [
    "type_languages_comparison_JP.plot(kind=\"bar\", figsize=(16,4))"
   ]
  },
  {
   "cell_type": "markdown",
   "metadata": {},
   "source": [
    "Here we are almost back to the original groups. This time C# and Java are favorited by judgers and Lisp is favorited by percivers. "
   ]
  },
  {
   "cell_type": "markdown",
   "metadata": {},
   "source": [
    "### Primary Function"
   ]
  },
  {
   "cell_type": "markdown",
   "metadata": {},
   "source": [
    "Next we are going to analyse the same data with the function perspective. Unlike the MBTI theory, this one relates to the original Jung's theory. But there is a direct translation between types in the both theories."
   ]
  },
  {
   "cell_type": "code",
   "execution_count": 45,
   "metadata": {
    "collapsed": true
   },
   "outputs": [],
   "source": [
    "type_languages_comparison_F = pd.DataFrame()"
   ]
  },
  {
   "cell_type": "code",
   "execution_count": 46,
   "metadata": {
    "collapsed": true
   },
   "outputs": [],
   "source": [
    "type_languages_comparison_F[\"Ti\"] = type_languages_comparison[\"INTP\"] + type_languages_comparison[\"ISTP\"]"
   ]
  },
  {
   "cell_type": "code",
   "execution_count": 47,
   "metadata": {
    "collapsed": true
   },
   "outputs": [],
   "source": [
    "type_languages_comparison_F[\"Te\"] = type_languages_comparison[\"ENTJ\"] + type_languages_comparison[\"ESTJ\"]"
   ]
  },
  {
   "cell_type": "code",
   "execution_count": 48,
   "metadata": {
    "collapsed": true
   },
   "outputs": [],
   "source": [
    "type_languages_comparison_F[\"Fi\"] = type_languages_comparison[\"INFP\"] + type_languages_comparison[\"ISFP\"]"
   ]
  },
  {
   "cell_type": "code",
   "execution_count": 49,
   "metadata": {
    "collapsed": true
   },
   "outputs": [],
   "source": [
    "type_languages_comparison_F[\"Fe\"] = type_languages_comparison[\"ENFJ\"] + type_languages_comparison[\"ESFJ\"]"
   ]
  },
  {
   "cell_type": "code",
   "execution_count": 50,
   "metadata": {
    "collapsed": true
   },
   "outputs": [],
   "source": [
    "type_languages_comparison_F[\"Ni\"] = type_languages_comparison[\"INFJ\"] + type_languages_comparison[\"INTJ\"]"
   ]
  },
  {
   "cell_type": "code",
   "execution_count": 51,
   "metadata": {
    "collapsed": true
   },
   "outputs": [],
   "source": [
    "type_languages_comparison_F[\"Ne\"] = type_languages_comparison[\"ENTP\"] + type_languages_comparison[\"ENFP\"]"
   ]
  },
  {
   "cell_type": "code",
   "execution_count": 52,
   "metadata": {
    "collapsed": true
   },
   "outputs": [],
   "source": [
    "type_languages_comparison_F[\"Si\"] = type_languages_comparison[\"ISTJ\"] + type_languages_comparison[\"ISFJ\"]"
   ]
  },
  {
   "cell_type": "code",
   "execution_count": 53,
   "metadata": {
    "collapsed": true
   },
   "outputs": [],
   "source": [
    "type_languages_comparison_F[\"Se\"] = type_languages_comparison[\"ESTP\"] + type_languages_comparison[\"ESFP\"]"
   ]
  },
  {
   "cell_type": "code",
   "execution_count": 54,
   "metadata": {
    "collapsed": true
   },
   "outputs": [],
   "source": [
    "type_languages_comparison_F = type_languages_comparison_F.T\n",
    "type_languages_comparison_F[\"sum\"] = type_languages_comparison_F.sum(axis=1)\n",
    "for lang in languages:\n",
    "    type_languages_comparison_F[lang] = type_languages_comparison_F[lang]/type_languages_comparison_F[\"sum\"]\n",
    "del type_languages_comparison_F[\"sum\"]\n",
    "type_languages_comparison_F = type_languages_comparison_F.T"
   ]
  },
  {
   "cell_type": "code",
   "execution_count": 55,
   "metadata": {},
   "outputs": [
    {
     "data": {
      "text/plain": [
       "<matplotlib.axes._subplots.AxesSubplot at 0x7f63c64816a0>"
      ]
     },
     "execution_count": 55,
     "metadata": {},
     "output_type": "execute_result"
    },
    {
     "data": {
      "image/png": "[encoded data removed]",
      "text/plain": [
       "<matplotlib.figure.Figure at 0x7f63c5a51ef0>"
      ]
     },
     "metadata": {},
     "output_type": "display_data"
    }
   ],
   "source": [
    "type_languages_comparison_F.plot(kind=\"bar\", figsize=(16,4))"
   ]
  },
  {
   "cell_type": "markdown",
   "metadata": {},
   "source": [
    "Here we can see some interesting things. For example, the Ne function seems atracted to the languages like Python and Lisp, but there is a big lack of them in R, Java, and C#. Se function seems to be a bit more atracted the the R and Lisp. "
   ]
  },
  {
   "cell_type": "markdown",
   "metadata": {},
   "source": [
    "### Judging Functions"
   ]
  },
  {
   "cell_type": "markdown",
   "metadata": {},
   "source": [
    "The next two are from the function perspective as well, but instead of the strongest function is simply analysing all the people that use the function."
   ]
  },
  {
   "cell_type": "code",
   "execution_count": 56,
   "metadata": {
    "collapsed": true
   },
   "outputs": [],
   "source": [
    "type_languages_comparison_J = pd.DataFrame()"
   ]
  },
  {
   "cell_type": "code",
   "execution_count": 57,
   "metadata": {
    "collapsed": true
   },
   "outputs": [],
   "source": [
    "type_languages_comparison_J[\"Ti\"] = type_languages_comparison[\"INTP\"] + type_languages_comparison[\"ISTP\"] + \\\n",
    "                                    type_languages_comparison[\"ENTP\"] + type_languages_comparison[\"ESTP\"]"
   ]
  },
  {
   "cell_type": "code",
   "execution_count": 58,
   "metadata": {
    "collapsed": true
   },
   "outputs": [],
   "source": [
    "type_languages_comparison_J[\"Te\"] = type_languages_comparison[\"INTJ\"] + type_languages_comparison[\"ISTJ\"] + \\\n",
    "                                    type_languages_comparison[\"ENTJ\"] + type_languages_comparison[\"ESTJ\"]"
   ]
  },
  {
   "cell_type": "code",
   "execution_count": 59,
   "metadata": {
    "collapsed": true
   },
   "outputs": [],
   "source": [
    "type_languages_comparison_J[\"Fe\"] = type_languages_comparison[\"INFJ\"] + type_languages_comparison[\"ISFJ\"] + \\\n",
    "                                    type_languages_comparison[\"ENFJ\"] + type_languages_comparison[\"ESFJ\"]"
   ]
  },
  {
   "cell_type": "code",
   "execution_count": 60,
   "metadata": {
    "collapsed": true
   },
   "outputs": [],
   "source": [
    "type_languages_comparison_J[\"Fi\"] = type_languages_comparison[\"INFP\"] + type_languages_comparison[\"ISFP\"] + \\\n",
    "                                    type_languages_comparison[\"ENFP\"] + type_languages_comparison[\"ESFP\"]"
   ]
  },
  {
   "cell_type": "code",
   "execution_count": 61,
   "metadata": {
    "collapsed": true
   },
   "outputs": [],
   "source": [
    "type_languages_comparison_J = type_languages_comparison_J.T\n",
    "type_languages_comparison_J[\"sum\"] = type_languages_comparison_J.sum(axis=1)\n",
    "for lang in languages:\n",
    "    type_languages_comparison_J[lang] = type_languages_comparison_J[lang]/type_languages_comparison_J[\"sum\"]\n",
    "del type_languages_comparison_J[\"sum\"]\n",
    "type_languages_comparison_J = type_languages_comparison_J.T"
   ]
  },
  {
   "cell_type": "code",
   "execution_count": 62,
   "metadata": {},
   "outputs": [
    {
     "data": {
      "text/plain": [
       "<matplotlib.axes._subplots.AxesSubplot at 0x7f63c5774eb8>"
      ]
     },
     "execution_count": 62,
     "metadata": {},
     "output_type": "execute_result"
    },
    {
     "data": {
      "image/png": "[encoded data removed]",
      "text/plain": [
       "<matplotlib.figure.Figure at 0x7f63c5887828>"
      ]
     },
     "metadata": {},
     "output_type": "display_data"
    }
   ],
   "source": [
    "type_languages_comparison_J.plot(kind=\"bar\", figsize=(16,4))"
   ]
  },
  {
   "cell_type": "markdown",
   "metadata": {},
   "source": [
    "I wonder what this means for the communities of these langauges. For example Te (orange) are known as being efficient and organized, and this influence seems strongest with C# and Java. Ti (blue) are problem solvers, strongest with R, Lisp, C++ and C. And Fi (red) are concerned about morals, and this influence seems strongest with Python. Fe (green) are known at being the social glue and keeping the community togehter, but they don't seem to be the strongest anywhere."
   ]
  },
  {
   "cell_type": "markdown",
   "metadata": {},
   "source": [
    "### Perciving Functions"
   ]
  },
  {
   "cell_type": "code",
   "execution_count": 63,
   "metadata": {
    "collapsed": true
   },
   "outputs": [],
   "source": [
    "type_languages_comparison_P = pd.DataFrame()"
   ]
  },
  {
   "cell_type": "code",
   "execution_count": 64,
   "metadata": {
    "collapsed": true
   },
   "outputs": [],
   "source": [
    "type_languages_comparison_P[\"Se\"] = type_languages_comparison[\"ISFP\"] + type_languages_comparison[\"ISTP\"] + \\\n",
    "                                    type_languages_comparison[\"ESFP\"] + type_languages_comparison[\"ESTP\"]"
   ]
  },
  {
   "cell_type": "code",
   "execution_count": 65,
   "metadata": {
    "collapsed": true
   },
   "outputs": [],
   "source": [
    "type_languages_comparison_P[\"Ne\"] = type_languages_comparison[\"INFP\"] + type_languages_comparison[\"INTP\"] + \\\n",
    "                                    type_languages_comparison[\"ENFP\"] + type_languages_comparison[\"ENTP\"]"
   ]
  },
  {
   "cell_type": "code",
   "execution_count": 66,
   "metadata": {
    "collapsed": true
   },
   "outputs": [],
   "source": [
    "type_languages_comparison_P[\"Ni\"] = type_languages_comparison[\"INFJ\"] + type_languages_comparison[\"INTJ\"] + \\\n",
    "                                    type_languages_comparison[\"ENFJ\"] + type_languages_comparison[\"ENTJ\"]"
   ]
  },
  {
   "cell_type": "code",
   "execution_count": 67,
   "metadata": {
    "collapsed": true
   },
   "outputs": [],
   "source": [
    "type_languages_comparison_P[\"Si\"] = type_languages_comparison[\"ISFJ\"] + type_languages_comparison[\"ISTJ\"] + \\\n",
    "                                    type_languages_comparison[\"ESFJ\"] + type_languages_comparison[\"ESTJ\"]"
   ]
  },
  {
   "cell_type": "code",
   "execution_count": 68,
   "metadata": {
    "collapsed": true
   },
   "outputs": [],
   "source": [
    "type_languages_comparison_P = type_languages_comparison_P.T\n",
    "type_languages_comparison_P[\"sum\"] = type_languages_comparison_P.sum(axis=1)\n",
    "for lang in languages:\n",
    "    type_languages_comparison_P[lang] = type_languages_comparison_P[lang]/type_languages_comparison_P[\"sum\"]\n",
    "del type_languages_comparison_P[\"sum\"]\n",
    "type_languages_comparison_P = type_languages_comparison_P.T"
   ]
  },
  {
   "cell_type": "code",
   "execution_count": 69,
   "metadata": {},
   "outputs": [
    {
     "data": {
      "text/plain": [
       "<matplotlib.axes._subplots.AxesSubplot at 0x7f63c55f9a20>"
      ]
     },
     "execution_count": 69,
     "metadata": {},
     "output_type": "execute_result"
    },
    {
     "data": {
      "image/png": "[encoded data removed]",
      "text/plain": [
       "<matplotlib.figure.Figure at 0x7f63c5613898>"
      ]
     },
     "metadata": {},
     "output_type": "display_data"
    }
   ],
   "source": [
    "type_languages_comparison_P.plot(kind=\"bar\", figsize=(16,4))"
   ]
  },
  {
   "cell_type": "markdown",
   "metadata": {},
   "source": [
    "Here we are simply seeing the similar picture that we already saw before. But let me try to explain it.\n",
    "\n",
    "First thing to know is that these functions represent what people are paying attention to, what they are seeking. The Se types (blue) prefer the new experiences, Ne (orange) prefer broad knowladge and new ideas, Ni (green) prefer the deep understanding of the topic and Si (red) prefer to find the best way to do something and stick with it.\n",
    "\n",
    "In this plot, most of the functions are relativly balanced. The only thing is Ne, which is higher in Lisp and maybe Python, and lower in C# and Java. I wonder if that means that C# and Java are traditional choices and Python and Lisp are the oposite of that?"
   ]
  },
  {
   "cell_type": "markdown",
   "metadata": {},
   "source": [
    "## Distribution of Answers by Types"
   ]
  },
  {
   "cell_type": "markdown",
   "metadata": {},
   "source": [
    "Next we are going to be analyzing the answers of the StackOverflow.\n",
    "\n",
    "First we are going to load the data, that was prepared. I added the langauge tag, MBTI type of the Answer and the Question to it beforehand."
   ]
  },
  {
   "cell_type": "code",
   "execution_count": 70,
   "metadata": {
    "collapsed": true
   },
   "outputs": [],
   "source": [
    "with open(\"StackOverflow/Answers-MBTI.csv\", \"r\") as read:\n",
    "    answer_data = pd.read_csv(read, sep=\",\")"
   ]
  },
  {
   "cell_type": "code",
   "execution_count": 71,
   "metadata": {},
   "outputs": [
    {
     "data": {
      "text/html": [
       "<div>\n",
       "<table border=\"1\" class=\"dataframe\">\n",
       "  <thead>\n",
       "    <tr style=\"text-align: right;\">\n",
       "      <th></th>\n",
       "      <th>Unnamed: 0</th>\n",
       "      <th>Id</th>\n",
       "      <th>OwnerUserId</th>\n",
       "      <th>CreationDate</th>\n",
       "      <th>ParentId</th>\n",
       "      <th>Score</th>\n",
       "      <th>Body</th>\n",
       "      <th>Language</th>\n",
       "      <th>QuestionsMBTI</th>\n",
       "      <th>AnswerMBTI</th>\n",
       "    </tr>\n",
       "  </thead>\n",
       "  <tbody>\n",
       "    <tr>\n",
       "      <th>0</th>\n",
       "      <td>0</td>\n",
       "      <td>269</td>\n",
       "      <td>91.0</td>\n",
       "      <td>2008-08-01T23:49:57Z</td>\n",
       "      <td>260</td>\n",
       "      <td>4</td>\n",
       "      <td>Yes, I thought about that, but I soon figured ...</td>\n",
       "      <td>c#</td>\n",
       "      <td>ISTJ</td>\n",
       "      <td>ESFJ</td>\n",
       "    </tr>\n",
       "    <tr>\n",
       "      <th>1</th>\n",
       "      <td>1</td>\n",
       "      <td>307</td>\n",
       "      <td>49.0</td>\n",
       "      <td>2008-08-02T01:49:46Z</td>\n",
       "      <td>260</td>\n",
       "      <td>28</td>\n",
       "      <td>Oleg Shilo's C# Script solution (at The Code P...</td>\n",
       "      <td>c#</td>\n",
       "      <td>ISTJ</td>\n",
       "      <td>INTJ</td>\n",
       "    </tr>\n",
       "    <tr>\n",
       "      <th>2</th>\n",
       "      <td>2</td>\n",
       "      <td>344</td>\n",
       "      <td>100.0</td>\n",
       "      <td>2008-08-02T04:18:15Z</td>\n",
       "      <td>260</td>\n",
       "      <td>6</td>\n",
       "      <td>You might be able to use IronRuby for that. \\n...</td>\n",
       "      <td>c#</td>\n",
       "      <td>ISTJ</td>\n",
       "      <td>INFP</td>\n",
       "    </tr>\n",
       "    <tr>\n",
       "      <th>3</th>\n",
       "      <td>3</td>\n",
       "      <td>359</td>\n",
       "      <td>119.0</td>\n",
       "      <td>2008-08-02T06:16:23Z</td>\n",
       "      <td>260</td>\n",
       "      <td>5</td>\n",
       "      <td>You could use any of the DLR languages, which ...</td>\n",
       "      <td>c#</td>\n",
       "      <td>ISTJ</td>\n",
       "      <td>INTJ</td>\n",
       "    </tr>\n",
       "    <tr>\n",
       "      <th>4</th>\n",
       "      <td>4</td>\n",
       "      <td>3637</td>\n",
       "      <td>541.0</td>\n",
       "      <td>2008-08-06T16:28:19Z</td>\n",
       "      <td>260</td>\n",
       "      <td>5</td>\n",
       "      <td>If you don't want to use the DLR you can use B...</td>\n",
       "      <td>c#</td>\n",
       "      <td>ISTJ</td>\n",
       "      <td>INTJ</td>\n",
       "    </tr>\n",
       "  </tbody>\n",
       "</table>\n",
       "</div>"
      ],
      "text/plain": [
       "   Unnamed: 0    Id  OwnerUserId          CreationDate  ParentId  Score  \\\n",
       "0           0   269         91.0  2008-08-01T23:49:57Z       260      4   \n",
       "1           1   307         49.0  2008-08-02T01:49:46Z       260     28   \n",
       "2           2   344        100.0  2008-08-02T04:18:15Z       260      6   \n",
       "3           3   359        119.0  2008-08-02T06:16:23Z       260      5   \n",
       "4           4  3637        541.0  2008-08-06T16:28:19Z       260      5   \n",
       "\n",
       "                                                Body Language QuestionsMBTI  \\\n",
       "0  Yes, I thought about that, but I soon figured ...       c#          ISTJ   \n",
       "1  Oleg Shilo's C# Script solution (at The Code P...       c#          ISTJ   \n",
       "2  You might be able to use IronRuby for that. \\n...       c#          ISTJ   \n",
       "3  You could use any of the DLR languages, which ...       c#          ISTJ   \n",
       "4  If you don't want to use the DLR you can use B...       c#          ISTJ   \n",
       "\n",
       "  AnswerMBTI  \n",
       "0       ESFJ  \n",
       "1       INTJ  \n",
       "2       INFP  \n",
       "3       INTJ  \n",
       "4       INTJ  "
      ]
     },
     "execution_count": 71,
     "metadata": {},
     "output_type": "execute_result"
    }
   ],
   "source": [
    "answer_data.head()"
   ]
  },
  {
   "cell_type": "markdown",
   "metadata": {},
   "source": [
    "Let us first compare which people are answering the questions. So we are going to group the data by the MBTI type."
   ]
  },
  {
   "cell_type": "code",
   "execution_count": 72,
   "metadata": {
    "collapsed": true
   },
   "outputs": [],
   "source": [
    "types_all_answers = answer_data[\"AnswerMBTI\"].value_counts()"
   ]
  },
  {
   "cell_type": "markdown",
   "metadata": {},
   "source": [
    "If we compare the following graph with the one based on the questions, there are some small differences in ranking. But in most cases, it is between the types that have similar number of questions or answers posted. For example, between ESFP and ESTP."
   ]
  },
  {
   "cell_type": "code",
   "execution_count": 73,
   "metadata": {},
   "outputs": [
    {
     "data": {
      "text/plain": [
       "<matplotlib.axes._subplots.AxesSubplot at 0x7f63c5495eb8>"
      ]
     },
     "execution_count": 73,
     "metadata": {},
     "output_type": "execute_result"
    },
    {
     "data": {
      "image/png": "[encoded data removed]",
      "text/plain": [
       "<matplotlib.figure.Figure at 0x7f63c54db9e8>"
      ]
     },
     "metadata": {},
     "output_type": "display_data"
    }
   ],
   "source": [
    "types_all_answers.plot(kind=\"bar\")"
   ]
  },
  {
   "cell_type": "markdown",
   "metadata": {},
   "source": [
    "## Scores by Languages and Types"
   ]
  },
  {
   "cell_type": "code",
   "execution_count": 74,
   "metadata": {
    "collapsed": true
   },
   "outputs": [],
   "source": [
    "### Distribution of Scores"
   ]
  },
  {
   "cell_type": "markdown",
   "metadata": {},
   "source": [
    "Next we are going to be analysing the score of the answers. First we are going to see the distribution of different scores. "
   ]
  },
  {
   "cell_type": "code",
   "execution_count": 75,
   "metadata": {
    "collapsed": true
   },
   "outputs": [],
   "source": [
    "del answer_data[\"Unnamed: 0\"]\n",
    "answer_data = answer_data.set_index(\"Id\")"
   ]
  },
  {
   "cell_type": "code",
   "execution_count": 76,
   "metadata": {},
   "outputs": [
    {
     "data": {
      "text/plain": [
       "<matplotlib.axes._subplots.AxesSubplot at 0x7f63c51e9ef0>"
      ]
     },
     "execution_count": 76,
     "metadata": {},
     "output_type": "execute_result"
    },
    {
     "data": {
      "image/png": "[encoded data removed]",
      "text/plain": [
       "<matplotlib.figure.Figure at 0x7f63c5200be0>"
      ]
     },
     "metadata": {},
     "output_type": "display_data"
    }
   ],
   "source": [
    "answer_data[\"Score\"].plot.hist(log=True, bins=300, figsize=(16,4))"
   ]
  },
  {
   "cell_type": "markdown",
   "metadata": {},
   "source": [
    "As we can see, the distribution has a long tail. Let us see which answers have the highest score. "
   ]
  },
  {
   "cell_type": "code",
   "execution_count": 77,
   "metadata": {},
   "outputs": [
    {
     "name": "stderr",
     "output_type": "stream",
     "text": [
      "/usr/lib/python3.6/site-packages/ipykernel/__main__.py:1: FutureWarning: sort(columns=....) is deprecated, use sort_values(by=.....)\n",
      "  if __name__ == '__main__':\n"
     ]
    },
    {
     "data": {
      "text/html": [
       "<div>\n",
       "<table border=\"1\" class=\"dataframe\">\n",
       "  <thead>\n",
       "    <tr style=\"text-align: right;\">\n",
       "      <th></th>\n",
       "      <th>OwnerUserId</th>\n",
       "      <th>CreationDate</th>\n",
       "      <th>ParentId</th>\n",
       "      <th>Score</th>\n",
       "      <th>Body</th>\n",
       "      <th>Language</th>\n",
       "      <th>QuestionsMBTI</th>\n",
       "      <th>AnswerMBTI</th>\n",
       "    </tr>\n",
       "    <tr>\n",
       "      <th>Id</th>\n",
       "      <th></th>\n",
       "      <th></th>\n",
       "      <th></th>\n",
       "      <th></th>\n",
       "      <th></th>\n",
       "      <th></th>\n",
       "      <th></th>\n",
       "      <th></th>\n",
       "    </tr>\n",
       "  </thead>\n",
       "  <tbody>\n",
       "    <tr>\n",
       "      <th>40523</th>\n",
       "      <td>4192.0</td>\n",
       "      <td>2008-09-02T20:25:37Z</td>\n",
       "      <td>40480</td>\n",
       "      <td>3038</td>\n",
       "      <td>Java is always pass-by-value. Unfortunately, t...</td>\n",
       "      <td>java</td>\n",
       "      <td>ESFJ</td>\n",
       "      <td>INFJ</td>\n",
       "    </tr>\n",
       "    <tr>\n",
       "      <th>73021</th>\n",
       "      <td>12541.0</td>\n",
       "      <td>2008-09-16T14:37:00Z</td>\n",
       "      <td>40480</td>\n",
       "      <td>1922</td>\n",
       "      <td>I just noticed you referenced my article.\\nThe...</td>\n",
       "      <td>java</td>\n",
       "      <td>ESFJ</td>\n",
       "      <td>ISTJ</td>\n",
       "    </tr>\n",
       "    <tr>\n",
       "      <th>332086</th>\n",
       "      <td>16855.0</td>\n",
       "      <td>2008-12-01T20:26:41Z</td>\n",
       "      <td>332030</td>\n",
       "      <td>1730</td>\n",
       "      <td>static_cast is the first cast you should attem...</td>\n",
       "      <td>c++</td>\n",
       "      <td>ESTJ</td>\n",
       "      <td>ESTJ</td>\n",
       "    </tr>\n",
       "    <tr>\n",
       "      <th>306417</th>\n",
       "      <td>5821.0</td>\n",
       "      <td>2008-11-20T18:46:39Z</td>\n",
       "      <td>306400</td>\n",
       "      <td>1462</td>\n",
       "      <td>Use random.choice:\\nimport random\\n\\nfoo = ['a...</td>\n",
       "      <td>python</td>\n",
       "      <td>ISTJ</td>\n",
       "      <td>ESTP</td>\n",
       "    </tr>\n",
       "    <tr>\n",
       "      <th>541394</th>\n",
       "      <td>17160.0</td>\n",
       "      <td>2009-02-12T14:12:46Z</td>\n",
       "      <td>541390</td>\n",
       "      <td>970</td>\n",
       "      <td>Yes. Use os.path.splitext:\\n&gt;&gt;&gt; import os\\n&gt;&gt;&gt;...</td>\n",
       "      <td>python</td>\n",
       "      <td>ESTP</td>\n",
       "      <td>ENTJ</td>\n",
       "    </tr>\n",
       "  </tbody>\n",
       "</table>\n",
       "</div>"
      ],
      "text/plain": [
       "        OwnerUserId          CreationDate  ParentId  Score  \\\n",
       "Id                                                           \n",
       "40523        4192.0  2008-09-02T20:25:37Z     40480   3038   \n",
       "73021       12541.0  2008-09-16T14:37:00Z     40480   1922   \n",
       "332086      16855.0  2008-12-01T20:26:41Z    332030   1730   \n",
       "306417       5821.0  2008-11-20T18:46:39Z    306400   1462   \n",
       "541394      17160.0  2009-02-12T14:12:46Z    541390    970   \n",
       "\n",
       "                                                     Body Language  \\\n",
       "Id                                                                   \n",
       "40523   Java is always pass-by-value. Unfortunately, t...     java   \n",
       "73021   I just noticed you referenced my article.\\nThe...     java   \n",
       "332086  static_cast is the first cast you should attem...      c++   \n",
       "306417  Use random.choice:\\nimport random\\n\\nfoo = ['a...   python   \n",
       "541394  Yes. Use os.path.splitext:\\n>>> import os\\n>>>...   python   \n",
       "\n",
       "       QuestionsMBTI AnswerMBTI  \n",
       "Id                               \n",
       "40523           ESFJ       INFJ  \n",
       "73021           ESFJ       ISTJ  \n",
       "332086          ESTJ       ESTJ  \n",
       "306417          ISTJ       ESTP  \n",
       "541394          ESTP       ENTJ  "
      ]
     },
     "execution_count": 77,
     "metadata": {},
     "output_type": "execute_result"
    }
   ],
   "source": [
    "answer_data.sort(\"Score\", ascending=False).head()"
   ]
  },
  {
   "cell_type": "markdown",
   "metadata": {},
   "source": [
    "### Scores by Langauge and Type"
   ]
  },
  {
   "cell_type": "markdown",
   "metadata": {},
   "source": [
    "Next we are going to see the avrage score seperated based on type of the person answering and the langauge. "
   ]
  },
  {
   "cell_type": "code",
   "execution_count": 78,
   "metadata": {
    "collapsed": true
   },
   "outputs": [],
   "source": [
    "answer_data_grouped = answer_data.groupby(['Language', 'AnswerMBTI'], as_index=False)[\"Score\"].mean()"
   ]
  },
  {
   "cell_type": "code",
   "execution_count": 79,
   "metadata": {
    "collapsed": true
   },
   "outputs": [],
   "source": [
    "answer_data_grouped = answer_data_grouped.pivot(index='Language', columns='AnswerMBTI', values='Score')"
   ]
  },
  {
   "cell_type": "code",
   "execution_count": 80,
   "metadata": {},
   "outputs": [
    {
     "data": {
      "text/html": [
       "<div>\n",
       "<table border=\"1\" class=\"dataframe\">\n",
       "  <thead>\n",
       "    <tr style=\"text-align: right;\">\n",
       "      <th>AnswerMBTI</th>\n",
       "      <th>ENFJ</th>\n",
       "      <th>ENFP</th>\n",
       "      <th>ENTJ</th>\n",
       "      <th>ENTP</th>\n",
       "      <th>ESFJ</th>\n",
       "      <th>ESFP</th>\n",
       "      <th>ESTJ</th>\n",
       "      <th>ESTP</th>\n",
       "      <th>INFJ</th>\n",
       "      <th>INFP</th>\n",
       "      <th>INTJ</th>\n",
       "      <th>INTP</th>\n",
       "      <th>ISFJ</th>\n",
       "      <th>ISFP</th>\n",
       "      <th>ISTJ</th>\n",
       "      <th>ISTP</th>\n",
       "    </tr>\n",
       "    <tr>\n",
       "      <th>Language</th>\n",
       "      <th></th>\n",
       "      <th></th>\n",
       "      <th></th>\n",
       "      <th></th>\n",
       "      <th></th>\n",
       "      <th></th>\n",
       "      <th></th>\n",
       "      <th></th>\n",
       "      <th></th>\n",
       "      <th></th>\n",
       "      <th></th>\n",
       "      <th></th>\n",
       "      <th></th>\n",
       "      <th></th>\n",
       "      <th></th>\n",
       "      <th></th>\n",
       "    </tr>\n",
       "  </thead>\n",
       "  <tbody>\n",
       "    <tr>\n",
       "      <th>c</th>\n",
       "      <td>4.393443</td>\n",
       "      <td>6.730769</td>\n",
       "      <td>7.982659</td>\n",
       "      <td>10.781250</td>\n",
       "      <td>5.346341</td>\n",
       "      <td>16.142857</td>\n",
       "      <td>7.811475</td>\n",
       "      <td>3.800000</td>\n",
       "      <td>7.055556</td>\n",
       "      <td>8.625850</td>\n",
       "      <td>10.002105</td>\n",
       "      <td>7.078818</td>\n",
       "      <td>8.526786</td>\n",
       "      <td>3.677419</td>\n",
       "      <td>5.736715</td>\n",
       "      <td>5.972414</td>\n",
       "    </tr>\n",
       "    <tr>\n",
       "      <th>c#</th>\n",
       "      <td>5.589286</td>\n",
       "      <td>6.176471</td>\n",
       "      <td>10.269076</td>\n",
       "      <td>8.623188</td>\n",
       "      <td>10.251381</td>\n",
       "      <td>16.117647</td>\n",
       "      <td>8.664179</td>\n",
       "      <td>8.262626</td>\n",
       "      <td>12.169312</td>\n",
       "      <td>9.297710</td>\n",
       "      <td>16.413462</td>\n",
       "      <td>11.449339</td>\n",
       "      <td>9.354167</td>\n",
       "      <td>9.263158</td>\n",
       "      <td>8.176904</td>\n",
       "      <td>9.313131</td>\n",
       "    </tr>\n",
       "    <tr>\n",
       "      <th>c++</th>\n",
       "      <td>7.423077</td>\n",
       "      <td>9.766667</td>\n",
       "      <td>6.255000</td>\n",
       "      <td>4.819672</td>\n",
       "      <td>5.516129</td>\n",
       "      <td>18.902439</td>\n",
       "      <td>21.652778</td>\n",
       "      <td>4.460674</td>\n",
       "      <td>8.497674</td>\n",
       "      <td>7.850000</td>\n",
       "      <td>15.241164</td>\n",
       "      <td>8.705882</td>\n",
       "      <td>11.939655</td>\n",
       "      <td>4.016667</td>\n",
       "      <td>7.235417</td>\n",
       "      <td>8.406250</td>\n",
       "    </tr>\n",
       "    <tr>\n",
       "      <th>java</th>\n",
       "      <td>2.578947</td>\n",
       "      <td>1.500000</td>\n",
       "      <td>7.155251</td>\n",
       "      <td>12.776316</td>\n",
       "      <td>9.509158</td>\n",
       "      <td>18.790323</td>\n",
       "      <td>11.987013</td>\n",
       "      <td>5.383562</td>\n",
       "      <td>21.063725</td>\n",
       "      <td>8.168605</td>\n",
       "      <td>13.613445</td>\n",
       "      <td>7.924242</td>\n",
       "      <td>10.083333</td>\n",
       "      <td>2.937500</td>\n",
       "      <td>15.299754</td>\n",
       "      <td>9.593301</td>\n",
       "    </tr>\n",
       "    <tr>\n",
       "      <th>lisp</th>\n",
       "      <td>4.000000</td>\n",
       "      <td>3.666667</td>\n",
       "      <td>3.541667</td>\n",
       "      <td>3.863636</td>\n",
       "      <td>2.710145</td>\n",
       "      <td>4.473684</td>\n",
       "      <td>3.372093</td>\n",
       "      <td>4.546875</td>\n",
       "      <td>4.014706</td>\n",
       "      <td>2.096154</td>\n",
       "      <td>6.682692</td>\n",
       "      <td>4.005291</td>\n",
       "      <td>2.782609</td>\n",
       "      <td>4.277778</td>\n",
       "      <td>3.520270</td>\n",
       "      <td>3.576271</td>\n",
       "    </tr>\n",
       "    <tr>\n",
       "      <th>python</th>\n",
       "      <td>9.225000</td>\n",
       "      <td>18.263158</td>\n",
       "      <td>17.658768</td>\n",
       "      <td>15.654545</td>\n",
       "      <td>15.004000</td>\n",
       "      <td>6.857143</td>\n",
       "      <td>12.166667</td>\n",
       "      <td>28.758929</td>\n",
       "      <td>11.361386</td>\n",
       "      <td>9.719178</td>\n",
       "      <td>10.185430</td>\n",
       "      <td>14.940594</td>\n",
       "      <td>11.443038</td>\n",
       "      <td>4.783784</td>\n",
       "      <td>10.966480</td>\n",
       "      <td>8.183673</td>\n",
       "    </tr>\n",
       "    <tr>\n",
       "      <th>r</th>\n",
       "      <td>7.300000</td>\n",
       "      <td>5.846154</td>\n",
       "      <td>6.736842</td>\n",
       "      <td>8.409836</td>\n",
       "      <td>10.886076</td>\n",
       "      <td>3.916667</td>\n",
       "      <td>9.288136</td>\n",
       "      <td>6.486486</td>\n",
       "      <td>5.910891</td>\n",
       "      <td>6.935484</td>\n",
       "      <td>9.520548</td>\n",
       "      <td>7.291005</td>\n",
       "      <td>5.468750</td>\n",
       "      <td>4.315789</td>\n",
       "      <td>6.552036</td>\n",
       "      <td>5.351852</td>\n",
       "    </tr>\n",
       "  </tbody>\n",
       "</table>\n",
       "</div>"
      ],
      "text/plain": [
       "AnswerMBTI      ENFJ       ENFP       ENTJ       ENTP       ESFJ       ESFP  \\\n",
       "Language                                                                      \n",
       "c           4.393443   6.730769   7.982659  10.781250   5.346341  16.142857   \n",
       "c#          5.589286   6.176471  10.269076   8.623188  10.251381  16.117647   \n",
       "c++         7.423077   9.766667   6.255000   4.819672   5.516129  18.902439   \n",
       "java        2.578947   1.500000   7.155251  12.776316   9.509158  18.790323   \n",
       "lisp        4.000000   3.666667   3.541667   3.863636   2.710145   4.473684   \n",
       "python      9.225000  18.263158  17.658768  15.654545  15.004000   6.857143   \n",
       "r           7.300000   5.846154   6.736842   8.409836  10.886076   3.916667   \n",
       "\n",
       "AnswerMBTI       ESTJ       ESTP       INFJ      INFP       INTJ       INTP  \\\n",
       "Language                                                                      \n",
       "c            7.811475   3.800000   7.055556  8.625850  10.002105   7.078818   \n",
       "c#           8.664179   8.262626  12.169312  9.297710  16.413462  11.449339   \n",
       "c++         21.652778   4.460674   8.497674  7.850000  15.241164   8.705882   \n",
       "java        11.987013   5.383562  21.063725  8.168605  13.613445   7.924242   \n",
       "lisp         3.372093   4.546875   4.014706  2.096154   6.682692   4.005291   \n",
       "python      12.166667  28.758929  11.361386  9.719178  10.185430  14.940594   \n",
       "r            9.288136   6.486486   5.910891  6.935484   9.520548   7.291005   \n",
       "\n",
       "AnswerMBTI       ISFJ      ISFP       ISTJ      ISTP  \n",
       "Language                                              \n",
       "c            8.526786  3.677419   5.736715  5.972414  \n",
       "c#           9.354167  9.263158   8.176904  9.313131  \n",
       "c++         11.939655  4.016667   7.235417  8.406250  \n",
       "java        10.083333  2.937500  15.299754  9.593301  \n",
       "lisp         2.782609  4.277778   3.520270  3.576271  \n",
       "python      11.443038  4.783784  10.966480  8.183673  \n",
       "r            5.468750  4.315789   6.552036  5.351852  "
      ]
     },
     "execution_count": 80,
     "metadata": {},
     "output_type": "execute_result"
    }
   ],
   "source": [
    "answer_data_grouped"
   ]
  },
  {
   "cell_type": "code",
   "execution_count": 81,
   "metadata": {},
   "outputs": [
    {
     "data": {
      "text/plain": [
       "<matplotlib.axes._subplots.AxesSubplot at 0x7f63c49bcb00>"
      ]
     },
     "execution_count": 81,
     "metadata": {},
     "output_type": "execute_result"
    },
    {
     "data": {
      "image/png": "[encoded data removed]",
      "text/plain": [
       "<matplotlib.figure.Figure at 0x7f63c4a3a978>"
      ]
     },
     "metadata": {},
     "output_type": "display_data"
    }
   ],
   "source": [
    "answer_data_grouped.plot(kind=\"bar\", figsize=(16,4))"
   ]
  },
  {
   "cell_type": "markdown",
   "metadata": {},
   "source": [
    "We can see here, that there might be something interesting there. For example, the ESTPs get quite a high avreage score in Python. Also INFJs and ESFPs seems to get quite a high score for Java. On the other hand, ENFPs and ENFJs are really bad in answering questions about Java. "
   ]
  },
  {
   "cell_type": "markdown",
   "metadata": {},
   "source": [
    "## Extroversion vs. Introversion"
   ]
  },
  {
   "cell_type": "code",
   "execution_count": 82,
   "metadata": {
    "collapsed": true
   },
   "outputs": [],
   "source": [
    "answer_data_summed = answer_data.groupby(['Language', 'AnswerMBTI'], as_index=False)[\"Score\"].sum()\n",
    "answer_data_summed = answer_data_summed.pivot(index='Language', columns='AnswerMBTI', values='Score')"
   ]
  },
  {
   "cell_type": "code",
   "execution_count": 83,
   "metadata": {
    "collapsed": true
   },
   "outputs": [],
   "source": [
    "answer_data_count = answer_data.groupby(['Language', 'AnswerMBTI'], as_index=False)[\"Score\"].count()\n",
    "answer_data_count = answer_data_count.pivot(index='Language', columns='AnswerMBTI', values='Score')"
   ]
  },
  {
   "cell_type": "code",
   "execution_count": 84,
   "metadata": {},
   "outputs": [
    {
     "data": {
      "text/html": [
       "<div>\n",
       "<table border=\"1\" class=\"dataframe\">\n",
       "  <thead>\n",
       "    <tr style=\"text-align: right;\">\n",
       "      <th>AnswerMBTI</th>\n",
       "      <th>ENFJ</th>\n",
       "      <th>ENFP</th>\n",
       "      <th>ENTJ</th>\n",
       "      <th>ENTP</th>\n",
       "      <th>ESFJ</th>\n",
       "      <th>ESFP</th>\n",
       "      <th>ESTJ</th>\n",
       "      <th>ESTP</th>\n",
       "      <th>INFJ</th>\n",
       "      <th>INFP</th>\n",
       "      <th>INTJ</th>\n",
       "      <th>INTP</th>\n",
       "      <th>ISFJ</th>\n",
       "      <th>ISFP</th>\n",
       "      <th>ISTJ</th>\n",
       "      <th>ISTP</th>\n",
       "    </tr>\n",
       "    <tr>\n",
       "      <th>Language</th>\n",
       "      <th></th>\n",
       "      <th></th>\n",
       "      <th></th>\n",
       "      <th></th>\n",
       "      <th></th>\n",
       "      <th></th>\n",
       "      <th></th>\n",
       "      <th></th>\n",
       "      <th></th>\n",
       "      <th></th>\n",
       "      <th></th>\n",
       "      <th></th>\n",
       "      <th></th>\n",
       "      <th></th>\n",
       "      <th></th>\n",
       "      <th></th>\n",
       "    </tr>\n",
       "  </thead>\n",
       "  <tbody>\n",
       "    <tr>\n",
       "      <th>c</th>\n",
       "      <td>61</td>\n",
       "      <td>26</td>\n",
       "      <td>173</td>\n",
       "      <td>64</td>\n",
       "      <td>205</td>\n",
       "      <td>49</td>\n",
       "      <td>122</td>\n",
       "      <td>85</td>\n",
       "      <td>234</td>\n",
       "      <td>147</td>\n",
       "      <td>475</td>\n",
       "      <td>406</td>\n",
       "      <td>112</td>\n",
       "      <td>62</td>\n",
       "      <td>414</td>\n",
       "      <td>145</td>\n",
       "    </tr>\n",
       "    <tr>\n",
       "      <th>c#</th>\n",
       "      <td>56</td>\n",
       "      <td>34</td>\n",
       "      <td>249</td>\n",
       "      <td>69</td>\n",
       "      <td>362</td>\n",
       "      <td>51</td>\n",
       "      <td>134</td>\n",
       "      <td>99</td>\n",
       "      <td>189</td>\n",
       "      <td>131</td>\n",
       "      <td>416</td>\n",
       "      <td>454</td>\n",
       "      <td>96</td>\n",
       "      <td>57</td>\n",
       "      <td>407</td>\n",
       "      <td>198</td>\n",
       "    </tr>\n",
       "    <tr>\n",
       "      <th>c++</th>\n",
       "      <td>52</td>\n",
       "      <td>30</td>\n",
       "      <td>200</td>\n",
       "      <td>61</td>\n",
       "      <td>248</td>\n",
       "      <td>41</td>\n",
       "      <td>144</td>\n",
       "      <td>89</td>\n",
       "      <td>215</td>\n",
       "      <td>140</td>\n",
       "      <td>481</td>\n",
       "      <td>425</td>\n",
       "      <td>116</td>\n",
       "      <td>60</td>\n",
       "      <td>480</td>\n",
       "      <td>160</td>\n",
       "    </tr>\n",
       "    <tr>\n",
       "      <th>java</th>\n",
       "      <td>57</td>\n",
       "      <td>14</td>\n",
       "      <td>219</td>\n",
       "      <td>76</td>\n",
       "      <td>273</td>\n",
       "      <td>62</td>\n",
       "      <td>154</td>\n",
       "      <td>73</td>\n",
       "      <td>204</td>\n",
       "      <td>172</td>\n",
       "      <td>357</td>\n",
       "      <td>396</td>\n",
       "      <td>48</td>\n",
       "      <td>48</td>\n",
       "      <td>407</td>\n",
       "      <td>209</td>\n",
       "    </tr>\n",
       "    <tr>\n",
       "      <th>lisp</th>\n",
       "      <td>14</td>\n",
       "      <td>6</td>\n",
       "      <td>72</td>\n",
       "      <td>44</td>\n",
       "      <td>69</td>\n",
       "      <td>19</td>\n",
       "      <td>43</td>\n",
       "      <td>64</td>\n",
       "      <td>68</td>\n",
       "      <td>52</td>\n",
       "      <td>208</td>\n",
       "      <td>189</td>\n",
       "      <td>23</td>\n",
       "      <td>18</td>\n",
       "      <td>148</td>\n",
       "      <td>59</td>\n",
       "    </tr>\n",
       "    <tr>\n",
       "      <th>python</th>\n",
       "      <td>40</td>\n",
       "      <td>19</td>\n",
       "      <td>211</td>\n",
       "      <td>55</td>\n",
       "      <td>250</td>\n",
       "      <td>42</td>\n",
       "      <td>102</td>\n",
       "      <td>112</td>\n",
       "      <td>202</td>\n",
       "      <td>146</td>\n",
       "      <td>302</td>\n",
       "      <td>303</td>\n",
       "      <td>79</td>\n",
       "      <td>74</td>\n",
       "      <td>358</td>\n",
       "      <td>147</td>\n",
       "    </tr>\n",
       "    <tr>\n",
       "      <th>r</th>\n",
       "      <td>10</td>\n",
       "      <td>26</td>\n",
       "      <td>95</td>\n",
       "      <td>61</td>\n",
       "      <td>79</td>\n",
       "      <td>36</td>\n",
       "      <td>59</td>\n",
       "      <td>74</td>\n",
       "      <td>101</td>\n",
       "      <td>62</td>\n",
       "      <td>146</td>\n",
       "      <td>189</td>\n",
       "      <td>32</td>\n",
       "      <td>19</td>\n",
       "      <td>221</td>\n",
       "      <td>54</td>\n",
       "    </tr>\n",
       "  </tbody>\n",
       "</table>\n",
       "</div>"
      ],
      "text/plain": [
       "AnswerMBTI  ENFJ  ENFP  ENTJ  ENTP  ESFJ  ESFP  ESTJ  ESTP  INFJ  INFP  INTJ  \\\n",
       "Language                                                                       \n",
       "c             61    26   173    64   205    49   122    85   234   147   475   \n",
       "c#            56    34   249    69   362    51   134    99   189   131   416   \n",
       "c++           52    30   200    61   248    41   144    89   215   140   481   \n",
       "java          57    14   219    76   273    62   154    73   204   172   357   \n",
       "lisp          14     6    72    44    69    19    43    64    68    52   208   \n",
       "python        40    19   211    55   250    42   102   112   202   146   302   \n",
       "r             10    26    95    61    79    36    59    74   101    62   146   \n",
       "\n",
       "AnswerMBTI  INTP  ISFJ  ISFP  ISTJ  ISTP  \n",
       "Language                                  \n",
       "c            406   112    62   414   145  \n",
       "c#           454    96    57   407   198  \n",
       "c++          425   116    60   480   160  \n",
       "java         396    48    48   407   209  \n",
       "lisp         189    23    18   148    59  \n",
       "python       303    79    74   358   147  \n",
       "r            189    32    19   221    54  "
      ]
     },
     "execution_count": 84,
     "metadata": {},
     "output_type": "execute_result"
    }
   ],
   "source": [
    "answer_data_count"
   ]
  },
  {
   "cell_type": "code",
   "execution_count": 85,
   "metadata": {},
   "outputs": [
    {
     "data": {
      "text/html": [
       "<div>\n",
       "<table border=\"1\" class=\"dataframe\">\n",
       "  <thead>\n",
       "    <tr style=\"text-align: right;\">\n",
       "      <th>AnswerMBTI</th>\n",
       "      <th>ENFJ</th>\n",
       "      <th>ENFP</th>\n",
       "      <th>ENTJ</th>\n",
       "      <th>ENTP</th>\n",
       "      <th>ESFJ</th>\n",
       "      <th>ESFP</th>\n",
       "      <th>ESTJ</th>\n",
       "      <th>ESTP</th>\n",
       "      <th>INFJ</th>\n",
       "      <th>INFP</th>\n",
       "      <th>INTJ</th>\n",
       "      <th>INTP</th>\n",
       "      <th>ISFJ</th>\n",
       "      <th>ISFP</th>\n",
       "      <th>ISTJ</th>\n",
       "      <th>ISTP</th>\n",
       "    </tr>\n",
       "    <tr>\n",
       "      <th>Language</th>\n",
       "      <th></th>\n",
       "      <th></th>\n",
       "      <th></th>\n",
       "      <th></th>\n",
       "      <th></th>\n",
       "      <th></th>\n",
       "      <th></th>\n",
       "      <th></th>\n",
       "      <th></th>\n",
       "      <th></th>\n",
       "      <th></th>\n",
       "      <th></th>\n",
       "      <th></th>\n",
       "      <th></th>\n",
       "      <th></th>\n",
       "      <th></th>\n",
       "    </tr>\n",
       "  </thead>\n",
       "  <tbody>\n",
       "    <tr>\n",
       "      <th>c</th>\n",
       "      <td>268</td>\n",
       "      <td>175</td>\n",
       "      <td>1381</td>\n",
       "      <td>690</td>\n",
       "      <td>1096</td>\n",
       "      <td>791</td>\n",
       "      <td>953</td>\n",
       "      <td>323</td>\n",
       "      <td>1651</td>\n",
       "      <td>1268</td>\n",
       "      <td>4751</td>\n",
       "      <td>2874</td>\n",
       "      <td>955</td>\n",
       "      <td>228</td>\n",
       "      <td>2375</td>\n",
       "      <td>866</td>\n",
       "    </tr>\n",
       "    <tr>\n",
       "      <th>c#</th>\n",
       "      <td>313</td>\n",
       "      <td>210</td>\n",
       "      <td>2557</td>\n",
       "      <td>595</td>\n",
       "      <td>3711</td>\n",
       "      <td>822</td>\n",
       "      <td>1161</td>\n",
       "      <td>818</td>\n",
       "      <td>2300</td>\n",
       "      <td>1218</td>\n",
       "      <td>6828</td>\n",
       "      <td>5198</td>\n",
       "      <td>898</td>\n",
       "      <td>528</td>\n",
       "      <td>3328</td>\n",
       "      <td>1844</td>\n",
       "    </tr>\n",
       "    <tr>\n",
       "      <th>c++</th>\n",
       "      <td>386</td>\n",
       "      <td>293</td>\n",
       "      <td>1251</td>\n",
       "      <td>294</td>\n",
       "      <td>1368</td>\n",
       "      <td>775</td>\n",
       "      <td>3118</td>\n",
       "      <td>397</td>\n",
       "      <td>1827</td>\n",
       "      <td>1099</td>\n",
       "      <td>7331</td>\n",
       "      <td>3700</td>\n",
       "      <td>1385</td>\n",
       "      <td>241</td>\n",
       "      <td>3473</td>\n",
       "      <td>1345</td>\n",
       "    </tr>\n",
       "    <tr>\n",
       "      <th>java</th>\n",
       "      <td>147</td>\n",
       "      <td>21</td>\n",
       "      <td>1567</td>\n",
       "      <td>971</td>\n",
       "      <td>2596</td>\n",
       "      <td>1165</td>\n",
       "      <td>1846</td>\n",
       "      <td>393</td>\n",
       "      <td>4297</td>\n",
       "      <td>1405</td>\n",
       "      <td>4860</td>\n",
       "      <td>3138</td>\n",
       "      <td>484</td>\n",
       "      <td>141</td>\n",
       "      <td>6227</td>\n",
       "      <td>2005</td>\n",
       "    </tr>\n",
       "    <tr>\n",
       "      <th>lisp</th>\n",
       "      <td>56</td>\n",
       "      <td>22</td>\n",
       "      <td>255</td>\n",
       "      <td>170</td>\n",
       "      <td>187</td>\n",
       "      <td>85</td>\n",
       "      <td>145</td>\n",
       "      <td>291</td>\n",
       "      <td>273</td>\n",
       "      <td>109</td>\n",
       "      <td>1390</td>\n",
       "      <td>757</td>\n",
       "      <td>64</td>\n",
       "      <td>77</td>\n",
       "      <td>521</td>\n",
       "      <td>211</td>\n",
       "    </tr>\n",
       "    <tr>\n",
       "      <th>python</th>\n",
       "      <td>369</td>\n",
       "      <td>347</td>\n",
       "      <td>3726</td>\n",
       "      <td>861</td>\n",
       "      <td>3751</td>\n",
       "      <td>288</td>\n",
       "      <td>1241</td>\n",
       "      <td>3221</td>\n",
       "      <td>2295</td>\n",
       "      <td>1419</td>\n",
       "      <td>3076</td>\n",
       "      <td>4527</td>\n",
       "      <td>904</td>\n",
       "      <td>354</td>\n",
       "      <td>3926</td>\n",
       "      <td>1203</td>\n",
       "    </tr>\n",
       "    <tr>\n",
       "      <th>r</th>\n",
       "      <td>73</td>\n",
       "      <td>152</td>\n",
       "      <td>640</td>\n",
       "      <td>513</td>\n",
       "      <td>860</td>\n",
       "      <td>141</td>\n",
       "      <td>548</td>\n",
       "      <td>480</td>\n",
       "      <td>597</td>\n",
       "      <td>430</td>\n",
       "      <td>1390</td>\n",
       "      <td>1378</td>\n",
       "      <td>175</td>\n",
       "      <td>82</td>\n",
       "      <td>1448</td>\n",
       "      <td>289</td>\n",
       "    </tr>\n",
       "  </tbody>\n",
       "</table>\n",
       "</div>"
      ],
      "text/plain": [
       "AnswerMBTI  ENFJ  ENFP  ENTJ  ENTP  ESFJ  ESFP  ESTJ  ESTP  INFJ  INFP  INTJ  \\\n",
       "Language                                                                       \n",
       "c            268   175  1381   690  1096   791   953   323  1651  1268  4751   \n",
       "c#           313   210  2557   595  3711   822  1161   818  2300  1218  6828   \n",
       "c++          386   293  1251   294  1368   775  3118   397  1827  1099  7331   \n",
       "java         147    21  1567   971  2596  1165  1846   393  4297  1405  4860   \n",
       "lisp          56    22   255   170   187    85   145   291   273   109  1390   \n",
       "python       369   347  3726   861  3751   288  1241  3221  2295  1419  3076   \n",
       "r             73   152   640   513   860   141   548   480   597   430  1390   \n",
       "\n",
       "AnswerMBTI  INTP  ISFJ  ISFP  ISTJ  ISTP  \n",
       "Language                                  \n",
       "c           2874   955   228  2375   866  \n",
       "c#          5198   898   528  3328  1844  \n",
       "c++         3700  1385   241  3473  1345  \n",
       "java        3138   484   141  6227  2005  \n",
       "lisp         757    64    77   521   211  \n",
       "python      4527   904   354  3926  1203  \n",
       "r           1378   175    82  1448   289  "
      ]
     },
     "execution_count": 85,
     "metadata": {},
     "output_type": "execute_result"
    }
   ],
   "source": [
    "answer_data_summed"
   ]
  },
  {
   "cell_type": "code",
   "execution_count": 86,
   "metadata": {
    "collapsed": true
   },
   "outputs": [],
   "source": [
    "answer_comparison_EI = pd.DataFrame()"
   ]
  },
  {
   "cell_type": "code",
   "execution_count": 87,
   "metadata": {
    "collapsed": true
   },
   "outputs": [],
   "source": [
    "answer_comparison_EI[\"ISum\"] = answer_data_summed[\"ISTP\"] + \\\n",
    "                            answer_data_summed[\"ISTJ\"] + \\\n",
    "                            answer_data_summed[\"ISFP\"] + \\\n",
    "                            answer_data_summed[\"ISFJ\"] + \\\n",
    "                            answer_data_summed[\"INTP\"] + \\\n",
    "                            answer_data_summed[\"INTJ\"] + \\\n",
    "                            answer_data_summed[\"INFP\"] + \\\n",
    "                            answer_data_summed[\"INFJ\"]"
   ]
  },
  {
   "cell_type": "code",
   "execution_count": 88,
   "metadata": {
    "collapsed": true
   },
   "outputs": [],
   "source": [
    "answer_comparison_EI[\"ICount\"] = answer_data_count[\"ISTP\"] + \\\n",
    "                            answer_data_count[\"ISTJ\"] + \\\n",
    "                            answer_data_count[\"ISFP\"] + \\\n",
    "                            answer_data_count[\"ISFJ\"] + \\\n",
    "                            answer_data_count[\"INTP\"] + \\\n",
    "                            answer_data_count[\"INTJ\"] + \\\n",
    "                            answer_data_count[\"INFP\"] + \\\n",
    "                            answer_data_count[\"INFJ\"]"
   ]
  },
  {
   "cell_type": "code",
   "execution_count": 89,
   "metadata": {
    "collapsed": true
   },
   "outputs": [],
   "source": [
    "answer_comparison_EI[\"ECount\"] = answer_data_count[\"ESTP\"] + \\\n",
    "                            answer_data_count[\"ESTJ\"] + \\\n",
    "                            answer_data_count[\"ESFP\"] + \\\n",
    "                            answer_data_count[\"ESFJ\"] + \\\n",
    "                            answer_data_count[\"ENTP\"] + \\\n",
    "                            answer_data_count[\"ENTJ\"] + \\\n",
    "                            answer_data_count[\"ENFP\"] + \\\n",
    "                            answer_data_count[\"ENFJ\"]"
   ]
  },
  {
   "cell_type": "code",
   "execution_count": 90,
   "metadata": {
    "collapsed": true
   },
   "outputs": [],
   "source": [
    "answer_comparison_EI[\"ESum\"] = answer_data_summed[\"ESTP\"] + \\\n",
    "                            answer_data_summed[\"ESTJ\"] + \\\n",
    "                            answer_data_summed[\"ESFP\"] + \\\n",
    "                            answer_data_summed[\"ESFJ\"] + \\\n",
    "                            answer_data_summed[\"ENTP\"] + \\\n",
    "                            answer_data_summed[\"ENTJ\"] + \\\n",
    "                            answer_data_summed[\"ENFP\"] + \\\n",
    "                            answer_data_summed[\"ENFJ\"]"
   ]
  },
  {
   "cell_type": "code",
   "execution_count": 91,
   "metadata": {},
   "outputs": [
    {
     "data": {
      "text/html": [
       "<div>\n",
       "<table border=\"1\" class=\"dataframe\">\n",
       "  <thead>\n",
       "    <tr style=\"text-align: right;\">\n",
       "      <th></th>\n",
       "      <th>ISum</th>\n",
       "      <th>ICount</th>\n",
       "      <th>ECount</th>\n",
       "      <th>ESum</th>\n",
       "    </tr>\n",
       "    <tr>\n",
       "      <th>Language</th>\n",
       "      <th></th>\n",
       "      <th></th>\n",
       "      <th></th>\n",
       "      <th></th>\n",
       "    </tr>\n",
       "  </thead>\n",
       "  <tbody>\n",
       "    <tr>\n",
       "      <th>c</th>\n",
       "      <td>14968</td>\n",
       "      <td>1995</td>\n",
       "      <td>785</td>\n",
       "      <td>5677</td>\n",
       "    </tr>\n",
       "    <tr>\n",
       "      <th>c#</th>\n",
       "      <td>22142</td>\n",
       "      <td>1948</td>\n",
       "      <td>1054</td>\n",
       "      <td>10187</td>\n",
       "    </tr>\n",
       "    <tr>\n",
       "      <th>c++</th>\n",
       "      <td>20401</td>\n",
       "      <td>2077</td>\n",
       "      <td>865</td>\n",
       "      <td>7882</td>\n",
       "    </tr>\n",
       "    <tr>\n",
       "      <th>java</th>\n",
       "      <td>22557</td>\n",
       "      <td>1841</td>\n",
       "      <td>928</td>\n",
       "      <td>8706</td>\n",
       "    </tr>\n",
       "    <tr>\n",
       "      <th>lisp</th>\n",
       "      <td>3402</td>\n",
       "      <td>765</td>\n",
       "      <td>331</td>\n",
       "      <td>1211</td>\n",
       "    </tr>\n",
       "    <tr>\n",
       "      <th>python</th>\n",
       "      <td>17704</td>\n",
       "      <td>1611</td>\n",
       "      <td>831</td>\n",
       "      <td>13804</td>\n",
       "    </tr>\n",
       "    <tr>\n",
       "      <th>r</th>\n",
       "      <td>5789</td>\n",
       "      <td>824</td>\n",
       "      <td>440</td>\n",
       "      <td>3407</td>\n",
       "    </tr>\n",
       "  </tbody>\n",
       "</table>\n",
       "</div>"
      ],
      "text/plain": [
       "           ISum  ICount  ECount   ESum\n",
       "Language                              \n",
       "c         14968    1995     785   5677\n",
       "c#        22142    1948    1054  10187\n",
       "c++       20401    2077     865   7882\n",
       "java      22557    1841     928   8706\n",
       "lisp       3402     765     331   1211\n",
       "python    17704    1611     831  13804\n",
       "r          5789     824     440   3407"
      ]
     },
     "execution_count": 91,
     "metadata": {},
     "output_type": "execute_result"
    }
   ],
   "source": [
    "answer_comparison_EI"
   ]
  },
  {
   "cell_type": "code",
   "execution_count": 92,
   "metadata": {
    "collapsed": true
   },
   "outputs": [],
   "source": [
    "answer_comparison_EI[\"I\"] = answer_comparison_EI[\"ISum\"] / answer_comparison_EI[\"ICount\"]\n",
    "answer_comparison_EI[\"E\"] = answer_comparison_EI[\"ESum\"] / answer_comparison_EI[\"ECount\"]"
   ]
  },
  {
   "cell_type": "code",
   "execution_count": 93,
   "metadata": {
    "collapsed": true
   },
   "outputs": [],
   "source": [
    "del answer_comparison_EI[\"ISum\"]\n",
    "del answer_comparison_EI[\"ESum\"]\n",
    "del answer_comparison_EI[\"ICount\"]\n",
    "del answer_comparison_EI[\"ECount\"]"
   ]
  },
  {
   "cell_type": "code",
   "execution_count": 94,
   "metadata": {},
   "outputs": [
    {
     "data": {
      "text/plain": [
       "<matplotlib.axes._subplots.AxesSubplot at 0x7f63c48dff60>"
      ]
     },
     "execution_count": 94,
     "metadata": {},
     "output_type": "execute_result"
    },
    {
     "data": {
      "image/png": "[encoded data removed]",
      "text/plain": [
       "<matplotlib.figure.Figure at 0x7f63c485aeb8>"
      ]
     },
     "metadata": {},
     "output_type": "display_data"
    }
   ],
   "source": [
    "answer_comparison_EI.plot(kind=\"bar\", figsize=(16,4))"
   ]
  },
  {
   "cell_type": "markdown",
   "metadata": {},
   "source": [
    "We can see that there is a big difference when we look at the Python language. For some reason, the Python extroverts seems to be a lot better at answering questions on avreage than the introverts. In Java, the effect is a reverse, but it seems to be smaller."
   ]
  },
  {
   "cell_type": "markdown",
   "metadata": {},
   "source": [
    "### Sensation vs. Intuition"
   ]
  },
  {
   "cell_type": "code",
   "execution_count": 95,
   "metadata": {
    "collapsed": true
   },
   "outputs": [],
   "source": [
    "answer_comparison_SN = pd.DataFrame()"
   ]
  },
  {
   "cell_type": "code",
   "execution_count": 96,
   "metadata": {
    "collapsed": true
   },
   "outputs": [],
   "source": [
    "answer_comparison_SN[\"NSum\"] = answer_data_summed[\"ENTP\"] + \\\n",
    "                            answer_data_summed[\"ENTJ\"] + \\\n",
    "                            answer_data_summed[\"ENFP\"] + \\\n",
    "                            answer_data_summed[\"ENFJ\"] + \\\n",
    "                            answer_data_summed[\"INTP\"] + \\\n",
    "                            answer_data_summed[\"INTJ\"] + \\\n",
    "                            answer_data_summed[\"INFP\"] + \\\n",
    "                            answer_data_summed[\"INFJ\"]"
   ]
  },
  {
   "cell_type": "code",
   "execution_count": 97,
   "metadata": {
    "collapsed": true
   },
   "outputs": [],
   "source": [
    "answer_comparison_SN[\"SSum\"] = answer_data_summed[\"ESTP\"] + \\\n",
    "                            answer_data_summed[\"ESTJ\"] + \\\n",
    "                            answer_data_summed[\"ESFP\"] + \\\n",
    "                            answer_data_summed[\"ESFJ\"] + \\\n",
    "                            answer_data_summed[\"ISTP\"] + \\\n",
    "                            answer_data_summed[\"ISTJ\"] + \\\n",
    "                            answer_data_summed[\"ISFP\"] + \\\n",
    "                            answer_data_summed[\"ISFJ\"]"
   ]
  },
  {
   "cell_type": "code",
   "execution_count": 98,
   "metadata": {
    "collapsed": true
   },
   "outputs": [],
   "source": [
    "answer_comparison_SN[\"NCount\"] = answer_data_count[\"ENTP\"] + \\\n",
    "                            answer_data_count[\"ENTJ\"] + \\\n",
    "                            answer_data_count[\"ENFP\"] + \\\n",
    "                            answer_data_count[\"ENFJ\"] + \\\n",
    "                            answer_data_count[\"INTP\"] + \\\n",
    "                            answer_data_count[\"INTJ\"] + \\\n",
    "                            answer_data_count[\"INFP\"] + \\\n",
    "                            answer_data_count[\"INFJ\"]"
   ]
  },
  {
   "cell_type": "code",
   "execution_count": 99,
   "metadata": {
    "collapsed": true
   },
   "outputs": [],
   "source": [
    "answer_comparison_SN[\"SCount\"] = answer_data_count[\"ESTP\"] + \\\n",
    "                            answer_data_count[\"ESTJ\"] + \\\n",
    "                            answer_data_count[\"ESFP\"] + \\\n",
    "                            answer_data_count[\"ESFJ\"] + \\\n",
    "                            answer_data_count[\"ISTP\"] + \\\n",
    "                            answer_data_count[\"ISTJ\"] + \\\n",
    "                            answer_data_count[\"ISFP\"] + \\\n",
    "                            answer_data_count[\"ISFJ\"]"
   ]
  },
  {
   "cell_type": "code",
   "execution_count": 100,
   "metadata": {
    "collapsed": true
   },
   "outputs": [],
   "source": [
    "answer_comparison_SN[\"S\"] = answer_comparison_SN[\"SSum\"] / answer_comparison_SN[\"SCount\"]\n",
    "answer_comparison_SN[\"N\"] = answer_comparison_SN[\"NSum\"] / answer_comparison_SN[\"NCount\"]"
   ]
  },
  {
   "cell_type": "code",
   "execution_count": 101,
   "metadata": {
    "collapsed": true
   },
   "outputs": [],
   "source": [
    "del answer_comparison_SN[\"SSum\"]\n",
    "del answer_comparison_SN[\"NSum\"]\n",
    "del answer_comparison_SN[\"SCount\"]\n",
    "del answer_comparison_SN[\"NCount\"]"
   ]
  },
  {
   "cell_type": "code",
   "execution_count": 102,
   "metadata": {},
   "outputs": [
    {
     "data": {
      "text/plain": [
       "<matplotlib.axes._subplots.AxesSubplot at 0x7f63c46b9cc0>"
      ]
     },
     "execution_count": 102,
     "metadata": {},
     "output_type": "execute_result"
    },
    {
     "data": {
      "image/png": "[encoded data removed]",
      "text/plain": [
       "<matplotlib.figure.Figure at 0x7f63c4861588>"
      ]
     },
     "metadata": {},
     "output_type": "display_data"
    }
   ],
   "source": [
    "answer_comparison_SN.plot(kind=\"bar\", figsize=(16,4))"
   ]
  },
  {
   "cell_type": "markdown",
   "metadata": {},
   "source": [
    "Here we see some indcation the intuitives are better at answering questions for C# and C. Maybe for Lisp. The other seems quite more balanced. "
   ]
  },
  {
   "cell_type": "markdown",
   "metadata": {},
   "source": [
    "### Thinking vs. Feeling"
   ]
  },
  {
   "cell_type": "code",
   "execution_count": 103,
   "metadata": {
    "collapsed": true
   },
   "outputs": [],
   "source": [
    "answer_comparison_TF = pd.DataFrame()"
   ]
  },
  {
   "cell_type": "code",
   "execution_count": 104,
   "metadata": {
    "collapsed": true
   },
   "outputs": [],
   "source": [
    "answer_comparison_TF[\"FSum\"] = answer_data_summed[\"ESFP\"] + \\\n",
    "                            answer_data_summed[\"ESFJ\"] + \\\n",
    "                            answer_data_summed[\"ENFP\"] + \\\n",
    "                            answer_data_summed[\"ENFJ\"] + \\\n",
    "                            answer_data_summed[\"ISFP\"] + \\\n",
    "                            answer_data_summed[\"ISFJ\"] + \\\n",
    "                            answer_data_summed[\"INFP\"] + \\\n",
    "                            answer_data_summed[\"INFJ\"]"
   ]
  },
  {
   "cell_type": "code",
   "execution_count": 105,
   "metadata": {
    "collapsed": true
   },
   "outputs": [],
   "source": [
    "answer_comparison_TF[\"TSum\"] = answer_data_summed[\"ESTP\"] + \\\n",
    "                            answer_data_summed[\"ESTJ\"] + \\\n",
    "                            answer_data_summed[\"ENTP\"] + \\\n",
    "                            answer_data_summed[\"ENTJ\"] + \\\n",
    "                            answer_data_summed[\"ISTP\"] + \\\n",
    "                            answer_data_summed[\"ISTJ\"] + \\\n",
    "                            answer_data_summed[\"INTP\"] + \\\n",
    "                            answer_data_summed[\"INTJ\"]"
   ]
  },
  {
   "cell_type": "code",
   "execution_count": 106,
   "metadata": {
    "collapsed": true
   },
   "outputs": [],
   "source": [
    "answer_comparison_TF[\"FCount\"] = answer_data_count[\"ESFP\"] + \\\n",
    "                            answer_data_count[\"ESFJ\"] + \\\n",
    "                            answer_data_count[\"ENFP\"] + \\\n",
    "                            answer_data_count[\"ENFJ\"] + \\\n",
    "                            answer_data_count[\"ISFP\"] + \\\n",
    "                            answer_data_count[\"ISFJ\"] + \\\n",
    "                            answer_data_count[\"INFP\"] + \\\n",
    "                            answer_data_count[\"INFJ\"]"
   ]
  },
  {
   "cell_type": "code",
   "execution_count": 107,
   "metadata": {
    "collapsed": true
   },
   "outputs": [],
   "source": [
    "answer_comparison_TF[\"TCount\"] = answer_data_count[\"ESTP\"] + \\\n",
    "                            answer_data_count[\"ESTJ\"] + \\\n",
    "                            answer_data_count[\"ENTP\"] + \\\n",
    "                            answer_data_count[\"ENTJ\"] + \\\n",
    "                            answer_data_count[\"ISTP\"] + \\\n",
    "                            answer_data_count[\"ISTJ\"] + \\\n",
    "                            answer_data_count[\"INTP\"] + \\\n",
    "                            answer_data_count[\"INTJ\"]"
   ]
  },
  {
   "cell_type": "code",
   "execution_count": 108,
   "metadata": {
    "collapsed": true
   },
   "outputs": [],
   "source": [
    "answer_comparison_TF[\"T\"] = answer_comparison_TF[\"TSum\"] / answer_comparison_TF[\"TCount\"]\n",
    "answer_comparison_TF[\"F\"] = answer_comparison_TF[\"FSum\"] / answer_comparison_TF[\"FCount\"]"
   ]
  },
  {
   "cell_type": "code",
   "execution_count": 109,
   "metadata": {
    "collapsed": true
   },
   "outputs": [],
   "source": [
    "del answer_comparison_TF[\"TSum\"]\n",
    "del answer_comparison_TF[\"FSum\"]\n",
    "del answer_comparison_TF[\"TCount\"]\n",
    "del answer_comparison_TF[\"FCount\"]"
   ]
  },
  {
   "cell_type": "code",
   "execution_count": 110,
   "metadata": {},
   "outputs": [
    {
     "data": {
      "text/plain": [
       "<matplotlib.axes._subplots.AxesSubplot at 0x7f63c4407fd0>"
      ]
     },
     "execution_count": 110,
     "metadata": {},
     "output_type": "execute_result"
    },
    {
     "data": {
      "image/png": "[encoded data removed]",
      "text/plain": [
       "<matplotlib.figure.Figure at 0x7f63c4495828>"
      ]
     },
     "metadata": {},
     "output_type": "display_data"
    }
   ],
   "source": [
    "answer_comparison_TF.plot(kind=\"bar\", figsize=(16,4))"
   ]
  },
  {
   "cell_type": "markdown",
   "metadata": {},
   "source": [
    "In seems that in most cases, the Thinkers are better at answering questions than feelers, with the possible exception of Java. "
   ]
  },
  {
   "cell_type": "markdown",
   "metadata": {},
   "source": [
    "### Juding vs. Perciving"
   ]
  },
  {
   "cell_type": "code",
   "execution_count": 111,
   "metadata": {
    "collapsed": true
   },
   "outputs": [],
   "source": [
    "answer_comparison_JP = pd.DataFrame()"
   ]
  },
  {
   "cell_type": "code",
   "execution_count": 112,
   "metadata": {
    "collapsed": true
   },
   "outputs": [],
   "source": [
    "answer_comparison_JP[\"PSum\"] = answer_data_summed[\"ESFP\"] + \\\n",
    "                            answer_data_summed[\"ESTP\"] + \\\n",
    "                            answer_data_summed[\"ENFP\"] + \\\n",
    "                            answer_data_summed[\"ENTP\"] + \\\n",
    "                            answer_data_summed[\"ISFP\"] + \\\n",
    "                            answer_data_summed[\"ISTP\"] + \\\n",
    "                            answer_data_summed[\"INFP\"] + \\\n",
    "                            answer_data_summed[\"INTP\"]"
   ]
  },
  {
   "cell_type": "code",
   "execution_count": 113,
   "metadata": {
    "collapsed": true
   },
   "outputs": [],
   "source": [
    "answer_comparison_JP[\"JSum\"] = answer_data_summed[\"ESFJ\"] + \\\n",
    "                            answer_data_summed[\"ESTJ\"] + \\\n",
    "                            answer_data_summed[\"ENFJ\"] + \\\n",
    "                            answer_data_summed[\"ENTJ\"] + \\\n",
    "                            answer_data_summed[\"ISFJ\"] + \\\n",
    "                            answer_data_summed[\"ISTJ\"] + \\\n",
    "                            answer_data_summed[\"INFJ\"] + \\\n",
    "                            answer_data_summed[\"INTJ\"]"
   ]
  },
  {
   "cell_type": "code",
   "execution_count": 114,
   "metadata": {
    "collapsed": true
   },
   "outputs": [],
   "source": [
    "answer_comparison_JP[\"PCount\"] = answer_data_count[\"ESFP\"] + \\\n",
    "                            answer_data_count[\"ESTP\"] + \\\n",
    "                            answer_data_count[\"ENFP\"] + \\\n",
    "                            answer_data_count[\"ENTP\"] + \\\n",
    "                            answer_data_count[\"ISFP\"] + \\\n",
    "                            answer_data_count[\"ISTP\"] + \\\n",
    "                            answer_data_count[\"INFP\"] + \\\n",
    "                            answer_data_count[\"INTP\"]"
   ]
  },
  {
   "cell_type": "code",
   "execution_count": 115,
   "metadata": {
    "collapsed": true
   },
   "outputs": [],
   "source": [
    "answer_comparison_JP[\"JCount\"] = answer_data_count[\"ESFJ\"] + \\\n",
    "                            answer_data_count[\"ESTJ\"] + \\\n",
    "                            answer_data_count[\"ENFJ\"] + \\\n",
    "                            answer_data_count[\"ENTJ\"] + \\\n",
    "                            answer_data_count[\"ISFJ\"] + \\\n",
    "                            answer_data_count[\"ISTJ\"] + \\\n",
    "                            answer_data_count[\"INFJ\"] + \\\n",
    "                            answer_data_count[\"INTJ\"]"
   ]
  },
  {
   "cell_type": "code",
   "execution_count": 116,
   "metadata": {
    "collapsed": true
   },
   "outputs": [],
   "source": [
    "answer_comparison_JP[\"J\"] = answer_comparison_JP[\"JSum\"] / answer_comparison_JP[\"JCount\"]\n",
    "answer_comparison_JP[\"P\"] = answer_comparison_JP[\"PSum\"] / answer_comparison_JP[\"PCount\"]"
   ]
  },
  {
   "cell_type": "code",
   "execution_count": 117,
   "metadata": {
    "collapsed": true
   },
   "outputs": [],
   "source": [
    "del answer_comparison_JP[\"JSum\"]\n",
    "del answer_comparison_JP[\"PSum\"]\n",
    "del answer_comparison_JP[\"JCount\"]\n",
    "del answer_comparison_JP[\"PCount\"]"
   ]
  },
  {
   "cell_type": "code",
   "execution_count": 118,
   "metadata": {},
   "outputs": [
    {
     "data": {
      "text/plain": [
       "<matplotlib.axes._subplots.AxesSubplot at 0x7f63c42b25f8>"
      ]
     },
     "execution_count": 118,
     "metadata": {},
     "output_type": "execute_result"
    },
    {
     "data": {
      "image/png": "[encoded data removed]",
      "text/plain": [
       "<matplotlib.figure.Figure at 0x7f63c42ef828>"
      ]
     },
     "metadata": {},
     "output_type": "display_data"
    }
   ],
   "source": [
    "answer_comparison_JP.plot(kind=\"bar\", figsize=(16,4))"
   ]
  },
  {
   "cell_type": "markdown",
   "metadata": {},
   "source": [
    "Here it seems again, that in most cases the judgers are better than perciviers, even if in some cases (C) the difference is minimal. The only exception this time is Python."
   ]
  },
  {
   "cell_type": "markdown",
   "metadata": {},
   "source": [
    "### Python and Extroversion and Introversion"
   ]
  },
  {
   "cell_type": "markdown",
   "metadata": {},
   "source": [
    "Visually the biggest difference seems to be between the extraverts and introverts in the Python language. Let us not check this with some statistics. \n",
    "\n",
    "First let us clean the data somehow."
   ]
  },
  {
   "cell_type": "code",
   "execution_count": 119,
   "metadata": {
    "collapsed": true
   },
   "outputs": [],
   "source": [
    "answer_data[\"BodyLen\"] = answer_data[\"Body\"].apply(lambda a: len(a))"
   ]
  },
  {
   "cell_type": "code",
   "execution_count": 120,
   "metadata": {
    "collapsed": true
   },
   "outputs": [],
   "source": [
    "python_data = answer_data.loc[answer_data[\"Language\"] == \"python\"]"
   ]
  },
  {
   "cell_type": "code",
   "execution_count": 121,
   "metadata": {
    "collapsed": true
   },
   "outputs": [],
   "source": [
    "del python_data[\"OwnerUserId\"]\n",
    "del python_data[\"CreationDate\"]\n",
    "del python_data[\"Language\"]"
   ]
  },
  {
   "cell_type": "code",
   "execution_count": 122,
   "metadata": {},
   "outputs": [
    {
     "name": "stderr",
     "output_type": "stream",
     "text": [
      "/usr/lib/python3.6/site-packages/ipykernel/__main__.py:1: SettingWithCopyWarning: \n",
      "A value is trying to be set on a copy of a slice from a DataFrame.\n",
      "Try using .loc[row_indexer,col_indexer] = value instead\n",
      "\n",
      "See the caveats in the documentation: http://pandas.pydata.org/pandas-docs/stable/indexing.html#indexing-view-versus-copy\n",
      "  if __name__ == '__main__':\n",
      "/usr/lib/python3.6/site-packages/ipykernel/__main__.py:2: SettingWithCopyWarning: \n",
      "A value is trying to be set on a copy of a slice from a DataFrame.\n",
      "Try using .loc[row_indexer,col_indexer] = value instead\n",
      "\n",
      "See the caveats in the documentation: http://pandas.pydata.org/pandas-docs/stable/indexing.html#indexing-view-versus-copy\n",
      "  from ipykernel import kernelapp as app\n"
     ]
    }
   ],
   "source": [
    "python_data[\"QuestionsMBTI\"] = python_data[\"QuestionsMBTI\"].apply(lambda a: a[0])\n",
    "python_data[\"AnswerMBTI\"] = python_data[\"AnswerMBTI\"].apply(lambda a: a[0])"
   ]
  },
  {
   "cell_type": "code",
   "execution_count": 123,
   "metadata": {
    "collapsed": true
   },
   "outputs": [],
   "source": [
    "del python_data[\"Body\"]"
   ]
  },
  {
   "cell_type": "code",
   "execution_count": 124,
   "metadata": {},
   "outputs": [
    {
     "name": "stderr",
     "output_type": "stream",
     "text": [
      "/usr/lib/python3.6/site-packages/ipykernel/__main__.py:1: SettingWithCopyWarning: \n",
      "A value is trying to be set on a copy of a slice from a DataFrame.\n",
      "Try using .loc[row_indexer,col_indexer] = value instead\n",
      "\n",
      "See the caveats in the documentation: http://pandas.pydata.org/pandas-docs/stable/indexing.html#indexing-view-versus-copy\n",
      "  if __name__ == '__main__':\n"
     ]
    }
   ],
   "source": [
    "python_data[\"AnswerScore\"] = python_data[\"Score\"]\n",
    "del python_data[\"Score\"]"
   ]
  },
  {
   "cell_type": "code",
   "execution_count": 125,
   "metadata": {},
   "outputs": [
    {
     "data": {
      "text/html": [
       "<div>\n",
       "<table border=\"1\" class=\"dataframe\">\n",
       "  <thead>\n",
       "    <tr style=\"text-align: right;\">\n",
       "      <th></th>\n",
       "      <th>ParentId</th>\n",
       "      <th>QuestionsMBTI</th>\n",
       "      <th>AnswerMBTI</th>\n",
       "      <th>BodyLen</th>\n",
       "      <th>AnswerScore</th>\n",
       "    </tr>\n",
       "    <tr>\n",
       "      <th>Id</th>\n",
       "      <th></th>\n",
       "      <th></th>\n",
       "      <th></th>\n",
       "      <th></th>\n",
       "      <th></th>\n",
       "    </tr>\n",
       "  </thead>\n",
       "  <tbody>\n",
       "    <tr>\n",
       "      <th>11074</th>\n",
       "      <td>11060</td>\n",
       "      <td>E</td>\n",
       "      <td>I</td>\n",
       "      <td>623</td>\n",
       "      <td>8</td>\n",
       "    </tr>\n",
       "    <tr>\n",
       "      <th>11128</th>\n",
       "      <td>11060</td>\n",
       "      <td>E</td>\n",
       "      <td>I</td>\n",
       "      <td>163</td>\n",
       "      <td>0</td>\n",
       "    </tr>\n",
       "    <tr>\n",
       "      <th>11235</th>\n",
       "      <td>11060</td>\n",
       "      <td>E</td>\n",
       "      <td>I</td>\n",
       "      <td>643</td>\n",
       "      <td>0</td>\n",
       "    </tr>\n",
       "    <tr>\n",
       "      <th>11443</th>\n",
       "      <td>11060</td>\n",
       "      <td>E</td>\n",
       "      <td>I</td>\n",
       "      <td>710</td>\n",
       "      <td>4</td>\n",
       "    </tr>\n",
       "    <tr>\n",
       "      <th>70778</th>\n",
       "      <td>11060</td>\n",
       "      <td>E</td>\n",
       "      <td>I</td>\n",
       "      <td>500</td>\n",
       "      <td>0</td>\n",
       "    </tr>\n",
       "  </tbody>\n",
       "</table>\n",
       "</div>"
      ],
      "text/plain": [
       "       ParentId QuestionsMBTI AnswerMBTI  BodyLen  AnswerScore\n",
       "Id                                                            \n",
       "11074     11060             E          I      623            8\n",
       "11128     11060             E          I      163            0\n",
       "11235     11060             E          I      643            0\n",
       "11443     11060             E          I      710            4\n",
       "70778     11060             E          I      500            0"
      ]
     },
     "execution_count": 125,
     "metadata": {},
     "output_type": "execute_result"
    }
   ],
   "source": [
    "python_data.head()"
   ]
  },
  {
   "cell_type": "code",
   "execution_count": 126,
   "metadata": {},
   "outputs": [
    {
     "name": "stderr",
     "output_type": "stream",
     "text": [
      "/usr/lib/python3.6/site-packages/ipykernel/__main__.py:1: SettingWithCopyWarning: \n",
      "A value is trying to be set on a copy of a slice from a DataFrame.\n",
      "Try using .loc[row_indexer,col_indexer] = value instead\n",
      "\n",
      "See the caveats in the documentation: http://pandas.pydata.org/pandas-docs/stable/indexing.html#indexing-view-versus-copy\n",
      "  if __name__ == '__main__':\n"
     ]
    }
   ],
   "source": [
    "python_data[\"SameType\"] = python_data[\"QuestionsMBTI\"] == python_data[\"AnswerMBTI\"]"
   ]
  },
  {
   "cell_type": "code",
   "execution_count": 127,
   "metadata": {},
   "outputs": [
    {
     "data": {
      "text/html": [
       "<div>\n",
       "<table border=\"1\" class=\"dataframe\">\n",
       "  <thead>\n",
       "    <tr style=\"text-align: right;\">\n",
       "      <th></th>\n",
       "      <th>ParentId</th>\n",
       "      <th>QuestionsMBTI</th>\n",
       "      <th>AnswerMBTI</th>\n",
       "      <th>BodyLen</th>\n",
       "      <th>AnswerScore</th>\n",
       "      <th>SameType</th>\n",
       "    </tr>\n",
       "    <tr>\n",
       "      <th>Id</th>\n",
       "      <th></th>\n",
       "      <th></th>\n",
       "      <th></th>\n",
       "      <th></th>\n",
       "      <th></th>\n",
       "      <th></th>\n",
       "    </tr>\n",
       "  </thead>\n",
       "  <tbody>\n",
       "    <tr>\n",
       "      <th>11074</th>\n",
       "      <td>11060</td>\n",
       "      <td>E</td>\n",
       "      <td>I</td>\n",
       "      <td>623</td>\n",
       "      <td>8</td>\n",
       "      <td>False</td>\n",
       "    </tr>\n",
       "    <tr>\n",
       "      <th>11128</th>\n",
       "      <td>11060</td>\n",
       "      <td>E</td>\n",
       "      <td>I</td>\n",
       "      <td>163</td>\n",
       "      <td>0</td>\n",
       "      <td>False</td>\n",
       "    </tr>\n",
       "    <tr>\n",
       "      <th>11235</th>\n",
       "      <td>11060</td>\n",
       "      <td>E</td>\n",
       "      <td>I</td>\n",
       "      <td>643</td>\n",
       "      <td>0</td>\n",
       "      <td>False</td>\n",
       "    </tr>\n",
       "    <tr>\n",
       "      <th>11443</th>\n",
       "      <td>11060</td>\n",
       "      <td>E</td>\n",
       "      <td>I</td>\n",
       "      <td>710</td>\n",
       "      <td>4</td>\n",
       "      <td>False</td>\n",
       "    </tr>\n",
       "    <tr>\n",
       "      <th>70778</th>\n",
       "      <td>11060</td>\n",
       "      <td>E</td>\n",
       "      <td>I</td>\n",
       "      <td>500</td>\n",
       "      <td>0</td>\n",
       "      <td>False</td>\n",
       "    </tr>\n",
       "  </tbody>\n",
       "</table>\n",
       "</div>"
      ],
      "text/plain": [
       "       ParentId QuestionsMBTI AnswerMBTI  BodyLen  AnswerScore SameType\n",
       "Id                                                                     \n",
       "11074     11060             E          I      623            8    False\n",
       "11128     11060             E          I      163            0    False\n",
       "11235     11060             E          I      643            0    False\n",
       "11443     11060             E          I      710            4    False\n",
       "70778     11060             E          I      500            0    False"
      ]
     },
     "execution_count": 127,
     "metadata": {},
     "output_type": "execute_result"
    }
   ],
   "source": [
    "python_data.head()"
   ]
  },
  {
   "cell_type": "markdown",
   "metadata": {},
   "source": [
    "Next we are going to create a linear model, where we will also add the control variables, to see if the type is really responsible for the better scores. I am expecially worried about the length of the answer."
   ]
  },
  {
   "cell_type": "code",
   "execution_count": 128,
   "metadata": {
    "collapsed": true
   },
   "outputs": [],
   "source": [
    "lm_model = smf.ols(formula='AnswerScore ~ BodyLen + QuestionsMBTI + AnswerMBTI + SameType', data=python_data).fit()"
   ]
  },
  {
   "cell_type": "code",
   "execution_count": 129,
   "metadata": {},
   "outputs": [
    {
     "data": {
      "text/html": [
       "<table class=\"simpletable\">\n",
       "<caption>OLS Regression Results</caption>\n",
       "<tr>\n",
       "  <th>Dep. Variable:</th>       <td>AnswerScore</td>   <th>  R-squared:         </th> <td>   0.007</td> \n",
       "</tr>\n",
       "<tr>\n",
       "  <th>Model:</th>                   <td>OLS</td>       <th>  Adj. R-squared:    </th> <td>   0.005</td> \n",
       "</tr>\n",
       "<tr>\n",
       "  <th>Method:</th>             <td>Least Squares</td>  <th>  F-statistic:       </th> <td>   4.013</td> \n",
       "</tr>\n",
       "<tr>\n",
       "  <th>Date:</th>             <td>Thu, 04 May 2017</td> <th>  Prob (F-statistic):</th>  <td>0.00301</td> \n",
       "</tr>\n",
       "<tr>\n",
       "  <th>Time:</th>                 <td>22:44:39</td>     <th>  Log-Likelihood:    </th> <td> -13267.</td> \n",
       "</tr>\n",
       "<tr>\n",
       "  <th>No. Observations:</th>      <td>  2442</td>      <th>  AIC:               </th> <td>2.654e+04</td>\n",
       "</tr>\n",
       "<tr>\n",
       "  <th>Df Residuals:</th>          <td>  2437</td>      <th>  BIC:               </th> <td>2.657e+04</td>\n",
       "</tr>\n",
       "<tr>\n",
       "  <th>Df Model:</th>              <td>     4</td>      <th>                     </th>     <td> </td>    \n",
       "</tr>\n",
       "<tr>\n",
       "  <th>Covariance Type:</th>      <td>nonrobust</td>    <th>                     </th>     <td> </td>    \n",
       "</tr>\n",
       "</table>\n",
       "<table class=\"simpletable\">\n",
       "<tr>\n",
       "           <td></td>             <th>coef</th>     <th>std err</th>      <th>t</th>      <th>P>|t|</th>  <th>[0.025</th>    <th>0.975]</th>  \n",
       "</tr>\n",
       "<tr>\n",
       "  <th>Intercept</th>          <td>   14.7281</td> <td>    2.586</td> <td>    5.696</td> <td> 0.000</td> <td>    9.658</td> <td>   19.799</td>\n",
       "</tr>\n",
       "<tr>\n",
       "  <th>QuestionsMBTI[T.I]</th> <td>   -1.7524</td> <td>    2.418</td> <td>   -0.725</td> <td> 0.469</td> <td>   -6.495</td> <td>    2.990</td>\n",
       "</tr>\n",
       "<tr>\n",
       "  <th>AnswerMBTI[T.I]</th>    <td>   -5.7652</td> <td>    2.417</td> <td>   -2.385</td> <td> 0.017</td> <td>  -10.506</td> <td>   -1.025</td>\n",
       "</tr>\n",
       "<tr>\n",
       "  <th>SameType[T.True]</th>   <td>    0.2232</td> <td>    2.419</td> <td>    0.092</td> <td> 0.926</td> <td>   -4.520</td> <td>    4.966</td>\n",
       "</tr>\n",
       "<tr>\n",
       "  <th>BodyLen</th>            <td>    0.0053</td> <td>    0.002</td> <td>    3.119</td> <td> 0.002</td> <td>    0.002</td> <td>    0.009</td>\n",
       "</tr>\n",
       "</table>\n",
       "<table class=\"simpletable\">\n",
       "<tr>\n",
       "  <th>Omnibus:</th>       <td>4625.268</td> <th>  Durbin-Watson:     </th>  <td>   1.839</td>  \n",
       "</tr>\n",
       "<tr>\n",
       "  <th>Prob(Omnibus):</th>  <td> 0.000</td>  <th>  Jarque-Bera (JB):  </th> <td>7897404.615</td>\n",
       "</tr>\n",
       "<tr>\n",
       "  <th>Skew:</th>           <td>14.204</td>  <th>  Prob(JB):          </th>  <td>    0.00</td>  \n",
       "</tr>\n",
       "<tr>\n",
       "  <th>Kurtosis:</th>       <td>280.144</td> <th>  Cond. No.          </th>  <td>2.51e+03</td>  \n",
       "</tr>\n",
       "</table>"
      ],
      "text/plain": [
       "<class 'statsmodels.iolib.summary.Summary'>\n",
       "\"\"\"\n",
       "                            OLS Regression Results                            \n",
       "==============================================================================\n",
       "Dep. Variable:            AnswerScore   R-squared:                       0.007\n",
       "Model:                            OLS   Adj. R-squared:                  0.005\n",
       "Method:                 Least Squares   F-statistic:                     4.013\n",
       "Date:                Thu, 04 May 2017   Prob (F-statistic):            0.00301\n",
       "Time:                        22:44:39   Log-Likelihood:                -13267.\n",
       "No. Observations:                2442   AIC:                         2.654e+04\n",
       "Df Residuals:                    2437   BIC:                         2.657e+04\n",
       "Df Model:                           4                                         \n",
       "Covariance Type:            nonrobust                                         \n",
       "======================================================================================\n",
       "                         coef    std err          t      P>|t|      [0.025      0.975]\n",
       "--------------------------------------------------------------------------------------\n",
       "Intercept             14.7281      2.586      5.696      0.000       9.658      19.799\n",
       "QuestionsMBTI[T.I]    -1.7524      2.418     -0.725      0.469      -6.495       2.990\n",
       "AnswerMBTI[T.I]       -5.7652      2.417     -2.385      0.017     -10.506      -1.025\n",
       "SameType[T.True]       0.2232      2.419      0.092      0.926      -4.520       4.966\n",
       "BodyLen                0.0053      0.002      3.119      0.002       0.002       0.009\n",
       "==============================================================================\n",
       "Omnibus:                     4625.268   Durbin-Watson:                   1.839\n",
       "Prob(Omnibus):                  0.000   Jarque-Bera (JB):          7897404.615\n",
       "Skew:                          14.204   Prob(JB):                         0.00\n",
       "Kurtosis:                     280.144   Cond. No.                     2.51e+03\n",
       "==============================================================================\n",
       "\n",
       "Warnings:\n",
       "[1] Standard Errors assume that the covariance matrix of the errors is correctly specified.\n",
       "[2] The condition number is large, 2.51e+03. This might indicate that there are\n",
       "strong multicollinearity or other numerical problems.\n",
       "\"\"\""
      ]
     },
     "execution_count": 129,
     "metadata": {},
     "output_type": "execute_result"
    }
   ],
   "source": [
    "lm_model.summary()"
   ]
  },
  {
   "cell_type": "markdown",
   "metadata": {},
   "source": [
    "While the length of the text seems to be a much better predictor, whenever the person is extroverted or an introverted also plays the role in what score does it gets."
   ]
  },
  {
   "cell_type": "markdown",
   "metadata": {},
   "source": [
    "## Length of Answers"
   ]
  },
  {
   "cell_type": "markdown",
   "metadata": {},
   "source": [
    "Next we are going to analyze the length of the post by different langauges and type."
   ]
  },
  {
   "cell_type": "code",
   "execution_count": 130,
   "metadata": {
    "collapsed": true
   },
   "outputs": [],
   "source": [
    "data_length_answers = answer_data.copy()"
   ]
  },
  {
   "cell_type": "code",
   "execution_count": 131,
   "metadata": {
    "collapsed": true
   },
   "outputs": [],
   "source": [
    "data_length_answers = data_length_answers.groupby([\"AnswerMBTI\", \"Language\"], as_index=False)[\"BodyLen\"].mean()\n",
    "data_length_answers = data_length_answers.pivot(index='Language', columns='AnswerMBTI', values='BodyLen')"
   ]
  },
  {
   "cell_type": "code",
   "execution_count": 132,
   "metadata": {},
   "outputs": [
    {
     "data": {
      "text/html": [
       "<div>\n",
       "<table border=\"1\" class=\"dataframe\">\n",
       "  <thead>\n",
       "    <tr style=\"text-align: right;\">\n",
       "      <th>AnswerMBTI</th>\n",
       "      <th>ENFJ</th>\n",
       "      <th>ENFP</th>\n",
       "      <th>ENTJ</th>\n",
       "      <th>ENTP</th>\n",
       "      <th>ESFJ</th>\n",
       "      <th>ESFP</th>\n",
       "      <th>ESTJ</th>\n",
       "      <th>ESTP</th>\n",
       "      <th>INFJ</th>\n",
       "      <th>INFP</th>\n",
       "      <th>INTJ</th>\n",
       "      <th>INTP</th>\n",
       "      <th>ISFJ</th>\n",
       "      <th>ISFP</th>\n",
       "      <th>ISTJ</th>\n",
       "      <th>ISTP</th>\n",
       "    </tr>\n",
       "    <tr>\n",
       "      <th>Language</th>\n",
       "      <th></th>\n",
       "      <th></th>\n",
       "      <th></th>\n",
       "      <th></th>\n",
       "      <th></th>\n",
       "      <th></th>\n",
       "      <th></th>\n",
       "      <th></th>\n",
       "      <th></th>\n",
       "      <th></th>\n",
       "      <th></th>\n",
       "      <th></th>\n",
       "      <th></th>\n",
       "      <th></th>\n",
       "      <th></th>\n",
       "      <th></th>\n",
       "    </tr>\n",
       "  </thead>\n",
       "  <tbody>\n",
       "    <tr>\n",
       "      <th>c</th>\n",
       "      <td>433.016393</td>\n",
       "      <td>578.730769</td>\n",
       "      <td>648.780347</td>\n",
       "      <td>601.062500</td>\n",
       "      <td>566.663415</td>\n",
       "      <td>566.244898</td>\n",
       "      <td>589.254098</td>\n",
       "      <td>421.729412</td>\n",
       "      <td>483.252137</td>\n",
       "      <td>510.462585</td>\n",
       "      <td>823.343158</td>\n",
       "      <td>542.581281</td>\n",
       "      <td>604.017857</td>\n",
       "      <td>333.983871</td>\n",
       "      <td>682.780193</td>\n",
       "      <td>387.468966</td>\n",
       "    </tr>\n",
       "    <tr>\n",
       "      <th>c#</th>\n",
       "      <td>453.589286</td>\n",
       "      <td>505.764706</td>\n",
       "      <td>652.317269</td>\n",
       "      <td>708.144928</td>\n",
       "      <td>519.328729</td>\n",
       "      <td>581.764706</td>\n",
       "      <td>545.880597</td>\n",
       "      <td>387.868687</td>\n",
       "      <td>415.375661</td>\n",
       "      <td>451.496183</td>\n",
       "      <td>875.497596</td>\n",
       "      <td>696.420705</td>\n",
       "      <td>553.958333</td>\n",
       "      <td>248.543860</td>\n",
       "      <td>641.120393</td>\n",
       "      <td>433.005051</td>\n",
       "    </tr>\n",
       "    <tr>\n",
       "      <th>c++</th>\n",
       "      <td>535.326923</td>\n",
       "      <td>595.566667</td>\n",
       "      <td>630.655000</td>\n",
       "      <td>530.409836</td>\n",
       "      <td>587.100806</td>\n",
       "      <td>588.707317</td>\n",
       "      <td>629.041667</td>\n",
       "      <td>412.955056</td>\n",
       "      <td>392.865116</td>\n",
       "      <td>436.121429</td>\n",
       "      <td>922.207900</td>\n",
       "      <td>528.082353</td>\n",
       "      <td>574.577586</td>\n",
       "      <td>382.383333</td>\n",
       "      <td>739.191667</td>\n",
       "      <td>396.612500</td>\n",
       "    </tr>\n",
       "    <tr>\n",
       "      <th>java</th>\n",
       "      <td>607.263158</td>\n",
       "      <td>499.428571</td>\n",
       "      <td>715.210046</td>\n",
       "      <td>837.973684</td>\n",
       "      <td>596.043956</td>\n",
       "      <td>488.032258</td>\n",
       "      <td>477.051948</td>\n",
       "      <td>465.315068</td>\n",
       "      <td>366.480392</td>\n",
       "      <td>451.639535</td>\n",
       "      <td>937.624650</td>\n",
       "      <td>667.522727</td>\n",
       "      <td>525.791667</td>\n",
       "      <td>267.375000</td>\n",
       "      <td>786.840295</td>\n",
       "      <td>434.220096</td>\n",
       "    </tr>\n",
       "    <tr>\n",
       "      <th>lisp</th>\n",
       "      <td>800.214286</td>\n",
       "      <td>408.000000</td>\n",
       "      <td>787.875000</td>\n",
       "      <td>942.931818</td>\n",
       "      <td>693.956522</td>\n",
       "      <td>446.631579</td>\n",
       "      <td>666.953488</td>\n",
       "      <td>610.125000</td>\n",
       "      <td>393.970588</td>\n",
       "      <td>445.288462</td>\n",
       "      <td>1112.745192</td>\n",
       "      <td>786.730159</td>\n",
       "      <td>601.347826</td>\n",
       "      <td>691.277778</td>\n",
       "      <td>828.054054</td>\n",
       "      <td>488.169492</td>\n",
       "    </tr>\n",
       "  </tbody>\n",
       "</table>\n",
       "</div>"
      ],
      "text/plain": [
       "AnswerMBTI        ENFJ        ENFP        ENTJ        ENTP        ESFJ  \\\n",
       "Language                                                                 \n",
       "c           433.016393  578.730769  648.780347  601.062500  566.663415   \n",
       "c#          453.589286  505.764706  652.317269  708.144928  519.328729   \n",
       "c++         535.326923  595.566667  630.655000  530.409836  587.100806   \n",
       "java        607.263158  499.428571  715.210046  837.973684  596.043956   \n",
       "lisp        800.214286  408.000000  787.875000  942.931818  693.956522   \n",
       "\n",
       "AnswerMBTI        ESFP        ESTJ        ESTP        INFJ        INFP  \\\n",
       "Language                                                                 \n",
       "c           566.244898  589.254098  421.729412  483.252137  510.462585   \n",
       "c#          581.764706  545.880597  387.868687  415.375661  451.496183   \n",
       "c++         588.707317  629.041667  412.955056  392.865116  436.121429   \n",
       "java        488.032258  477.051948  465.315068  366.480392  451.639535   \n",
       "lisp        446.631579  666.953488  610.125000  393.970588  445.288462   \n",
       "\n",
       "AnswerMBTI         INTJ        INTP        ISFJ        ISFP        ISTJ  \\\n",
       "Language                                                                  \n",
       "c            823.343158  542.581281  604.017857  333.983871  682.780193   \n",
       "c#           875.497596  696.420705  553.958333  248.543860  641.120393   \n",
       "c++          922.207900  528.082353  574.577586  382.383333  739.191667   \n",
       "java         937.624650  667.522727  525.791667  267.375000  786.840295   \n",
       "lisp        1112.745192  786.730159  601.347826  691.277778  828.054054   \n",
       "\n",
       "AnswerMBTI        ISTP  \n",
       "Language                \n",
       "c           387.468966  \n",
       "c#          433.005051  \n",
       "c++         396.612500  \n",
       "java        434.220096  \n",
       "lisp        488.169492  "
      ]
     },
     "execution_count": 132,
     "metadata": {},
     "output_type": "execute_result"
    }
   ],
   "source": [
    "data_length_answers.head()"
   ]
  },
  {
   "cell_type": "code",
   "execution_count": 133,
   "metadata": {},
   "outputs": [
    {
     "data": {
      "text/plain": [
       "<matplotlib.axes._subplots.AxesSubplot at 0x7f63c4179b38>"
      ]
     },
     "execution_count": 133,
     "metadata": {},
     "output_type": "execute_result"
    },
    {
     "data": {
      "image/png": "[encoded data removed]",
      "text/plain": [
       "<matplotlib.figure.Figure at 0x7f63c4179198>"
      ]
     },
     "metadata": {},
     "output_type": "display_data"
    }
   ],
   "source": [
    "data_length_answers.plot(kind=\"bar\", figsize=(16,4))"
   ]
  },
  {
   "cell_type": "markdown",
   "metadata": {},
   "source": [
    "There are visible differences between types. But there does not seems like there is any interesting differences between languages."
   ]
  },
  {
   "cell_type": "code",
   "execution_count": null,
   "metadata": {
    "collapsed": true
   },
   "outputs": [],
   "source": []
  }
 ],
 "metadata": {
  "kernelspec": {
   "display_name": "Python 3",
   "language": "python",
   "name": "python3"
  },
  "language_info": {
   "codemirror_mode": {
    "name": "ipython",
    "version": 3
   },
   "file_extension": ".py",
   "mimetype": "text/x-python",
   "name": "python",
   "nbconvert_exporter": "python",
   "pygments_lexer": "ipython3",
   "version": "3.6.1"
  },
  "widgets": {
   "state": {},
   "version": "1.1.2"
  }
 },
 "nbformat": 4,
 "nbformat_minor": 2
}
